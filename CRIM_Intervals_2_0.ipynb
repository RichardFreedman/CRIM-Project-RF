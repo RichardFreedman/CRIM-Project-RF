{
  "nbformat": 4,
  "nbformat_minor": 0,
  "metadata": {
    "colab": {
      "name": "CRIM_Intervals_2.0.ipynb",
      "provenance": [],
      "collapsed_sections": [],
      "authorship_tag": "ABX9TyN3iMRP8Rf1dxJs2evaxNqn",
      "include_colab_link": true
    },
    "kernelspec": {
      "name": "python3",
      "display_name": "Python 3"
    },
    "language_info": {
      "name": "python"
    }
  },
  "cells": [
    {
      "cell_type": "markdown",
      "metadata": {
        "id": "view-in-github",
        "colab_type": "text"
      },
      "source": [
        "<a href=\"https://colab.research.google.com/github/RichardFreedman/CRIM-Project-RF/blob/master/CRIM_Intervals_2_0.ipynb\" target=\"_parent\"><img src=\"https://colab.research.google.com/assets/colab-badge.svg\" alt=\"Open In Colab\"/></a>"
      ]
    },
    {
      "cell_type": "markdown",
      "metadata": {
        "id": "uqgPHgqXPrJa"
      },
      "source": [
        "### Load CRIM Intervals Software"
      ]
    },
    {
      "cell_type": "code",
      "metadata": {
        "colab": {
          "base_uri": "https://localhost:8080/"
        },
        "id": "JY6rMDPCmYGf",
        "outputId": "e46cfdb4-5de6-4134-8b2c-2a881b189674"
      },
      "source": [
        "!git clone https://github.com/HCDigitalScholarship/intervals.git\n",
        "!pip install httpx\n"
      ],
      "execution_count": 1,
      "outputs": [
        {
          "output_type": "stream",
          "text": [
            "fatal: destination path 'intervals' already exists and is not an empty directory.\n",
            "Requirement already satisfied: httpx in /usr/local/lib/python3.7/dist-packages (0.17.1)\n",
            "Requirement already satisfied: rfc3986[idna2008]<2,>=1.3 in /usr/local/lib/python3.7/dist-packages (from httpx) (1.4.0)\n",
            "Requirement already satisfied: httpcore<0.13,>=0.12.1 in /usr/local/lib/python3.7/dist-packages (from httpx) (0.12.3)\n",
            "Requirement already satisfied: sniffio in /usr/local/lib/python3.7/dist-packages (from httpx) (1.2.0)\n",
            "Requirement already satisfied: certifi in /usr/local/lib/python3.7/dist-packages (from httpx) (2020.12.5)\n",
            "Requirement already satisfied: idna; extra == \"idna2008\" in /usr/local/lib/python3.7/dist-packages (from rfc3986[idna2008]<2,>=1.3->httpx) (2.10)\n",
            "Requirement already satisfied: h11==0.* in /usr/local/lib/python3.7/dist-packages (from httpcore<0.13,>=0.12.1->httpx) (0.12.0)\n"
          ],
          "name": "stdout"
        }
      ]
    },
    {
      "cell_type": "markdown",
      "metadata": {
        "id": "sabnU304P1NU"
      },
      "source": [
        "## Start CRIM Intervals"
      ]
    },
    {
      "cell_type": "code",
      "metadata": {
        "id": "qHbslxGqmexc"
      },
      "source": [
        "from intervals.main_objs import *\n"
      ],
      "execution_count": 2,
      "outputs": []
    },
    {
      "cell_type": "markdown",
      "metadata": {
        "id": "1RkHh_LKP4kt"
      },
      "source": [
        "## Load MEI Files from CRIM or Github by pasting one or more of [these links](https://docs.google.com/spreadsheets/d/1TzRqnzgcYYuQqZR78c5nizIsBWp4pnblm2wbU03uuSQ/edit?auth_email=rfreedma@haverford.edu#gid=0)below.\n",
        "\n",
        "*Note:  each file must be in quotation marks and separated by commas\n",
        "\n",
        "\n",
        "\n",
        "\n",
        "\n"
      ]
    },
    {
      "cell_type": "code",
      "metadata": {
        "colab": {
          "base_uri": "https://localhost:8080/"
        },
        "id": "WhUxkepkmmV6",
        "outputId": "0c46dde2-cfe7-4e34-e0a6-ef8aedabf12e"
      },
      "source": [
        "corpus = CorpusBase(['https://crimproject.org/mei/CRIM_Model_0008.mei', 'https://crimproject.org/mei/CRIM_Mass_0005_5.mei'])\n"
      ],
      "execution_count": 3,
      "outputs": [
        {
          "output_type": "stream",
          "text": [
            "Requesting file from https://crimproject.org/mei/CRIM_Model_0008.mei...\n",
            "Successfully imported.\n",
            "Requesting file from https://crimproject.org/mei/CRIM_Mass_0005_5.mei...\n",
            "Successfully imported.\n"
          ],
          "name": "stdout"
        }
      ]
    },
    {
      "cell_type": "markdown",
      "metadata": {
        "id": "woLnjv-uSLgq"
      },
      "source": [
        "## Give the scores short names, in order according to the way they were listed above"
      ]
    },
    {
      "cell_type": "code",
      "metadata": {
        "id": "OOEp3RaPmnH-"
      },
      "source": [
        "model, mass = corpus.scores"
      ],
      "execution_count": 4,
      "outputs": []
    },
    {
      "cell_type": "markdown",
      "metadata": {
        "id": "q41OFP5FSVSl"
      },
      "source": [
        "## Now apply various methods to the scores:\n",
        "* getNoteRest returns all the notes and rests, each voice as a column\n",
        "* getDuration returns the durations for all notes and rests, as above\n",
        "* getMelodic returns the melodic intervals in each voice as a column\n",
        "* getHarmonic returns pairs of harmonic intervals between each pair of voices\n",
        "* getNgrams  returns segments of various kinds, melodic (one voice) or modular (pairs of voices, including vertical and horizontal motion)\n",
        "\n",
        "\n",
        "\n",
        "\n",
        "---\n",
        "\n",
        "## Documentation available via this command:\n",
        "\n",
        "print(model.getNgrams.__doc__)\n",
        "\n",
        "---\n",
        "\n",
        "\n",
        "\n",
        "\n",
        "\n",
        "\n"
      ]
    },
    {
      "cell_type": "code",
      "metadata": {
        "id": "TqIwSBI_TvBE",
        "colab": {
          "base_uri": "https://localhost:8080/"
        },
        "outputId": "f0d48705-09ad-4ea2-d07c-8ea1f59aa942"
      },
      "source": [
        "print(model.getMelodic.__doc__)"
      ],
      "execution_count": 5,
      "outputs": [
        {
          "output_type": "stream",
          "text": [
            "Return melodic intervals for all voice pairs. Each melodic interval\n",
            "        is associated with the starting offset of the second note in the\n",
            "        interval. \n",
            "\n",
            "        :param str kind: use \"d\" for diatonic intervals without quality, \"q\"\n",
            "            (default) for diatonic intervals with quality, or \"s\" for semitonal\n",
            "            intervals. Only the first character is used, and it's case\n",
            "            insensitive.\n",
            "        :param bool directed: defaults to True which shows that the voice that\n",
            "            is lower on the staff is a higher pitch than the voice that is\n",
            "            higher on the staff. This is desginated with a \"-\" prefix.\n",
            "        :param bool compound: whether to use compound (True, default) or simple\n",
            "            (False) intervals. In the case of simple diatonic intervals, it\n",
            "            simplifies to within the octave, so octaves don't get simplified to\n",
            "            unisons. But for semitonal intervals, an interval of an octave\n",
            "            (12 semitones) would does get simplified to a unison (0).\n",
            "        :returns: `pandas.DataFrame` of melodic intervals in each part\n",
            "        \n"
          ],
          "name": "stdout"
        }
      ]
    },
    {
      "cell_type": "code",
      "metadata": {
        "colab": {
          "base_uri": "https://localhost:8080/",
          "height": 204
        },
        "id": "yh6oPV2KrZaM",
        "outputId": "1c088827-3b98-4ed7-b214-0688ed2cd6ff"
      },
      "source": [
        "notes = mass.getNoteRest()\n",
        "notes.fillna(value= \"-\", inplace=True)\n",
        "notes.head()"
      ],
      "execution_count": 6,
      "outputs": [
        {
          "output_type": "execute_result",
          "data": {
            "text/html": [
              "<div>\n",
              "<style scoped>\n",
              "    .dataframe tbody tr th:only-of-type {\n",
              "        vertical-align: middle;\n",
              "    }\n",
              "\n",
              "    .dataframe tbody tr th {\n",
              "        vertical-align: top;\n",
              "    }\n",
              "\n",
              "    .dataframe thead th {\n",
              "        text-align: right;\n",
              "    }\n",
              "</style>\n",
              "<table border=\"1\" class=\"dataframe\">\n",
              "  <thead>\n",
              "    <tr style=\"text-align: right;\">\n",
              "      <th></th>\n",
              "      <th>Sup[erius]</th>\n",
              "      <th>Altus</th>\n",
              "      <th>Tenor</th>\n",
              "      <th>Bassus</th>\n",
              "    </tr>\n",
              "  </thead>\n",
              "  <tbody>\n",
              "    <tr>\n",
              "      <th>0.0</th>\n",
              "      <td>G4</td>\n",
              "      <td>Rest</td>\n",
              "      <td>Rest</td>\n",
              "      <td>Rest</td>\n",
              "    </tr>\n",
              "    <tr>\n",
              "      <th>4.0</th>\n",
              "      <td>C5</td>\n",
              "      <td>-</td>\n",
              "      <td>-</td>\n",
              "      <td>-</td>\n",
              "    </tr>\n",
              "    <tr>\n",
              "      <th>8.0</th>\n",
              "      <td>-</td>\n",
              "      <td>Rest</td>\n",
              "      <td>Rest</td>\n",
              "      <td>Rest</td>\n",
              "    </tr>\n",
              "    <tr>\n",
              "      <th>12.0</th>\n",
              "      <td>C5</td>\n",
              "      <td>-</td>\n",
              "      <td>-</td>\n",
              "      <td>-</td>\n",
              "    </tr>\n",
              "    <tr>\n",
              "      <th>16.0</th>\n",
              "      <td>D5</td>\n",
              "      <td>G3</td>\n",
              "      <td>Rest</td>\n",
              "      <td>Rest</td>\n",
              "    </tr>\n",
              "  </tbody>\n",
              "</table>\n",
              "</div>"
            ],
            "text/plain": [
              "     Sup[erius] Altus Tenor Bassus\n",
              "0.0          G4  Rest  Rest   Rest\n",
              "4.0          C5     -     -      -\n",
              "8.0           -  Rest  Rest   Rest\n",
              "12.0         C5     -     -      -\n",
              "16.0         D5    G3  Rest   Rest"
            ]
          },
          "metadata": {
            "tags": []
          },
          "execution_count": 6
        }
      ]
    },
    {
      "cell_type": "code",
      "metadata": {
        "id": "pmXfVpnSWrrA",
        "outputId": "60ad6e72-998a-422b-edf0-3a05f1d33309",
        "colab": {
          "base_uri": "https://localhost:8080/"
        }
      },
      "source": [
        "notes.stack().value_counts()"
      ],
      "execution_count": 9,
      "outputs": [
        {
          "output_type": "execute_result",
          "data": {
            "text/plain": [
              "-       828\n",
              "Rest    152\n",
              "E4       57\n",
              "C5       54\n",
              "G4       54\n",
              "C4       49\n",
              "F4       49\n",
              "D5       48\n",
              "D4       47\n",
              "G3       36\n",
              "B3       33\n",
              "E5       33\n",
              "A3       31\n",
              "A4       31\n",
              "B4       30\n",
              "F3       17\n",
              "E3       14\n",
              "F5       13\n",
              "C3       11\n",
              "D3        9\n",
              "G5        3\n",
              "B-3       1\n",
              "dtype: int64"
            ]
          },
          "metadata": {
            "tags": []
          },
          "execution_count": 9
        }
      ]
    },
    {
      "cell_type": "code",
      "metadata": {
        "id": "eLeZuKLvW7qn",
        "outputId": "2d39d163-6de2-4bb0-cb6e-1ed6b1c6ee06",
        "colab": {
          "base_uri": "https://localhost:8080/",
          "height": 731
        }
      },
      "source": [
        "notes.apply(pd.Series.value_counts).fillna(0).astype(int)"
      ],
      "execution_count": 10,
      "outputs": [
        {
          "output_type": "execute_result",
          "data": {
            "text/html": [
              "<div>\n",
              "<style scoped>\n",
              "    .dataframe tbody tr th:only-of-type {\n",
              "        vertical-align: middle;\n",
              "    }\n",
              "\n",
              "    .dataframe tbody tr th {\n",
              "        vertical-align: top;\n",
              "    }\n",
              "\n",
              "    .dataframe thead th {\n",
              "        text-align: right;\n",
              "    }\n",
              "</style>\n",
              "<table border=\"1\" class=\"dataframe\">\n",
              "  <thead>\n",
              "    <tr style=\"text-align: right;\">\n",
              "      <th></th>\n",
              "      <th>Sup[erius]</th>\n",
              "      <th>Altus</th>\n",
              "      <th>Tenor</th>\n",
              "      <th>Bassus</th>\n",
              "    </tr>\n",
              "  </thead>\n",
              "  <tbody>\n",
              "    <tr>\n",
              "      <th>-</th>\n",
              "      <td>164</td>\n",
              "      <td>166</td>\n",
              "      <td>255</td>\n",
              "      <td>243</td>\n",
              "    </tr>\n",
              "    <tr>\n",
              "      <th>A3</th>\n",
              "      <td>0</td>\n",
              "      <td>5</td>\n",
              "      <td>9</td>\n",
              "      <td>17</td>\n",
              "    </tr>\n",
              "    <tr>\n",
              "      <th>A4</th>\n",
              "      <td>18</td>\n",
              "      <td>12</td>\n",
              "      <td>1</td>\n",
              "      <td>0</td>\n",
              "    </tr>\n",
              "    <tr>\n",
              "      <th>B-3</th>\n",
              "      <td>0</td>\n",
              "      <td>0</td>\n",
              "      <td>0</td>\n",
              "      <td>1</td>\n",
              "    </tr>\n",
              "    <tr>\n",
              "      <th>B3</th>\n",
              "      <td>0</td>\n",
              "      <td>10</td>\n",
              "      <td>14</td>\n",
              "      <td>9</td>\n",
              "    </tr>\n",
              "    <tr>\n",
              "      <th>B4</th>\n",
              "      <td>29</td>\n",
              "      <td>1</td>\n",
              "      <td>0</td>\n",
              "      <td>0</td>\n",
              "    </tr>\n",
              "    <tr>\n",
              "      <th>C3</th>\n",
              "      <td>0</td>\n",
              "      <td>0</td>\n",
              "      <td>0</td>\n",
              "      <td>11</td>\n",
              "    </tr>\n",
              "    <tr>\n",
              "      <th>C4</th>\n",
              "      <td>0</td>\n",
              "      <td>26</td>\n",
              "      <td>20</td>\n",
              "      <td>3</td>\n",
              "    </tr>\n",
              "    <tr>\n",
              "      <th>C5</th>\n",
              "      <td>54</td>\n",
              "      <td>0</td>\n",
              "      <td>0</td>\n",
              "      <td>0</td>\n",
              "    </tr>\n",
              "    <tr>\n",
              "      <th>D3</th>\n",
              "      <td>0</td>\n",
              "      <td>0</td>\n",
              "      <td>0</td>\n",
              "      <td>9</td>\n",
              "    </tr>\n",
              "    <tr>\n",
              "      <th>D4</th>\n",
              "      <td>0</td>\n",
              "      <td>33</td>\n",
              "      <td>14</td>\n",
              "      <td>0</td>\n",
              "    </tr>\n",
              "    <tr>\n",
              "      <th>D5</th>\n",
              "      <td>48</td>\n",
              "      <td>0</td>\n",
              "      <td>0</td>\n",
              "      <td>0</td>\n",
              "    </tr>\n",
              "    <tr>\n",
              "      <th>E3</th>\n",
              "      <td>0</td>\n",
              "      <td>0</td>\n",
              "      <td>0</td>\n",
              "      <td>14</td>\n",
              "    </tr>\n",
              "    <tr>\n",
              "      <th>E4</th>\n",
              "      <td>0</td>\n",
              "      <td>44</td>\n",
              "      <td>13</td>\n",
              "      <td>0</td>\n",
              "    </tr>\n",
              "    <tr>\n",
              "      <th>E5</th>\n",
              "      <td>33</td>\n",
              "      <td>0</td>\n",
              "      <td>0</td>\n",
              "      <td>0</td>\n",
              "    </tr>\n",
              "    <tr>\n",
              "      <th>F3</th>\n",
              "      <td>0</td>\n",
              "      <td>0</td>\n",
              "      <td>0</td>\n",
              "      <td>17</td>\n",
              "    </tr>\n",
              "    <tr>\n",
              "      <th>F4</th>\n",
              "      <td>1</td>\n",
              "      <td>41</td>\n",
              "      <td>7</td>\n",
              "      <td>0</td>\n",
              "    </tr>\n",
              "    <tr>\n",
              "      <th>F5</th>\n",
              "      <td>13</td>\n",
              "      <td>0</td>\n",
              "      <td>0</td>\n",
              "      <td>0</td>\n",
              "    </tr>\n",
              "    <tr>\n",
              "      <th>G3</th>\n",
              "      <td>0</td>\n",
              "      <td>6</td>\n",
              "      <td>8</td>\n",
              "      <td>22</td>\n",
              "    </tr>\n",
              "    <tr>\n",
              "      <th>G4</th>\n",
              "      <td>17</td>\n",
              "      <td>34</td>\n",
              "      <td>3</td>\n",
              "      <td>0</td>\n",
              "    </tr>\n",
              "    <tr>\n",
              "      <th>G5</th>\n",
              "      <td>3</td>\n",
              "      <td>0</td>\n",
              "      <td>0</td>\n",
              "      <td>0</td>\n",
              "    </tr>\n",
              "    <tr>\n",
              "      <th>Rest</th>\n",
              "      <td>20</td>\n",
              "      <td>22</td>\n",
              "      <td>56</td>\n",
              "      <td>54</td>\n",
              "    </tr>\n",
              "  </tbody>\n",
              "</table>\n",
              "</div>"
            ],
            "text/plain": [
              "      Sup[erius]  Altus  Tenor  Bassus\n",
              "-            164    166    255     243\n",
              "A3             0      5      9      17\n",
              "A4            18     12      1       0\n",
              "B-3            0      0      0       1\n",
              "B3             0     10     14       9\n",
              "B4            29      1      0       0\n",
              "C3             0      0      0      11\n",
              "C4             0     26     20       3\n",
              "C5            54      0      0       0\n",
              "D3             0      0      0       9\n",
              "D4             0     33     14       0\n",
              "D5            48      0      0       0\n",
              "E3             0      0      0      14\n",
              "E4             0     44     13       0\n",
              "E5            33      0      0       0\n",
              "F3             0      0      0      17\n",
              "F4             1     41      7       0\n",
              "F5            13      0      0       0\n",
              "G3             0      6      8      22\n",
              "G4            17     34      3       0\n",
              "G5             3      0      0       0\n",
              "Rest          20     22     56      54"
            ]
          },
          "metadata": {
            "tags": []
          },
          "execution_count": 10
        }
      ]
    },
    {
      "cell_type": "code",
      "metadata": {
        "id": "loTNxtPfmyo4"
      },
      "source": [
        "mel = mass.getMelodic(kind='d')\n",
        "mel.fillna(value= \"-\", inplace=True)\n",
        "mel.head(10)"
      ],
      "execution_count": null,
      "outputs": []
    },
    {
      "cell_type": "code",
      "metadata": {
        "id": "7CYg4NqysUwF"
      },
      "source": [
        "durs = mass.getDuration()\n",
        "durs.fillna(value= \"-\", inplace=True)\n",
        "durs.head()"
      ],
      "execution_count": null,
      "outputs": []
    },
    {
      "cell_type": "code",
      "metadata": {
        "id": "gcqxZm4Isasv"
      },
      "source": [
        "notes_durs = pd.concat([notes, durs], axis=1)\n",
        "notes_durs"
      ],
      "execution_count": null,
      "outputs": []
    },
    {
      "cell_type": "code",
      "metadata": {
        "id": "7wbhoYMYm49L"
      },
      "source": [
        "mel = model.getMelodic()\n",
        "model.getNgrams(df=mel, n=7)"
      ],
      "execution_count": null,
      "outputs": []
    },
    {
      "cell_type": "code",
      "metadata": {
        "id": "H9pS4PKZrvAp"
      },
      "source": [
        "modules = model.getNgrams(how='modules', cell_type=str)\n",
        "modules.iloc[:, 0:6]\n"
      ],
      "execution_count": null,
      "outputs": []
    }
  ]
}