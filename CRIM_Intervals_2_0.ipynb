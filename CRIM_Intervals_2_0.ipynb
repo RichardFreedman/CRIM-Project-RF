{
  "nbformat": 4,
  "nbformat_minor": 0,
  "metadata": {
    "colab": {
      "name": "CRIM_Intervals_2.0.ipynb",
      "provenance": [],
      "collapsed_sections": [],
      "authorship_tag": "ABX9TyNrb4hG3XP4l/vF3qy8dTBo",
      "include_colab_link": true
    },
    "kernelspec": {
      "name": "python3",
      "display_name": "Python 3"
    },
    "language_info": {
      "name": "python"
    }
  },
  "cells": [
    {
      "cell_type": "markdown",
      "metadata": {
        "id": "view-in-github",
        "colab_type": "text"
      },
      "source": [
        "<a href=\"https://colab.research.google.com/github/RichardFreedman/CRIM-Project-RF/blob/master/CRIM_Intervals_2_0.ipynb\" target=\"_parent\"><img src=\"https://colab.research.google.com/assets/colab-badge.svg\" alt=\"Open In Colab\"/></a>"
      ]
    },
    {
      "cell_type": "markdown",
      "metadata": {
        "id": "uqgPHgqXPrJa"
      },
      "source": [
        "### Load CRIM Intervals Software"
      ]
    },
    {
      "cell_type": "code",
      "metadata": {
        "id": "JY6rMDPCmYGf",
        "colab": {
          "base_uri": "https://localhost:8080/"
        },
        "outputId": "a828455e-03d1-42db-f677-c43173e4535d"
      },
      "source": [
        "import shutil \n",
        "from pathlib import Path\n",
        "intervals = Path('intervals')\n",
        "if intervals.exists():\n",
        "    shutil.rmtree(intervals)\n",
        "    !git clone https://github.com/HCDigitalScholarship/intervals.git\n",
        "    !pip install httpx\n",
        "else:\n",
        "    !git clone https://github.com/HCDigitalScholarship/intervals.git\n",
        "    !pip install httpx"
      ],
      "execution_count": 12,
      "outputs": [
        {
          "output_type": "stream",
          "text": [
            "Cloning into 'intervals'...\n",
            "remote: Enumerating objects: 171, done.\u001b[K\n",
            "remote: Counting objects: 100% (171/171), done.\u001b[K\n",
            "remote: Compressing objects: 100% (129/129), done.\u001b[K\n",
            "remote: Total 171 (delta 83), reused 113 (delta 39), pack-reused 0\u001b[K\n",
            "Receiving objects: 100% (171/171), 67.65 KiB | 5.20 MiB/s, done.\n",
            "Resolving deltas: 100% (83/83), done.\n",
            "Requirement already satisfied: httpx in /usr/local/lib/python3.7/dist-packages (0.16.1)\n",
            "Requirement already satisfied: httpcore==0.12.* in /usr/local/lib/python3.7/dist-packages (from httpx) (0.12.3)\n",
            "Requirement already satisfied: sniffio in /usr/local/lib/python3.7/dist-packages (from httpx) (1.2.0)\n",
            "Requirement already satisfied: rfc3986[idna2008]<2,>=1.3 in /usr/local/lib/python3.7/dist-packages (from httpx) (1.4.0)\n",
            "Requirement already satisfied: certifi in /usr/local/lib/python3.7/dist-packages (from httpx) (2020.12.5)\n",
            "Requirement already satisfied: h11==0.* in /usr/local/lib/python3.7/dist-packages (from httpcore==0.12.*->httpx) (0.12.0)\n",
            "Requirement already satisfied: idna; extra == \"idna2008\" in /usr/local/lib/python3.7/dist-packages (from rfc3986[idna2008]<2,>=1.3->httpx) (2.10)\n"
          ],
          "name": "stdout"
        }
      ]
    },
    {
      "cell_type": "code",
      "metadata": {
        "id": "pSVJ3kScby6D"
      },
      "source": [
        "from intervals.main_objs import *"
      ],
      "execution_count": 13,
      "outputs": []
    },
    {
      "cell_type": "markdown",
      "metadata": {
        "id": "sabnU304P1NU"
      },
      "source": [
        "## Start CRIM Intervals"
      ]
    },
    {
      "cell_type": "markdown",
      "metadata": {
        "id": "1RkHh_LKP4kt"
      },
      "source": [
        "## Load MEI Files from CRIM or Github by pasting one or more of [these links](https://docs.google.com/spreadsheets/d/1TzRqnzgcYYuQqZR78c5nizIsBWp4pnblm2wbU03uuSQ/edit?auth_email=rfreedma@haverford.edu#gid=0) below.\n",
        "\n",
        "*Note:  each file must be in quotation marks and separated by commas\n",
        "\n",
        "\n",
        "\n",
        "\n",
        "\n"
      ]
    },
    {
      "cell_type": "code",
      "metadata": {
        "colab": {
          "base_uri": "https://localhost:8080/"
        },
        "id": "WhUxkepkmmV6",
        "outputId": "7f2ca5eb-2a9e-45c6-b666-7daa322e2287"
      },
      "source": [
        "corpus = CorpusBase(['https://crimproject.org/mei/CRIM_Model_0008.mei', 'https://crimproject.org/mei/CRIM_Mass_0005_5.mei'])\n"
      ],
      "execution_count": 14,
      "outputs": [
        {
          "output_type": "stream",
          "text": [
            "Requesting file from https://crimproject.org/mei/CRIM_Model_0008.mei...\n",
            "Successfully imported.\n",
            "Requesting file from https://crimproject.org/mei/CRIM_Mass_0005_5.mei...\n",
            "Successfully imported.\n"
          ],
          "name": "stdout"
        }
      ]
    },
    {
      "cell_type": "markdown",
      "metadata": {
        "id": "woLnjv-uSLgq"
      },
      "source": [
        "## Give the scores short names, in order according to the way they were listed above"
      ]
    },
    {
      "cell_type": "code",
      "metadata": {
        "id": "OOEp3RaPmnH-"
      },
      "source": [
        "model, mass = corpus.scores"
      ],
      "execution_count": 15,
      "outputs": []
    },
    {
      "cell_type": "markdown",
      "metadata": {
        "id": "q41OFP5FSVSl"
      },
      "source": [
        "## Now apply various methods to the scores:\n",
        "* **getNoteRest** returns all the notes and rests, each voice as a column\n",
        "* **getDuration** returns the durations for all notes and rests, as above\n",
        "* **getMelodic** returns the melodic intervals in each voice as a column\n",
        "* **getHarmonic** returns pairs of harmonic intervals between each pair of voices\n",
        "* **getNgrams**  returns segments of various kinds, melodic (one voice) or modular (pairs of voices, including vertical and horizontal motion)\n",
        "\n",
        "\n",
        "\n",
        "\n",
        "---\n",
        "\n",
        "### Pandas Tools:\n",
        "* **df.value_counts()**  returns summary for each pitch, duration for any type\n",
        "* save results as variable, then:**`.apply(pd.Series.value_counts).fillna(0).astype(int) `**\n",
        "\n",
        "\n",
        "---\n",
        "\n",
        "### Documentation available via this command:\n",
        "* for any method, use the following read documentation:\n",
        "`print(model.getNgrams.__doc__)`\n",
        "\n",
        "---\n",
        "\n",
        "\n",
        "\n",
        "\n",
        "\n",
        "\n"
      ]
    },
    {
      "cell_type": "code",
      "metadata": {
        "id": "TqIwSBI_TvBE",
        "colab": {
          "base_uri": "https://localhost:8080/"
        },
        "outputId": "8bb07fd2-449d-4513-a446-b598028136df"
      },
      "source": [
        "print(model.getMelodic.__doc__)"
      ],
      "execution_count": null,
      "outputs": [
        {
          "output_type": "stream",
          "text": [
            "Return melodic intervals for all voice pairs. Each melodic interval\n",
            "        is associated with the starting offset of the second note in the\n",
            "        interval. \n",
            "\n",
            "        :param str kind: use \"d\" for diatonic intervals without quality, \"q\"\n",
            "            (default) for diatonic intervals with quality, or \"s\" for semitonal\n",
            "            intervals. Only the first character is used, and it's case\n",
            "            insensitive.\n",
            "        :param bool directed: defaults to True which shows that the voice that\n",
            "            is lower on the staff is a higher pitch than the voice that is\n",
            "            higher on the staff. This is desginated with a \"-\" prefix.\n",
            "        :param bool compound: whether to use compound (True, default) or simple\n",
            "            (False) intervals. In the case of simple diatonic intervals, it\n",
            "            simplifies to within the octave, so octaves don't get simplified to\n",
            "            unisons. But for semitonal intervals, an interval of an octave\n",
            "            (12 semitones) would does get simplified to a unison (0).\n",
            "        :returns: `pandas.DataFrame` of melodic intervals in each part\n",
            "        \n"
          ],
          "name": "stdout"
        }
      ]
    },
    {
      "cell_type": "markdown",
      "metadata": {
        "id": "7x89Wxcxdptr"
      },
      "source": [
        "# Notes and Rests"
      ]
    },
    {
      "cell_type": "code",
      "metadata": {
        "colab": {
          "base_uri": "https://localhost:8080/",
          "height": 424
        },
        "id": "yh6oPV2KrZaM",
        "outputId": "fde4c11f-45fe-494d-c2aa-2264cf577ca5"
      },
      "source": [
        "notes = model.getNoteRest()\n",
        "notes.fillna(value= \"-\", inplace=True)\n",
        "notes.reset_index()\n"
      ],
      "execution_count": 23,
      "outputs": [
        {
          "output_type": "execute_result",
          "data": {
            "text/html": [
              "<div>\n",
              "<style scoped>\n",
              "    .dataframe tbody tr th:only-of-type {\n",
              "        vertical-align: middle;\n",
              "    }\n",
              "\n",
              "    .dataframe tbody tr th {\n",
              "        vertical-align: top;\n",
              "    }\n",
              "\n",
              "    .dataframe thead th {\n",
              "        text-align: right;\n",
              "    }\n",
              "</style>\n",
              "<table border=\"1\" class=\"dataframe\">\n",
              "  <thead>\n",
              "    <tr style=\"text-align: right;\">\n",
              "      <th></th>\n",
              "      <th>index</th>\n",
              "      <th>[Superius]</th>\n",
              "      <th>Altus</th>\n",
              "      <th>Tenor</th>\n",
              "      <th>Bassus</th>\n",
              "    </tr>\n",
              "  </thead>\n",
              "  <tbody>\n",
              "    <tr>\n",
              "      <th>0</th>\n",
              "      <td>0.0</td>\n",
              "      <td>G4</td>\n",
              "      <td>Rest</td>\n",
              "      <td>Rest</td>\n",
              "      <td>Rest</td>\n",
              "    </tr>\n",
              "    <tr>\n",
              "      <th>1</th>\n",
              "      <td>4.0</td>\n",
              "      <td>C5</td>\n",
              "      <td>-</td>\n",
              "      <td>-</td>\n",
              "      <td>-</td>\n",
              "    </tr>\n",
              "    <tr>\n",
              "      <th>2</th>\n",
              "      <td>8.0</td>\n",
              "      <td>-</td>\n",
              "      <td>Rest</td>\n",
              "      <td>Rest</td>\n",
              "      <td>Rest</td>\n",
              "    </tr>\n",
              "    <tr>\n",
              "      <th>3</th>\n",
              "      <td>12.0</td>\n",
              "      <td>C5</td>\n",
              "      <td>-</td>\n",
              "      <td>-</td>\n",
              "      <td>-</td>\n",
              "    </tr>\n",
              "    <tr>\n",
              "      <th>4</th>\n",
              "      <td>16.0</td>\n",
              "      <td>D5</td>\n",
              "      <td>G3</td>\n",
              "      <td>Rest</td>\n",
              "      <td>Rest</td>\n",
              "    </tr>\n",
              "    <tr>\n",
              "      <th>...</th>\n",
              "      <td>...</td>\n",
              "      <td>...</td>\n",
              "      <td>...</td>\n",
              "      <td>...</td>\n",
              "      <td>...</td>\n",
              "    </tr>\n",
              "    <tr>\n",
              "      <th>553</th>\n",
              "      <td>1256.0</td>\n",
              "      <td>-</td>\n",
              "      <td>-</td>\n",
              "      <td>D4</td>\n",
              "      <td>G3</td>\n",
              "    </tr>\n",
              "    <tr>\n",
              "      <th>554</th>\n",
              "      <td>1268.0</td>\n",
              "      <td>C5</td>\n",
              "      <td>G4</td>\n",
              "      <td>-</td>\n",
              "      <td>-</td>\n",
              "    </tr>\n",
              "    <tr>\n",
              "      <th>555</th>\n",
              "      <td>1272.0</td>\n",
              "      <td>-</td>\n",
              "      <td>-</td>\n",
              "      <td>C4</td>\n",
              "      <td>C3</td>\n",
              "    </tr>\n",
              "    <tr>\n",
              "      <th>556</th>\n",
              "      <td>1284.0</td>\n",
              "      <td>C5</td>\n",
              "      <td>G4</td>\n",
              "      <td>-</td>\n",
              "      <td>-</td>\n",
              "    </tr>\n",
              "    <tr>\n",
              "      <th>557</th>\n",
              "      <td>1288.0</td>\n",
              "      <td>-</td>\n",
              "      <td>-</td>\n",
              "      <td>C4</td>\n",
              "      <td>C3</td>\n",
              "    </tr>\n",
              "  </tbody>\n",
              "</table>\n",
              "<p>558 rows × 5 columns</p>\n",
              "</div>"
            ],
            "text/plain": [
              "      index [Superius] Altus Tenor Bassus\n",
              "0       0.0         G4  Rest  Rest   Rest\n",
              "1       4.0         C5     -     -      -\n",
              "2       8.0          -  Rest  Rest   Rest\n",
              "3      12.0         C5     -     -      -\n",
              "4      16.0         D5    G3  Rest   Rest\n",
              "..      ...        ...   ...   ...    ...\n",
              "553  1256.0          -     -    D4     G3\n",
              "554  1268.0         C5    G4     -      -\n",
              "555  1272.0          -     -    C4     C3\n",
              "556  1284.0         C5    G4     -      -\n",
              "557  1288.0          -     -    C4     C3\n",
              "\n",
              "[558 rows x 5 columns]"
            ]
          },
          "metadata": {
            "tags": []
          },
          "execution_count": 23
        }
      ]
    },
    {
      "cell_type": "code",
      "metadata": {
        "id": "pmXfVpnSWrrA",
        "colab": {
          "base_uri": "https://localhost:8080/"
        },
        "outputId": "8410287e-f80b-43af-9a48-6ab2a2ed79a7"
      },
      "source": [
        "notes.value_counts()\n",
        "# notes.stack().value_counts()\n"
      ],
      "execution_count": 17,
      "outputs": [
        {
          "output_type": "execute_result",
          "data": {
            "text/plain": [
              "[Superius]  Altus  Tenor  Bassus\n",
              "-           C4     -      -         23\n",
              "C5          -      -      -         17\n",
              "-           E4     -      -         16\n",
              "B4          -      -      -         15\n",
              "-           D4     -      -         14\n",
              "                                    ..\n",
              "D5          -      F4     D3         1\n",
              "                   D4     -          1\n",
              "                   B3     -          1\n",
              "                   A3     F3         1\n",
              "C5          A3     Rest   C3         1\n",
              "Length: 281, dtype: int64"
            ]
          },
          "metadata": {
            "tags": []
          },
          "execution_count": 17
        }
      ]
    },
    {
      "cell_type": "code",
      "metadata": {
        "id": "eLeZuKLvW7qn"
      },
      "source": [
        "df = notes.apply(pd.Series.value_counts).fillna(0).astype(int)\n"
      ],
      "execution_count": 27,
      "outputs": []
    },
    {
      "cell_type": "markdown",
      "metadata": {
        "id": "9Dx3lM6ddw_v"
      },
      "source": [
        "# Melodic Intervals\n",
        "* kind='d' for diatonic; 's' for chromatic/semitone\n",
        "* To save as CSV:  \n",
        "`mel_int.to_csv('file_name.csv')`"
      ]
    },
    {
      "cell_type": "code",
      "metadata": {
        "id": "loTNxtPfmyo4",
        "colab": {
          "base_uri": "https://localhost:8080/",
          "height": 424
        },
        "outputId": "e2786e0e-aab1-45f5-f826-2948c907e7a2"
      },
      "source": [
        "mel_int = mass.getMelodic(kind='d')\n",
        "mel_int.fillna(value= \"-\", inplace=True)\n",
        "mel_int\n",
        "\n"
      ],
      "execution_count": 24,
      "outputs": [
        {
          "output_type": "execute_result",
          "data": {
            "text/html": [
              "<div>\n",
              "<style scoped>\n",
              "    .dataframe tbody tr th:only-of-type {\n",
              "        vertical-align: middle;\n",
              "    }\n",
              "\n",
              "    .dataframe tbody tr th {\n",
              "        vertical-align: top;\n",
              "    }\n",
              "\n",
              "    .dataframe thead th {\n",
              "        text-align: right;\n",
              "    }\n",
              "</style>\n",
              "<table border=\"1\" class=\"dataframe\">\n",
              "  <thead>\n",
              "    <tr style=\"text-align: right;\">\n",
              "      <th></th>\n",
              "      <th>Sup[erius]</th>\n",
              "      <th>Altus</th>\n",
              "      <th>Tenor</th>\n",
              "      <th>Bassus</th>\n",
              "    </tr>\n",
              "  </thead>\n",
              "  <tbody>\n",
              "    <tr>\n",
              "      <th>0.0</th>\n",
              "      <td>-</td>\n",
              "      <td>Rest</td>\n",
              "      <td>Rest</td>\n",
              "      <td>Rest</td>\n",
              "    </tr>\n",
              "    <tr>\n",
              "      <th>4.0</th>\n",
              "      <td>4</td>\n",
              "      <td>-</td>\n",
              "      <td>-</td>\n",
              "      <td>-</td>\n",
              "    </tr>\n",
              "    <tr>\n",
              "      <th>8.0</th>\n",
              "      <td>-</td>\n",
              "      <td>Rest</td>\n",
              "      <td>Rest</td>\n",
              "      <td>Rest</td>\n",
              "    </tr>\n",
              "    <tr>\n",
              "      <th>12.0</th>\n",
              "      <td>1</td>\n",
              "      <td>-</td>\n",
              "      <td>-</td>\n",
              "      <td>-</td>\n",
              "    </tr>\n",
              "    <tr>\n",
              "      <th>16.0</th>\n",
              "      <td>2</td>\n",
              "      <td>-</td>\n",
              "      <td>Rest</td>\n",
              "      <td>Rest</td>\n",
              "    </tr>\n",
              "    <tr>\n",
              "      <th>...</th>\n",
              "      <td>...</td>\n",
              "      <td>...</td>\n",
              "      <td>...</td>\n",
              "      <td>...</td>\n",
              "    </tr>\n",
              "    <tr>\n",
              "      <th>706.0</th>\n",
              "      <td>1</td>\n",
              "      <td>-2</td>\n",
              "      <td>-</td>\n",
              "      <td>-</td>\n",
              "    </tr>\n",
              "    <tr>\n",
              "      <th>707.0</th>\n",
              "      <td>-</td>\n",
              "      <td>-2</td>\n",
              "      <td>-</td>\n",
              "      <td>-</td>\n",
              "    </tr>\n",
              "    <tr>\n",
              "      <th>708.0</th>\n",
              "      <td>-</td>\n",
              "      <td>2</td>\n",
              "      <td>-</td>\n",
              "      <td>-</td>\n",
              "    </tr>\n",
              "    <tr>\n",
              "      <th>710.0</th>\n",
              "      <td>-2</td>\n",
              "      <td>-</td>\n",
              "      <td>-</td>\n",
              "      <td>-</td>\n",
              "    </tr>\n",
              "    <tr>\n",
              "      <th>712.0</th>\n",
              "      <td>2</td>\n",
              "      <td>-2</td>\n",
              "      <td>Rest</td>\n",
              "      <td>Rest</td>\n",
              "    </tr>\n",
              "  </tbody>\n",
              "</table>\n",
              "<p>391 rows × 4 columns</p>\n",
              "</div>"
            ],
            "text/plain": [
              "      Sup[erius] Altus Tenor Bassus\n",
              "0.0            -  Rest  Rest   Rest\n",
              "4.0            4     -     -      -\n",
              "8.0            -  Rest  Rest   Rest\n",
              "12.0           1     -     -      -\n",
              "16.0           2     -  Rest   Rest\n",
              "...          ...   ...   ...    ...\n",
              "706.0          1    -2     -      -\n",
              "707.0          -    -2     -      -\n",
              "708.0          -     2     -      -\n",
              "710.0         -2     -     -      -\n",
              "712.0          2    -2  Rest   Rest\n",
              "\n",
              "[391 rows x 4 columns]"
            ]
          },
          "metadata": {
            "tags": []
          },
          "execution_count": 24
        }
      ]
    },
    {
      "cell_type": "markdown",
      "metadata": {
        "id": "Dk8WIgJOd1lL"
      },
      "source": [
        "# Durations"
      ]
    },
    {
      "cell_type": "code",
      "metadata": {
        "id": "7CYg4NqysUwF",
        "colab": {
          "base_uri": "https://localhost:8080/"
        },
        "outputId": "7632021a-2f11-4573-de32-7132c087381c"
      },
      "source": [
        "durs = mass.getDuration()\n",
        "durs.fillna(value= \"-\", inplace=True)\n",
        "\n"
      ],
      "execution_count": 26,
      "outputs": [
        {
          "output_type": "execute_result",
          "data": {
            "text/plain": [
              "-       828\n",
              "1.0     211\n",
              "4.0     174\n",
              "8.0     149\n",
              "2.0     148\n",
              "3.0      54\n",
              "6.0      21\n",
              "16.0      9\n",
              "24.0      3\n",
              "0.5       2\n",
              "12.0      1\n",
              "dtype: int64"
            ]
          },
          "metadata": {
            "tags": []
          },
          "execution_count": 26
        }
      ]
    },
    {
      "cell_type": "markdown",
      "metadata": {
        "id": "TyUHRjIBd5z3"
      },
      "source": [
        "## Combine Notes and Durations as One DataFrame"
      ]
    },
    {
      "cell_type": "code",
      "metadata": {
        "id": "gcqxZm4Isasv",
        "colab": {
          "base_uri": "https://localhost:8080/",
          "height": 424
        },
        "outputId": "a983cd31-3cff-4e31-be53-caf9edc9c738"
      },
      "source": [
        "notes_durs = pd.concat([notes, durs], axis=1)\n",
        "notes_durs\n"
      ],
      "execution_count": 9,
      "outputs": [
        {
          "output_type": "execute_result",
          "data": {
            "text/html": [
              "<div>\n",
              "<style scoped>\n",
              "    .dataframe tbody tr th:only-of-type {\n",
              "        vertical-align: middle;\n",
              "    }\n",
              "\n",
              "    .dataframe tbody tr th {\n",
              "        vertical-align: top;\n",
              "    }\n",
              "\n",
              "    .dataframe thead th {\n",
              "        text-align: right;\n",
              "    }\n",
              "</style>\n",
              "<table border=\"1\" class=\"dataframe\">\n",
              "  <thead>\n",
              "    <tr style=\"text-align: right;\">\n",
              "      <th></th>\n",
              "      <th>[Superius]</th>\n",
              "      <th>Altus</th>\n",
              "      <th>Tenor</th>\n",
              "      <th>Bassus</th>\n",
              "      <th>Sup[erius]</th>\n",
              "      <th>Altus</th>\n",
              "      <th>Tenor</th>\n",
              "      <th>Bassus</th>\n",
              "    </tr>\n",
              "  </thead>\n",
              "  <tbody>\n",
              "    <tr>\n",
              "      <th>0.0</th>\n",
              "      <td>G4</td>\n",
              "      <td>Rest</td>\n",
              "      <td>Rest</td>\n",
              "      <td>Rest</td>\n",
              "      <td>4</td>\n",
              "      <td>8</td>\n",
              "      <td>8</td>\n",
              "      <td>8</td>\n",
              "    </tr>\n",
              "    <tr>\n",
              "      <th>4.0</th>\n",
              "      <td>C5</td>\n",
              "      <td>-</td>\n",
              "      <td>-</td>\n",
              "      <td>-</td>\n",
              "      <td>8</td>\n",
              "      <td>-</td>\n",
              "      <td>-</td>\n",
              "      <td>-</td>\n",
              "    </tr>\n",
              "    <tr>\n",
              "      <th>8.0</th>\n",
              "      <td>-</td>\n",
              "      <td>Rest</td>\n",
              "      <td>Rest</td>\n",
              "      <td>Rest</td>\n",
              "      <td>-</td>\n",
              "      <td>8</td>\n",
              "      <td>8</td>\n",
              "      <td>8</td>\n",
              "    </tr>\n",
              "    <tr>\n",
              "      <th>12.0</th>\n",
              "      <td>C5</td>\n",
              "      <td>-</td>\n",
              "      <td>-</td>\n",
              "      <td>-</td>\n",
              "      <td>4</td>\n",
              "      <td>-</td>\n",
              "      <td>-</td>\n",
              "      <td>-</td>\n",
              "    </tr>\n",
              "    <tr>\n",
              "      <th>16.0</th>\n",
              "      <td>D5</td>\n",
              "      <td>G3</td>\n",
              "      <td>Rest</td>\n",
              "      <td>Rest</td>\n",
              "      <td>4</td>\n",
              "      <td>4</td>\n",
              "      <td>8</td>\n",
              "      <td>8</td>\n",
              "    </tr>\n",
              "    <tr>\n",
              "      <th>...</th>\n",
              "      <td>...</td>\n",
              "      <td>...</td>\n",
              "      <td>...</td>\n",
              "      <td>...</td>\n",
              "      <td>...</td>\n",
              "      <td>...</td>\n",
              "      <td>...</td>\n",
              "      <td>...</td>\n",
              "    </tr>\n",
              "    <tr>\n",
              "      <th>1256.0</th>\n",
              "      <td>-</td>\n",
              "      <td>-</td>\n",
              "      <td>D4</td>\n",
              "      <td>G3</td>\n",
              "      <td>NaN</td>\n",
              "      <td>NaN</td>\n",
              "      <td>NaN</td>\n",
              "      <td>NaN</td>\n",
              "    </tr>\n",
              "    <tr>\n",
              "      <th>1268.0</th>\n",
              "      <td>C5</td>\n",
              "      <td>G4</td>\n",
              "      <td>-</td>\n",
              "      <td>-</td>\n",
              "      <td>NaN</td>\n",
              "      <td>NaN</td>\n",
              "      <td>NaN</td>\n",
              "      <td>NaN</td>\n",
              "    </tr>\n",
              "    <tr>\n",
              "      <th>1272.0</th>\n",
              "      <td>-</td>\n",
              "      <td>-</td>\n",
              "      <td>C4</td>\n",
              "      <td>C3</td>\n",
              "      <td>NaN</td>\n",
              "      <td>NaN</td>\n",
              "      <td>NaN</td>\n",
              "      <td>NaN</td>\n",
              "    </tr>\n",
              "    <tr>\n",
              "      <th>1284.0</th>\n",
              "      <td>C5</td>\n",
              "      <td>G4</td>\n",
              "      <td>-</td>\n",
              "      <td>-</td>\n",
              "      <td>NaN</td>\n",
              "      <td>NaN</td>\n",
              "      <td>NaN</td>\n",
              "      <td>NaN</td>\n",
              "    </tr>\n",
              "    <tr>\n",
              "      <th>1288.0</th>\n",
              "      <td>-</td>\n",
              "      <td>-</td>\n",
              "      <td>C4</td>\n",
              "      <td>C3</td>\n",
              "      <td>NaN</td>\n",
              "      <td>NaN</td>\n",
              "      <td>NaN</td>\n",
              "      <td>NaN</td>\n",
              "    </tr>\n",
              "  </tbody>\n",
              "</table>\n",
              "<p>701 rows × 8 columns</p>\n",
              "</div>"
            ],
            "text/plain": [
              "       [Superius] Altus Tenor Bassus Sup[erius] Altus Tenor Bassus\n",
              "0.0            G4  Rest  Rest   Rest          4     8     8      8\n",
              "4.0            C5     -     -      -          8     -     -      -\n",
              "8.0             -  Rest  Rest   Rest          -     8     8      8\n",
              "12.0           C5     -     -      -          4     -     -      -\n",
              "16.0           D5    G3  Rest   Rest          4     4     8      8\n",
              "...           ...   ...   ...    ...        ...   ...   ...    ...\n",
              "1256.0          -     -    D4     G3        NaN   NaN   NaN    NaN\n",
              "1268.0         C5    G4     -      -        NaN   NaN   NaN    NaN\n",
              "1272.0          -     -    C4     C3        NaN   NaN   NaN    NaN\n",
              "1284.0         C5    G4     -      -        NaN   NaN   NaN    NaN\n",
              "1288.0          -     -    C4     C3        NaN   NaN   NaN    NaN\n",
              "\n",
              "[701 rows x 8 columns]"
            ]
          },
          "metadata": {
            "tags": []
          },
          "execution_count": 9
        }
      ]
    },
    {
      "cell_type": "markdown",
      "metadata": {
        "id": "rgFL17ZweA2z"
      },
      "source": [
        "# Select Columns for One Voice"
      ]
    },
    {
      "cell_type": "code",
      "metadata": {
        "colab": {
          "base_uri": "https://localhost:8080/",
          "height": 424
        },
        "id": "2SrC4TOa4JyI",
        "outputId": "e2d6d0ff-6310-47c5-c9e0-0cf60e27cea1"
      },
      "source": [
        "notes_durs_s = notes_durs.iloc[:, [0,4]]\n",
        "notes_durs_s"
      ],
      "execution_count": 10,
      "outputs": [
        {
          "output_type": "execute_result",
          "data": {
            "text/html": [
              "<div>\n",
              "<style scoped>\n",
              "    .dataframe tbody tr th:only-of-type {\n",
              "        vertical-align: middle;\n",
              "    }\n",
              "\n",
              "    .dataframe tbody tr th {\n",
              "        vertical-align: top;\n",
              "    }\n",
              "\n",
              "    .dataframe thead th {\n",
              "        text-align: right;\n",
              "    }\n",
              "</style>\n",
              "<table border=\"1\" class=\"dataframe\">\n",
              "  <thead>\n",
              "    <tr style=\"text-align: right;\">\n",
              "      <th></th>\n",
              "      <th>[Superius]</th>\n",
              "      <th>Sup[erius]</th>\n",
              "    </tr>\n",
              "  </thead>\n",
              "  <tbody>\n",
              "    <tr>\n",
              "      <th>0.0</th>\n",
              "      <td>G4</td>\n",
              "      <td>4</td>\n",
              "    </tr>\n",
              "    <tr>\n",
              "      <th>4.0</th>\n",
              "      <td>C5</td>\n",
              "      <td>8</td>\n",
              "    </tr>\n",
              "    <tr>\n",
              "      <th>8.0</th>\n",
              "      <td>-</td>\n",
              "      <td>-</td>\n",
              "    </tr>\n",
              "    <tr>\n",
              "      <th>12.0</th>\n",
              "      <td>C5</td>\n",
              "      <td>4</td>\n",
              "    </tr>\n",
              "    <tr>\n",
              "      <th>16.0</th>\n",
              "      <td>D5</td>\n",
              "      <td>4</td>\n",
              "    </tr>\n",
              "    <tr>\n",
              "      <th>...</th>\n",
              "      <td>...</td>\n",
              "      <td>...</td>\n",
              "    </tr>\n",
              "    <tr>\n",
              "      <th>1256.0</th>\n",
              "      <td>-</td>\n",
              "      <td>NaN</td>\n",
              "    </tr>\n",
              "    <tr>\n",
              "      <th>1268.0</th>\n",
              "      <td>C5</td>\n",
              "      <td>NaN</td>\n",
              "    </tr>\n",
              "    <tr>\n",
              "      <th>1272.0</th>\n",
              "      <td>-</td>\n",
              "      <td>NaN</td>\n",
              "    </tr>\n",
              "    <tr>\n",
              "      <th>1284.0</th>\n",
              "      <td>C5</td>\n",
              "      <td>NaN</td>\n",
              "    </tr>\n",
              "    <tr>\n",
              "      <th>1288.0</th>\n",
              "      <td>-</td>\n",
              "      <td>NaN</td>\n",
              "    </tr>\n",
              "  </tbody>\n",
              "</table>\n",
              "<p>701 rows × 2 columns</p>\n",
              "</div>"
            ],
            "text/plain": [
              "       [Superius] Sup[erius]\n",
              "0.0            G4          4\n",
              "4.0            C5          8\n",
              "8.0             -          -\n",
              "12.0           C5          4\n",
              "16.0           D5          4\n",
              "...           ...        ...\n",
              "1256.0          -        NaN\n",
              "1268.0         C5        NaN\n",
              "1272.0          -        NaN\n",
              "1284.0         C5        NaN\n",
              "1288.0          -        NaN\n",
              "\n",
              "[701 rows x 2 columns]"
            ]
          },
          "metadata": {
            "tags": []
          },
          "execution_count": 10
        }
      ]
    },
    {
      "cell_type": "markdown",
      "metadata": {
        "id": "GmX8RISUeI0d"
      },
      "source": [
        "## N-Grams\n",
        "* for Melodic or Durations"
      ]
    },
    {
      "cell_type": "code",
      "metadata": {
        "id": "7wbhoYMYm49L",
        "colab": {
          "base_uri": "https://localhost:8080/",
          "height": 424
        },
        "outputId": "1c3187db-696b-44de-8342-912761369b35"
      },
      "source": [
        "mel = model.getMelodic()\n",
        "ngrams = model.getNgrams(df=mel, n=5)\n",
        "ngrams\n",
        "# mel2 = mel.iloc[:, [0]]\n",
        "# ngrams = model.getNgrams(df=mel2, n=5)\n",
        "# out = ngrams.value_counts()\n",
        "# out\n",
        "\n",
        "\n",
        "\n"
      ],
      "execution_count": 39,
      "outputs": [
        {
          "output_type": "execute_result",
          "data": {
            "text/html": [
              "<div>\n",
              "<style scoped>\n",
              "    .dataframe tbody tr th:only-of-type {\n",
              "        vertical-align: middle;\n",
              "    }\n",
              "\n",
              "    .dataframe tbody tr th {\n",
              "        vertical-align: top;\n",
              "    }\n",
              "\n",
              "    .dataframe thead th {\n",
              "        text-align: right;\n",
              "    }\n",
              "</style>\n",
              "<table border=\"1\" class=\"dataframe\">\n",
              "  <thead>\n",
              "    <tr style=\"text-align: right;\">\n",
              "      <th></th>\n",
              "      <th>[Superius]</th>\n",
              "      <th>Altus</th>\n",
              "      <th>Tenor</th>\n",
              "      <th>Bassus</th>\n",
              "    </tr>\n",
              "  </thead>\n",
              "  <tbody>\n",
              "    <tr>\n",
              "      <th>4.0</th>\n",
              "      <td>P4, P1, M2, M2, -M3</td>\n",
              "      <td>NaN</td>\n",
              "      <td>NaN</td>\n",
              "      <td>NaN</td>\n",
              "    </tr>\n",
              "    <tr>\n",
              "      <th>20.0</th>\n",
              "      <td>NaN</td>\n",
              "      <td>P4, P1, M2, M2, -M3</td>\n",
              "      <td>NaN</td>\n",
              "      <td>NaN</td>\n",
              "    </tr>\n",
              "    <tr>\n",
              "      <th>36.0</th>\n",
              "      <td>NaN</td>\n",
              "      <td>NaN</td>\n",
              "      <td>P4, P1, M2, M2, -M3</td>\n",
              "      <td>NaN</td>\n",
              "    </tr>\n",
              "    <tr>\n",
              "      <th>52.0</th>\n",
              "      <td>NaN</td>\n",
              "      <td>NaN</td>\n",
              "      <td>NaN</td>\n",
              "      <td>P4, P1, M2, M2, -M3</td>\n",
              "    </tr>\n",
              "    <tr>\n",
              "      <th>62.0</th>\n",
              "      <td>-m2, -M2, -M2, M2, -M2</td>\n",
              "      <td>NaN</td>\n",
              "      <td>NaN</td>\n",
              "      <td>NaN</td>\n",
              "    </tr>\n",
              "    <tr>\n",
              "      <th>...</th>\n",
              "      <td>...</td>\n",
              "      <td>...</td>\n",
              "      <td>...</td>\n",
              "      <td>...</td>\n",
              "    </tr>\n",
              "    <tr>\n",
              "      <th>1208.0</th>\n",
              "      <td>NaN</td>\n",
              "      <td>NaN</td>\n",
              "      <td>-m2, P1, -M2, M2, m2</td>\n",
              "      <td>P5, P1, -M2, -m2, -M2</td>\n",
              "    </tr>\n",
              "    <tr>\n",
              "      <th>1212.0</th>\n",
              "      <td>NaN</td>\n",
              "      <td>NaN</td>\n",
              "      <td>NaN</td>\n",
              "      <td>P1, -M2, -m2, -M2, -M2</td>\n",
              "    </tr>\n",
              "    <tr>\n",
              "      <th>1236.0</th>\n",
              "      <td>P1, -M2, -M2, -m2, m2</td>\n",
              "      <td>P1, P1, -m3, m2, M2</td>\n",
              "      <td>NaN</td>\n",
              "      <td>NaN</td>\n",
              "    </tr>\n",
              "    <tr>\n",
              "      <th>1240.0</th>\n",
              "      <td>-M2, -M2, -m2, m2, P1</td>\n",
              "      <td>P1, -m3, m2, M2, P1</td>\n",
              "      <td>P1, -m2, m2, M2, -M2</td>\n",
              "      <td>P8, -P4, M2, -M2, -P5</td>\n",
              "    </tr>\n",
              "    <tr>\n",
              "      <th>1244.0</th>\n",
              "      <td>NaN</td>\n",
              "      <td>-m3, m2, M2, P1, P1</td>\n",
              "      <td>-m2, m2, M2, -M2, P1</td>\n",
              "      <td>-P4, M2, -M2, -P5, P1</td>\n",
              "    </tr>\n",
              "  </tbody>\n",
              "</table>\n",
              "<p>368 rows × 4 columns</p>\n",
              "</div>"
            ],
            "text/plain": [
              "                    [Superius]  ...                  Bassus\n",
              "4.0        P4, P1, M2, M2, -M3  ...                     NaN\n",
              "20.0                       NaN  ...                     NaN\n",
              "36.0                       NaN  ...                     NaN\n",
              "52.0                       NaN  ...     P4, P1, M2, M2, -M3\n",
              "62.0    -m2, -M2, -M2, M2, -M2  ...                     NaN\n",
              "...                        ...  ...                     ...\n",
              "1208.0                     NaN  ...   P5, P1, -M2, -m2, -M2\n",
              "1212.0                     NaN  ...  P1, -M2, -m2, -M2, -M2\n",
              "1236.0   P1, -M2, -M2, -m2, m2  ...                     NaN\n",
              "1240.0   -M2, -M2, -m2, m2, P1  ...   P8, -P4, M2, -M2, -P5\n",
              "1244.0                     NaN  ...   -P4, M2, -M2, -P5, P1\n",
              "\n",
              "[368 rows x 4 columns]"
            ]
          },
          "metadata": {
            "tags": []
          },
          "execution_count": 39
        }
      ]
    },
    {
      "cell_type": "markdown",
      "metadata": {
        "id": "XS0QHD8yeN0w"
      },
      "source": [
        "# Two-Voice Modules as N-Grams"
      ]
    },
    {
      "cell_type": "code",
      "metadata": {
        "id": "H9pS4PKZrvAp",
        "colab": {
          "base_uri": "https://localhost:8080/",
          "height": 419
        },
        "outputId": "5d7105e7-5faa-4852-89b1-858a3cd10967"
      },
      "source": [
        "modules = model.getNgrams(how='modules', cell_type=str)\n",
        "mod = modules.iloc[:, 0:6]\n",
        "# mod.apply(pd.Series.value_counts).fillna(0).astype(int)\n"
      ],
      "execution_count": null,
      "outputs": [
        {
          "output_type": "execute_result",
          "data": {
            "text/html": [
              "<div>\n",
              "<style scoped>\n",
              "    .dataframe tbody tr th:only-of-type {\n",
              "        vertical-align: middle;\n",
              "    }\n",
              "\n",
              "    .dataframe tbody tr th {\n",
              "        vertical-align: top;\n",
              "    }\n",
              "\n",
              "    .dataframe thead th {\n",
              "        text-align: right;\n",
              "    }\n",
              "</style>\n",
              "<table border=\"1\" class=\"dataframe\">\n",
              "  <thead>\n",
              "    <tr style=\"text-align: right;\">\n",
              "      <th></th>\n",
              "      <th>Bassus_Tenor</th>\n",
              "      <th>Bassus_Altus</th>\n",
              "      <th>Bassus_[Superius]</th>\n",
              "      <th>Tenor_Altus</th>\n",
              "      <th>Tenor_[Superius]</th>\n",
              "      <th>Altus_[Superius]</th>\n",
              "    </tr>\n",
              "  </thead>\n",
              "  <tbody>\n",
              "    <tr>\n",
              "      <th>-2_2, -3_2, -5</th>\n",
              "      <td>0</td>\n",
              "      <td>0</td>\n",
              "      <td>0</td>\n",
              "      <td>1</td>\n",
              "      <td>0</td>\n",
              "      <td>0</td>\n",
              "    </tr>\n",
              "    <tr>\n",
              "      <th>-2_2, -3_Held, -2</th>\n",
              "      <td>0</td>\n",
              "      <td>2</td>\n",
              "      <td>0</td>\n",
              "      <td>0</td>\n",
              "      <td>0</td>\n",
              "      <td>0</td>\n",
              "    </tr>\n",
              "    <tr>\n",
              "      <th>-2_2, -3_Held, -3</th>\n",
              "      <td>0</td>\n",
              "      <td>0</td>\n",
              "      <td>0</td>\n",
              "      <td>2</td>\n",
              "      <td>0</td>\n",
              "      <td>0</td>\n",
              "    </tr>\n",
              "    <tr>\n",
              "      <th>-2_2, 3_Held, 3</th>\n",
              "      <td>0</td>\n",
              "      <td>2</td>\n",
              "      <td>0</td>\n",
              "      <td>0</td>\n",
              "      <td>0</td>\n",
              "      <td>0</td>\n",
              "    </tr>\n",
              "    <tr>\n",
              "      <th>-2_Held, -3_Held, -3</th>\n",
              "      <td>0</td>\n",
              "      <td>0</td>\n",
              "      <td>0</td>\n",
              "      <td>4</td>\n",
              "      <td>0</td>\n",
              "      <td>0</td>\n",
              "    </tr>\n",
              "    <tr>\n",
              "      <th>...</th>\n",
              "      <td>...</td>\n",
              "      <td>...</td>\n",
              "      <td>...</td>\n",
              "      <td>...</td>\n",
              "      <td>...</td>\n",
              "      <td>...</td>\n",
              "    </tr>\n",
              "    <tr>\n",
              "      <th>9_Held, 8_Held, 8</th>\n",
              "      <td>0</td>\n",
              "      <td>2</td>\n",
              "      <td>0</td>\n",
              "      <td>0</td>\n",
              "      <td>0</td>\n",
              "      <td>0</td>\n",
              "    </tr>\n",
              "    <tr>\n",
              "      <th>9_Held, 9_Held, 10</th>\n",
              "      <td>0</td>\n",
              "      <td>0</td>\n",
              "      <td>2</td>\n",
              "      <td>0</td>\n",
              "      <td>0</td>\n",
              "      <td>0</td>\n",
              "    </tr>\n",
              "    <tr>\n",
              "      <th>9_Rest, 10_Held, 9</th>\n",
              "      <td>2</td>\n",
              "      <td>0</td>\n",
              "      <td>0</td>\n",
              "      <td>0</td>\n",
              "      <td>0</td>\n",
              "      <td>0</td>\n",
              "    </tr>\n",
              "    <tr>\n",
              "      <th>9_Rest, 8_Held, 6</th>\n",
              "      <td>0</td>\n",
              "      <td>1</td>\n",
              "      <td>0</td>\n",
              "      <td>0</td>\n",
              "      <td>0</td>\n",
              "      <td>0</td>\n",
              "    </tr>\n",
              "    <tr>\n",
              "      <th>9_Rest, 8_Held, 8</th>\n",
              "      <td>1</td>\n",
              "      <td>0</td>\n",
              "      <td>0</td>\n",
              "      <td>0</td>\n",
              "      <td>0</td>\n",
              "      <td>0</td>\n",
              "    </tr>\n",
              "  </tbody>\n",
              "</table>\n",
              "<p>965 rows × 6 columns</p>\n",
              "</div>"
            ],
            "text/plain": [
              "                      Bassus_Tenor  ...  Altus_[Superius]\n",
              "-2_2, -3_2, -5                   0  ...                 0\n",
              "-2_2, -3_Held, -2                0  ...                 0\n",
              "-2_2, -3_Held, -3                0  ...                 0\n",
              "-2_2, 3_Held, 3                  0  ...                 0\n",
              "-2_Held, -3_Held, -3             0  ...                 0\n",
              "...                            ...  ...               ...\n",
              "9_Held, 8_Held, 8                0  ...                 0\n",
              "9_Held, 9_Held, 10               0  ...                 0\n",
              "9_Rest, 10_Held, 9               2  ...                 0\n",
              "9_Rest, 8_Held, 6                0  ...                 0\n",
              "9_Rest, 8_Held, 8                1  ...                 0\n",
              "\n",
              "[965 rows x 6 columns]"
            ]
          },
          "metadata": {
            "tags": []
          },
          "execution_count": 44
        }
      ]
    },
    {
      "cell_type": "code",
      "metadata": {
        "id": "kWhZbnuSkwaN"
      },
      "source": [
        ""
      ],
      "execution_count": null,
      "outputs": []
    }
  ]
}