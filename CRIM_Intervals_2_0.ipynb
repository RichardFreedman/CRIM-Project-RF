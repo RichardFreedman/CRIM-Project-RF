{
  "nbformat": 4,
  "nbformat_minor": 0,
  "metadata": {
    "colab": {
      "name": "Copy of CRIM_Intervals_2.0.ipynb",
      "provenance": [],
      "collapsed_sections": [],
      "authorship_tag": "ABX9TyN0Rz8aUeGvEX732a50Ug6W",
      "include_colab_link": true
    },
    "kernelspec": {
      "name": "python3",
      "display_name": "Python 3"
    },
    "language_info": {
      "name": "python"
    }
  },
  "cells": [
    {
      "cell_type": "markdown",
      "metadata": {
        "id": "view-in-github",
        "colab_type": "text"
      },
      "source": [
        "<a href=\"https://colab.research.google.com/github/RichardFreedman/CRIM-Project-RF/blob/master/CRIM_Intervals_2_0.ipynb\" target=\"_parent\"><img src=\"https://colab.research.google.com/assets/colab-badge.svg\" alt=\"Open In Colab\"/></a>"
      ]
    },
    {
      "cell_type": "markdown",
      "metadata": {
        "id": "uqgPHgqXPrJa"
      },
      "source": [
        "### Load CRIM Intervals Software"
      ]
    },
    {
      "cell_type": "code",
      "metadata": {
        "colab": {
          "base_uri": "https://localhost:8080/"
        },
        "id": "JY6rMDPCmYGf",
        "outputId": "3a3525c9-65f7-44d8-ae5e-aa29b1d38737"
      },
      "source": [
        "!git clone https://github.com/HCDigitalScholarship/intervals.git\n",
        "!pip install httpx\n"
      ],
      "execution_count": 28,
      "outputs": [
        {
          "output_type": "stream",
          "text": [
            "fatal: destination path 'intervals' already exists and is not an empty directory.\n",
            "Requirement already satisfied: httpx in /usr/local/lib/python3.7/dist-packages (0.17.1)\n",
            "Requirement already satisfied: httpcore<0.13,>=0.12.1 in /usr/local/lib/python3.7/dist-packages (from httpx) (0.12.3)\n",
            "Requirement already satisfied: certifi in /usr/local/lib/python3.7/dist-packages (from httpx) (2020.12.5)\n",
            "Requirement already satisfied: rfc3986[idna2008]<2,>=1.3 in /usr/local/lib/python3.7/dist-packages (from httpx) (1.4.0)\n",
            "Requirement already satisfied: sniffio in /usr/local/lib/python3.7/dist-packages (from httpx) (1.2.0)\n",
            "Requirement already satisfied: h11==0.* in /usr/local/lib/python3.7/dist-packages (from httpcore<0.13,>=0.12.1->httpx) (0.12.0)\n",
            "Requirement already satisfied: idna; extra == \"idna2008\" in /usr/local/lib/python3.7/dist-packages (from rfc3986[idna2008]<2,>=1.3->httpx) (2.10)\n"
          ],
          "name": "stdout"
        }
      ]
    },
    {
      "cell_type": "markdown",
      "metadata": {
        "id": "sabnU304P1NU"
      },
      "source": [
        "## Start CRIM Intervals"
      ]
    },
    {
      "cell_type": "code",
      "metadata": {
        "id": "qHbslxGqmexc"
      },
      "source": [
        "from intervals.main_objs import *\n"
      ],
      "execution_count": 29,
      "outputs": []
    },
    {
      "cell_type": "markdown",
      "metadata": {
        "id": "1RkHh_LKP4kt"
      },
      "source": [
        "## Load MEI Files from CRIM or Github by pasting one or more of [these links](https://docs.google.com/spreadsheets/d/1TzRqnzgcYYuQqZR78c5nizIsBWp4pnblm2wbU03uuSQ/edit?auth_email=rfreedma@haverford.edu#gid=0)below.\n",
        "\n",
        "*Note:  each file must be in quotation marks and separated by commas\n",
        "\n",
        "\n",
        "\n",
        "\n",
        "\n"
      ]
    },
    {
      "cell_type": "code",
      "metadata": {
        "colab": {
          "base_uri": "https://localhost:8080/"
        },
        "id": "WhUxkepkmmV6",
        "outputId": "8fa6420b-e91d-4fb3-c8ca-db14a4c8aa1a"
      },
      "source": [
        "corpus = CorpusBase(['https://crimproject.org/mei/CRIM_Model_0008.mei', 'https://crimproject.org/mei/CRIM_Mass_0005_5.mei'])\n"
      ],
      "execution_count": 30,
      "outputs": [
        {
          "output_type": "stream",
          "text": [
            "Memoized piece detected...\n",
            "Memoized piece detected...\n"
          ],
          "name": "stdout"
        }
      ]
    },
    {
      "cell_type": "markdown",
      "metadata": {
        "id": "woLnjv-uSLgq"
      },
      "source": [
        "## Give the scores short names, in order according to the way they were listed above"
      ]
    },
    {
      "cell_type": "code",
      "metadata": {
        "id": "OOEp3RaPmnH-"
      },
      "source": [
        "model, mass = corpus.scores"
      ],
      "execution_count": 31,
      "outputs": []
    },
    {
      "cell_type": "markdown",
      "metadata": {
        "id": "q41OFP5FSVSl"
      },
      "source": [
        "## Now apply various methods to the scores:\n",
        "* getNoteRest returns all the notes and rests, each voice as a column\n",
        "* getDuration returns the durations for all notes and rests, as above\n",
        "* getMelodic returns the melodic intervals in each voice as a column\n",
        "* getHarmonic returns pairs of harmonic intervals between each pair of voices\n",
        "* getNgrams  returns segments of various kinds, melodic (one voice) or modular (pairs of voices, including vertical and horizontal motion)\n",
        "\n",
        "\n",
        "\n",
        "\n",
        "---\n",
        "\n",
        "## Documentation available via this command:\n",
        "\n",
        "print(model.getNgrams.__doc__)\n",
        "\n",
        "---\n",
        "\n",
        "\n",
        "\n",
        "\n",
        "\n",
        "\n"
      ]
    },
    {
      "cell_type": "code",
      "metadata": {
        "id": "TqIwSBI_TvBE",
        "colab": {
          "base_uri": "https://localhost:8080/"
        },
        "outputId": "7d119688-6839-4076-de25-ee81abb2c331"
      },
      "source": [
        "print(model.getMelodic.__doc__)"
      ],
      "execution_count": 32,
      "outputs": [
        {
          "output_type": "stream",
          "text": [
            "Return melodic intervals for all voice pairs. Each melodic interval\n",
            "        is associated with the starting offset of the second note in the\n",
            "        interval. \n",
            "\n",
            "        :param str kind: use \"d\" for diatonic intervals without quality, \"q\"\n",
            "            (default) for diatonic intervals with quality, or \"s\" for semitonal\n",
            "            intervals. Only the first character is used, and it's case\n",
            "            insensitive.\n",
            "        :param bool directed: defaults to True which shows that the voice that\n",
            "            is lower on the staff is a higher pitch than the voice that is\n",
            "            higher on the staff. This is desginated with a \"-\" prefix.\n",
            "        :param bool compound: whether to use compound (True, default) or simple\n",
            "            (False) intervals. In the case of simple diatonic intervals, it\n",
            "            simplifies to within the octave, so octaves don't get simplified to\n",
            "            unisons. But for semitonal intervals, an interval of an octave\n",
            "            (12 semitones) would does get simplified to a unison (0).\n",
            "        :returns: `pandas.DataFrame` of melodic intervals in each part\n",
            "        \n"
          ],
          "name": "stdout"
        }
      ]
    },
    {
      "cell_type": "code",
      "metadata": {
        "colab": {
          "base_uri": "https://localhost:8080/",
          "height": 206
        },
        "id": "yh6oPV2KrZaM",
        "outputId": "4bc73303-17ee-4d1f-de63-d6d362e5dc3f"
      },
      "source": [
        "notes = mass.getNoteRest()\n",
        "notes.fillna(value= \"-\", inplace=True)\n",
        "notes.head()"
      ],
      "execution_count": 33,
      "outputs": [
        {
          "output_type": "execute_result",
          "data": {
            "text/html": [
              "<div>\n",
              "<style scoped>\n",
              "    .dataframe tbody tr th:only-of-type {\n",
              "        vertical-align: middle;\n",
              "    }\n",
              "\n",
              "    .dataframe tbody tr th {\n",
              "        vertical-align: top;\n",
              "    }\n",
              "\n",
              "    .dataframe thead th {\n",
              "        text-align: right;\n",
              "    }\n",
              "</style>\n",
              "<table border=\"1\" class=\"dataframe\">\n",
              "  <thead>\n",
              "    <tr style=\"text-align: right;\">\n",
              "      <th></th>\n",
              "      <th>Sup[erius]</th>\n",
              "      <th>Altus</th>\n",
              "      <th>Tenor</th>\n",
              "      <th>Bassus</th>\n",
              "    </tr>\n",
              "  </thead>\n",
              "  <tbody>\n",
              "    <tr>\n",
              "      <th>0.0</th>\n",
              "      <td>G4</td>\n",
              "      <td>Rest</td>\n",
              "      <td>Rest</td>\n",
              "      <td>Rest</td>\n",
              "    </tr>\n",
              "    <tr>\n",
              "      <th>4.0</th>\n",
              "      <td>C5</td>\n",
              "      <td>-</td>\n",
              "      <td>-</td>\n",
              "      <td>-</td>\n",
              "    </tr>\n",
              "    <tr>\n",
              "      <th>8.0</th>\n",
              "      <td>-</td>\n",
              "      <td>Rest</td>\n",
              "      <td>Rest</td>\n",
              "      <td>Rest</td>\n",
              "    </tr>\n",
              "    <tr>\n",
              "      <th>12.0</th>\n",
              "      <td>C5</td>\n",
              "      <td>-</td>\n",
              "      <td>-</td>\n",
              "      <td>-</td>\n",
              "    </tr>\n",
              "    <tr>\n",
              "      <th>16.0</th>\n",
              "      <td>D5</td>\n",
              "      <td>G3</td>\n",
              "      <td>Rest</td>\n",
              "      <td>Rest</td>\n",
              "    </tr>\n",
              "  </tbody>\n",
              "</table>\n",
              "</div>"
            ],
            "text/plain": [
              "     Sup[erius] Altus Tenor Bassus\n",
              "0.0          G4  Rest  Rest   Rest\n",
              "4.0          C5     -     -      -\n",
              "8.0           -  Rest  Rest   Rest\n",
              "12.0         C5     -     -      -\n",
              "16.0         D5    G3  Rest   Rest"
            ]
          },
          "metadata": {
            "tags": []
          },
          "execution_count": 33
        }
      ]
    },
    {
      "cell_type": "code",
      "metadata": {
        "colab": {
          "base_uri": "https://localhost:8080/",
          "height": 363
        },
        "id": "loTNxtPfmyo4",
        "outputId": "f9aa9403-f2c6-4310-9d6b-44253b66e9bb"
      },
      "source": [
        "mel = mass.getMelodic(kind='d')\n",
        "mel.fillna(value= \"-\", inplace=True)\n",
        "mel.head(10)"
      ],
      "execution_count": 34,
      "outputs": [
        {
          "output_type": "execute_result",
          "data": {
            "text/html": [
              "<div>\n",
              "<style scoped>\n",
              "    .dataframe tbody tr th:only-of-type {\n",
              "        vertical-align: middle;\n",
              "    }\n",
              "\n",
              "    .dataframe tbody tr th {\n",
              "        vertical-align: top;\n",
              "    }\n",
              "\n",
              "    .dataframe thead th {\n",
              "        text-align: right;\n",
              "    }\n",
              "</style>\n",
              "<table border=\"1\" class=\"dataframe\">\n",
              "  <thead>\n",
              "    <tr style=\"text-align: right;\">\n",
              "      <th></th>\n",
              "      <th>Sup[erius]</th>\n",
              "      <th>Altus</th>\n",
              "      <th>Tenor</th>\n",
              "      <th>Bassus</th>\n",
              "    </tr>\n",
              "  </thead>\n",
              "  <tbody>\n",
              "    <tr>\n",
              "      <th>0.0</th>\n",
              "      <td>-</td>\n",
              "      <td>Rest</td>\n",
              "      <td>Rest</td>\n",
              "      <td>Rest</td>\n",
              "    </tr>\n",
              "    <tr>\n",
              "      <th>4.0</th>\n",
              "      <td>4</td>\n",
              "      <td>-</td>\n",
              "      <td>-</td>\n",
              "      <td>-</td>\n",
              "    </tr>\n",
              "    <tr>\n",
              "      <th>8.0</th>\n",
              "      <td>-</td>\n",
              "      <td>Rest</td>\n",
              "      <td>Rest</td>\n",
              "      <td>Rest</td>\n",
              "    </tr>\n",
              "    <tr>\n",
              "      <th>12.0</th>\n",
              "      <td>1</td>\n",
              "      <td>-</td>\n",
              "      <td>-</td>\n",
              "      <td>-</td>\n",
              "    </tr>\n",
              "    <tr>\n",
              "      <th>16.0</th>\n",
              "      <td>2</td>\n",
              "      <td>-</td>\n",
              "      <td>Rest</td>\n",
              "      <td>Rest</td>\n",
              "    </tr>\n",
              "    <tr>\n",
              "      <th>20.0</th>\n",
              "      <td>2</td>\n",
              "      <td>4</td>\n",
              "      <td>-</td>\n",
              "      <td>-</td>\n",
              "    </tr>\n",
              "    <tr>\n",
              "      <th>24.0</th>\n",
              "      <td>-3</td>\n",
              "      <td>-</td>\n",
              "      <td>Rest</td>\n",
              "      <td>Rest</td>\n",
              "    </tr>\n",
              "    <tr>\n",
              "      <th>28.0</th>\n",
              "      <td>-</td>\n",
              "      <td>1</td>\n",
              "      <td>-</td>\n",
              "      <td>-</td>\n",
              "    </tr>\n",
              "    <tr>\n",
              "      <th>32.0</th>\n",
              "      <td>Rest</td>\n",
              "      <td>2</td>\n",
              "      <td>-</td>\n",
              "      <td>Rest</td>\n",
              "    </tr>\n",
              "    <tr>\n",
              "      <th>36.0</th>\n",
              "      <td>-</td>\n",
              "      <td>2</td>\n",
              "      <td>4</td>\n",
              "      <td>-</td>\n",
              "    </tr>\n",
              "  </tbody>\n",
              "</table>\n",
              "</div>"
            ],
            "text/plain": [
              "     Sup[erius] Altus Tenor Bassus\n",
              "0.0           -  Rest  Rest   Rest\n",
              "4.0           4     -     -      -\n",
              "8.0           -  Rest  Rest   Rest\n",
              "12.0          1     -     -      -\n",
              "16.0          2     -  Rest   Rest\n",
              "20.0          2     4     -      -\n",
              "24.0         -3     -  Rest   Rest\n",
              "28.0          -     1     -      -\n",
              "32.0       Rest     2     -   Rest\n",
              "36.0          -     2     4      -"
            ]
          },
          "metadata": {
            "tags": []
          },
          "execution_count": 34
        }
      ]
    },
    {
      "cell_type": "code",
      "metadata": {
        "colab": {
          "base_uri": "https://localhost:8080/",
          "height": 206
        },
        "id": "7CYg4NqysUwF",
        "outputId": "0edd8367-4b07-44c0-bb33-4148d36104b9"
      },
      "source": [
        "durs = mass.getDuration()\n",
        "durs.fillna(value= \"-\", inplace=True)\n",
        "durs.head()"
      ],
      "execution_count": 35,
      "outputs": [
        {
          "output_type": "execute_result",
          "data": {
            "text/html": [
              "<div>\n",
              "<style scoped>\n",
              "    .dataframe tbody tr th:only-of-type {\n",
              "        vertical-align: middle;\n",
              "    }\n",
              "\n",
              "    .dataframe tbody tr th {\n",
              "        vertical-align: top;\n",
              "    }\n",
              "\n",
              "    .dataframe thead th {\n",
              "        text-align: right;\n",
              "    }\n",
              "</style>\n",
              "<table border=\"1\" class=\"dataframe\">\n",
              "  <thead>\n",
              "    <tr style=\"text-align: right;\">\n",
              "      <th></th>\n",
              "      <th>Sup[erius]</th>\n",
              "      <th>Altus</th>\n",
              "      <th>Tenor</th>\n",
              "      <th>Bassus</th>\n",
              "    </tr>\n",
              "  </thead>\n",
              "  <tbody>\n",
              "    <tr>\n",
              "      <th>0.0</th>\n",
              "      <td>4</td>\n",
              "      <td>8</td>\n",
              "      <td>8</td>\n",
              "      <td>8</td>\n",
              "    </tr>\n",
              "    <tr>\n",
              "      <th>4.0</th>\n",
              "      <td>8</td>\n",
              "      <td>-</td>\n",
              "      <td>-</td>\n",
              "      <td>-</td>\n",
              "    </tr>\n",
              "    <tr>\n",
              "      <th>8.0</th>\n",
              "      <td>-</td>\n",
              "      <td>8</td>\n",
              "      <td>8</td>\n",
              "      <td>8</td>\n",
              "    </tr>\n",
              "    <tr>\n",
              "      <th>12.0</th>\n",
              "      <td>4</td>\n",
              "      <td>-</td>\n",
              "      <td>-</td>\n",
              "      <td>-</td>\n",
              "    </tr>\n",
              "    <tr>\n",
              "      <th>16.0</th>\n",
              "      <td>4</td>\n",
              "      <td>4</td>\n",
              "      <td>8</td>\n",
              "      <td>8</td>\n",
              "    </tr>\n",
              "  </tbody>\n",
              "</table>\n",
              "</div>"
            ],
            "text/plain": [
              "     Sup[erius] Altus Tenor Bassus\n",
              "0.0           4     8     8      8\n",
              "4.0           8     -     -      -\n",
              "8.0           -     8     8      8\n",
              "12.0          4     -     -      -\n",
              "16.0          4     4     8      8"
            ]
          },
          "metadata": {
            "tags": []
          },
          "execution_count": 35
        }
      ]
    },
    {
      "cell_type": "code",
      "metadata": {
        "colab": {
          "base_uri": "https://localhost:8080/",
          "height": 424
        },
        "id": "gcqxZm4Isasv",
        "outputId": "a70f7edb-3a5e-487a-8030-89a03ce623b2"
      },
      "source": [
        "notes_durs = pd.concat([notes, durs], axis=1)\n",
        "notes_durs"
      ],
      "execution_count": 36,
      "outputs": [
        {
          "output_type": "execute_result",
          "data": {
            "text/html": [
              "<div>\n",
              "<style scoped>\n",
              "    .dataframe tbody tr th:only-of-type {\n",
              "        vertical-align: middle;\n",
              "    }\n",
              "\n",
              "    .dataframe tbody tr th {\n",
              "        vertical-align: top;\n",
              "    }\n",
              "\n",
              "    .dataframe thead th {\n",
              "        text-align: right;\n",
              "    }\n",
              "</style>\n",
              "<table border=\"1\" class=\"dataframe\">\n",
              "  <thead>\n",
              "    <tr style=\"text-align: right;\">\n",
              "      <th></th>\n",
              "      <th>Sup[erius]</th>\n",
              "      <th>Altus</th>\n",
              "      <th>Tenor</th>\n",
              "      <th>Bassus</th>\n",
              "      <th>Sup[erius]</th>\n",
              "      <th>Altus</th>\n",
              "      <th>Tenor</th>\n",
              "      <th>Bassus</th>\n",
              "    </tr>\n",
              "  </thead>\n",
              "  <tbody>\n",
              "    <tr>\n",
              "      <th>0.0</th>\n",
              "      <td>G4</td>\n",
              "      <td>Rest</td>\n",
              "      <td>Rest</td>\n",
              "      <td>Rest</td>\n",
              "      <td>4</td>\n",
              "      <td>8</td>\n",
              "      <td>8</td>\n",
              "      <td>8</td>\n",
              "    </tr>\n",
              "    <tr>\n",
              "      <th>4.0</th>\n",
              "      <td>C5</td>\n",
              "      <td>-</td>\n",
              "      <td>-</td>\n",
              "      <td>-</td>\n",
              "      <td>8</td>\n",
              "      <td>-</td>\n",
              "      <td>-</td>\n",
              "      <td>-</td>\n",
              "    </tr>\n",
              "    <tr>\n",
              "      <th>8.0</th>\n",
              "      <td>-</td>\n",
              "      <td>Rest</td>\n",
              "      <td>Rest</td>\n",
              "      <td>Rest</td>\n",
              "      <td>-</td>\n",
              "      <td>8</td>\n",
              "      <td>8</td>\n",
              "      <td>8</td>\n",
              "    </tr>\n",
              "    <tr>\n",
              "      <th>12.0</th>\n",
              "      <td>C5</td>\n",
              "      <td>-</td>\n",
              "      <td>-</td>\n",
              "      <td>-</td>\n",
              "      <td>4</td>\n",
              "      <td>-</td>\n",
              "      <td>-</td>\n",
              "      <td>-</td>\n",
              "    </tr>\n",
              "    <tr>\n",
              "      <th>16.0</th>\n",
              "      <td>D5</td>\n",
              "      <td>G3</td>\n",
              "      <td>Rest</td>\n",
              "      <td>Rest</td>\n",
              "      <td>4</td>\n",
              "      <td>4</td>\n",
              "      <td>8</td>\n",
              "      <td>8</td>\n",
              "    </tr>\n",
              "    <tr>\n",
              "      <th>...</th>\n",
              "      <td>...</td>\n",
              "      <td>...</td>\n",
              "      <td>...</td>\n",
              "      <td>...</td>\n",
              "      <td>...</td>\n",
              "      <td>...</td>\n",
              "      <td>...</td>\n",
              "      <td>...</td>\n",
              "    </tr>\n",
              "    <tr>\n",
              "      <th>706.0</th>\n",
              "      <td>C5</td>\n",
              "      <td>D4</td>\n",
              "      <td>-</td>\n",
              "      <td>-</td>\n",
              "      <td>4</td>\n",
              "      <td>1</td>\n",
              "      <td>-</td>\n",
              "      <td>-</td>\n",
              "    </tr>\n",
              "    <tr>\n",
              "      <th>707.0</th>\n",
              "      <td>-</td>\n",
              "      <td>C4</td>\n",
              "      <td>-</td>\n",
              "      <td>-</td>\n",
              "      <td>-</td>\n",
              "      <td>1</td>\n",
              "      <td>-</td>\n",
              "      <td>-</td>\n",
              "    </tr>\n",
              "    <tr>\n",
              "      <th>708.0</th>\n",
              "      <td>-</td>\n",
              "      <td>D4</td>\n",
              "      <td>-</td>\n",
              "      <td>-</td>\n",
              "      <td>-</td>\n",
              "      <td>4</td>\n",
              "      <td>-</td>\n",
              "      <td>-</td>\n",
              "    </tr>\n",
              "    <tr>\n",
              "      <th>710.0</th>\n",
              "      <td>B4</td>\n",
              "      <td>-</td>\n",
              "      <td>-</td>\n",
              "      <td>-</td>\n",
              "      <td>2</td>\n",
              "      <td>-</td>\n",
              "      <td>-</td>\n",
              "      <td>-</td>\n",
              "    </tr>\n",
              "    <tr>\n",
              "      <th>712.0</th>\n",
              "      <td>C5</td>\n",
              "      <td>C4</td>\n",
              "      <td>Rest</td>\n",
              "      <td>Rest</td>\n",
              "      <td>16</td>\n",
              "      <td>16</td>\n",
              "      <td>16</td>\n",
              "      <td>16</td>\n",
              "    </tr>\n",
              "  </tbody>\n",
              "</table>\n",
              "<p>400 rows × 8 columns</p>\n",
              "</div>"
            ],
            "text/plain": [
              "      Sup[erius] Altus Tenor Bassus Sup[erius] Altus Tenor Bassus\n",
              "0.0           G4  Rest  Rest   Rest          4     8     8      8\n",
              "4.0           C5     -     -      -          8     -     -      -\n",
              "8.0            -  Rest  Rest   Rest          -     8     8      8\n",
              "12.0          C5     -     -      -          4     -     -      -\n",
              "16.0          D5    G3  Rest   Rest          4     4     8      8\n",
              "...          ...   ...   ...    ...        ...   ...   ...    ...\n",
              "706.0         C5    D4     -      -          4     1     -      -\n",
              "707.0          -    C4     -      -          -     1     -      -\n",
              "708.0          -    D4     -      -          -     4     -      -\n",
              "710.0         B4     -     -      -          2     -     -      -\n",
              "712.0         C5    C4  Rest   Rest         16    16    16     16\n",
              "\n",
              "[400 rows x 8 columns]"
            ]
          },
          "metadata": {
            "tags": []
          },
          "execution_count": 36
        }
      ]
    },
    {
      "cell_type": "code",
      "metadata": {
        "id": "7wbhoYMYm49L",
        "colab": {
          "base_uri": "https://localhost:8080/",
          "height": 424
        },
        "outputId": "f3a97aae-eab9-47a4-fff1-935d7db3fd39"
      },
      "source": [
        "mel = model.getMelodic()\n",
        "model.getNgrams(df=mel, n=7)"
      ],
      "execution_count": 40,
      "outputs": [
        {
          "output_type": "execute_result",
          "data": {
            "text/html": [
              "<div>\n",
              "<style scoped>\n",
              "    .dataframe tbody tr th:only-of-type {\n",
              "        vertical-align: middle;\n",
              "    }\n",
              "\n",
              "    .dataframe tbody tr th {\n",
              "        vertical-align: top;\n",
              "    }\n",
              "\n",
              "    .dataframe thead th {\n",
              "        text-align: right;\n",
              "    }\n",
              "</style>\n",
              "<table border=\"1\" class=\"dataframe\">\n",
              "  <thead>\n",
              "    <tr style=\"text-align: right;\">\n",
              "      <th></th>\n",
              "      <th>[Superius]</th>\n",
              "      <th>Altus</th>\n",
              "      <th>Tenor</th>\n",
              "      <th>Bassus</th>\n",
              "    </tr>\n",
              "  </thead>\n",
              "  <tbody>\n",
              "    <tr>\n",
              "      <th>62.0</th>\n",
              "      <td>-m2, -M2, -M2, M2, -M2, P4, -m2</td>\n",
              "      <td>NaN</td>\n",
              "      <td>NaN</td>\n",
              "      <td>NaN</td>\n",
              "    </tr>\n",
              "    <tr>\n",
              "      <th>64.0</th>\n",
              "      <td>-M2, -M2, M2, -M2, P4, -m2, -M2</td>\n",
              "      <td>NaN</td>\n",
              "      <td>NaN</td>\n",
              "      <td>NaN</td>\n",
              "    </tr>\n",
              "    <tr>\n",
              "      <th>68.0</th>\n",
              "      <td>-M2, M2, -M2, P4, -m2, -M2, M2</td>\n",
              "      <td>NaN</td>\n",
              "      <td>NaN</td>\n",
              "      <td>NaN</td>\n",
              "    </tr>\n",
              "    <tr>\n",
              "      <th>72.0</th>\n",
              "      <td>M2, -M2, P4, -m2, -M2, M2, m2</td>\n",
              "      <td>NaN</td>\n",
              "      <td>NaN</td>\n",
              "      <td>NaN</td>\n",
              "    </tr>\n",
              "    <tr>\n",
              "      <th>78.0</th>\n",
              "      <td>NaN</td>\n",
              "      <td>-m2, -M2, -M2, M2, -M2, P4, -m2</td>\n",
              "      <td>NaN</td>\n",
              "      <td>NaN</td>\n",
              "    </tr>\n",
              "    <tr>\n",
              "      <th>...</th>\n",
              "      <td>...</td>\n",
              "      <td>...</td>\n",
              "      <td>...</td>\n",
              "      <td>...</td>\n",
              "    </tr>\n",
              "    <tr>\n",
              "      <th>1167.0</th>\n",
              "      <td>NaN</td>\n",
              "      <td>NaN</td>\n",
              "      <td>NaN</td>\n",
              "      <td>-m2, m2, M2, -m3, m2, -m2, -M2</td>\n",
              "    </tr>\n",
              "    <tr>\n",
              "      <th>1168.0</th>\n",
              "      <td>NaN</td>\n",
              "      <td>NaN</td>\n",
              "      <td>NaN</td>\n",
              "      <td>m2, M2, -m3, m2, -m2, -M2, -M2</td>\n",
              "    </tr>\n",
              "    <tr>\n",
              "      <th>1170.0</th>\n",
              "      <td>NaN</td>\n",
              "      <td>NaN</td>\n",
              "      <td>NaN</td>\n",
              "      <td>M2, -m3, m2, -m2, -M2, -M2, M2</td>\n",
              "    </tr>\n",
              "    <tr>\n",
              "      <th>1172.0</th>\n",
              "      <td>NaN</td>\n",
              "      <td>NaN</td>\n",
              "      <td>NaN</td>\n",
              "      <td>-m3, m2, -m2, -M2, -M2, M2, -M2</td>\n",
              "    </tr>\n",
              "    <tr>\n",
              "      <th>1236.0</th>\n",
              "      <td>NaN</td>\n",
              "      <td>P1, P1, -m3, m2, M2, P1, P1</td>\n",
              "      <td>NaN</td>\n",
              "      <td>NaN</td>\n",
              "    </tr>\n",
              "  </tbody>\n",
              "</table>\n",
              "<p>286 rows × 4 columns</p>\n",
              "</div>"
            ],
            "text/plain": [
              "                             [Superius]  ...                           Bassus\n",
              "62.0    -m2, -M2, -M2, M2, -M2, P4, -m2  ...                              NaN\n",
              "64.0    -M2, -M2, M2, -M2, P4, -m2, -M2  ...                              NaN\n",
              "68.0     -M2, M2, -M2, P4, -m2, -M2, M2  ...                              NaN\n",
              "72.0      M2, -M2, P4, -m2, -M2, M2, m2  ...                              NaN\n",
              "78.0                                NaN  ...                              NaN\n",
              "...                                 ...  ...                              ...\n",
              "1167.0                              NaN  ...   -m2, m2, M2, -m3, m2, -m2, -M2\n",
              "1168.0                              NaN  ...   m2, M2, -m3, m2, -m2, -M2, -M2\n",
              "1170.0                              NaN  ...   M2, -m3, m2, -m2, -M2, -M2, M2\n",
              "1172.0                              NaN  ...  -m3, m2, -m2, -M2, -M2, M2, -M2\n",
              "1236.0                              NaN  ...                              NaN\n",
              "\n",
              "[286 rows x 4 columns]"
            ]
          },
          "metadata": {
            "tags": []
          },
          "execution_count": 40
        }
      ]
    },
    {
      "cell_type": "code",
      "metadata": {
        "id": "H9pS4PKZrvAp",
        "colab": {
          "base_uri": "https://localhost:8080/",
          "height": 424
        },
        "outputId": "f2309581-24d6-4abb-961a-764dccd5d2d4"
      },
      "source": [
        "modules = model.getNgrams(how='modules', cell_type=str)\n",
        "modules.iloc[:, 0:6]\n"
      ],
      "execution_count": 41,
      "outputs": [
        {
          "output_type": "execute_result",
          "data": {
            "text/html": [
              "<div>\n",
              "<style scoped>\n",
              "    .dataframe tbody tr th:only-of-type {\n",
              "        vertical-align: middle;\n",
              "    }\n",
              "\n",
              "    .dataframe tbody tr th {\n",
              "        vertical-align: top;\n",
              "    }\n",
              "\n",
              "    .dataframe thead th {\n",
              "        text-align: right;\n",
              "    }\n",
              "</style>\n",
              "<table border=\"1\" class=\"dataframe\">\n",
              "  <thead>\n",
              "    <tr style=\"text-align: right;\">\n",
              "      <th></th>\n",
              "      <th>Bassus_Tenor</th>\n",
              "      <th>Bassus_Altus</th>\n",
              "      <th>Bassus_[Superius]</th>\n",
              "      <th>Tenor_Altus</th>\n",
              "      <th>Tenor_[Superius]</th>\n",
              "      <th>Altus_[Superius]</th>\n",
              "    </tr>\n",
              "  </thead>\n",
              "  <tbody>\n",
              "    <tr>\n",
              "      <th>16.0</th>\n",
              "      <td>NaN</td>\n",
              "      <td>NaN</td>\n",
              "      <td>NaN</td>\n",
              "      <td>NaN</td>\n",
              "      <td>NaN</td>\n",
              "      <td>12_2, 10_-3, 8</td>\n",
              "    </tr>\n",
              "    <tr>\n",
              "      <th>20.0</th>\n",
              "      <td>NaN</td>\n",
              "      <td>NaN</td>\n",
              "      <td>NaN</td>\n",
              "      <td>NaN</td>\n",
              "      <td>NaN</td>\n",
              "      <td>10_-3, 8_Held, 8</td>\n",
              "    </tr>\n",
              "    <tr>\n",
              "      <th>32.0</th>\n",
              "      <td>NaN</td>\n",
              "      <td>NaN</td>\n",
              "      <td>NaN</td>\n",
              "      <td>5_Held, 3_Rest, 1</td>\n",
              "      <td>NaN</td>\n",
              "      <td>NaN</td>\n",
              "    </tr>\n",
              "    <tr>\n",
              "      <th>36.0</th>\n",
              "      <td>NaN</td>\n",
              "      <td>NaN</td>\n",
              "      <td>NaN</td>\n",
              "      <td>3_Rest, 1_Held, 1</td>\n",
              "      <td>NaN</td>\n",
              "      <td>NaN</td>\n",
              "    </tr>\n",
              "    <tr>\n",
              "      <th>48.0</th>\n",
              "      <td>12_Held, 10_Held, 8</td>\n",
              "      <td>NaN</td>\n",
              "      <td>NaN</td>\n",
              "      <td>NaN</td>\n",
              "      <td>NaN</td>\n",
              "      <td>NaN</td>\n",
              "    </tr>\n",
              "    <tr>\n",
              "      <th>...</th>\n",
              "      <td>...</td>\n",
              "      <td>...</td>\n",
              "      <td>...</td>\n",
              "      <td>...</td>\n",
              "      <td>...</td>\n",
              "      <td>...</td>\n",
              "    </tr>\n",
              "    <tr>\n",
              "      <th>1248.0</th>\n",
              "      <td>3_-2, 3_Held, 5</td>\n",
              "      <td>6_-2, 7_Held, 8</td>\n",
              "      <td>10_-2, 9_Held, 10</td>\n",
              "      <td>4_-2, 5_Held, 4</td>\n",
              "      <td>8_-2, 7_Held, 6</td>\n",
              "      <td>5_-2, 3_Held, 3</td>\n",
              "    </tr>\n",
              "    <tr>\n",
              "      <th>1252.0</th>\n",
              "      <td>3_Held, 5_2, 5</td>\n",
              "      <td>7_Held, 8_2, 8</td>\n",
              "      <td>9_Held, 10_2, 11</td>\n",
              "      <td>5_Held, 4_2, 4</td>\n",
              "      <td>7_Held, 6_2, 7</td>\n",
              "      <td>3_Held, 3_2, 4</td>\n",
              "    </tr>\n",
              "    <tr>\n",
              "      <th>1256.0</th>\n",
              "      <td>5_2, 5_Held, 8</td>\n",
              "      <td>8_2, 8_Held, 12</td>\n",
              "      <td>10_2, 11_Held, 15</td>\n",
              "      <td>4_2, 4_Held, 5</td>\n",
              "      <td>6_2, 7_Held, 8</td>\n",
              "      <td>3_2, 4_Held, 4</td>\n",
              "    </tr>\n",
              "    <tr>\n",
              "      <th>1268.0</th>\n",
              "      <td>5_Held, 8_1, 8</td>\n",
              "      <td>8_Held, 12_1, 12</td>\n",
              "      <td>11_Held, 15_1, 15</td>\n",
              "      <td>4_Held, 5_1, 5</td>\n",
              "      <td>7_Held, 8_1, 8</td>\n",
              "      <td>4_Held, 4_1, 4</td>\n",
              "    </tr>\n",
              "    <tr>\n",
              "      <th>1272.0</th>\n",
              "      <td>8_1, 8_Held, 8</td>\n",
              "      <td>12_1, 12_Held, 12</td>\n",
              "      <td>15_1, 15_Held, 15</td>\n",
              "      <td>5_1, 5_Held, 5</td>\n",
              "      <td>8_1, 8_Held, 8</td>\n",
              "      <td>4_1, 4_Held, 4</td>\n",
              "    </tr>\n",
              "  </tbody>\n",
              "</table>\n",
              "<p>515 rows × 6 columns</p>\n",
              "</div>"
            ],
            "text/plain": [
              "               Bassus_Tenor  ...  Altus_[Superius]\n",
              "16.0                    NaN  ...    12_2, 10_-3, 8\n",
              "20.0                    NaN  ...  10_-3, 8_Held, 8\n",
              "32.0                    NaN  ...               NaN\n",
              "36.0                    NaN  ...               NaN\n",
              "48.0    12_Held, 10_Held, 8  ...               NaN\n",
              "...                     ...  ...               ...\n",
              "1248.0      3_-2, 3_Held, 5  ...   5_-2, 3_Held, 3\n",
              "1252.0       3_Held, 5_2, 5  ...    3_Held, 3_2, 4\n",
              "1256.0       5_2, 5_Held, 8  ...    3_2, 4_Held, 4\n",
              "1268.0       5_Held, 8_1, 8  ...    4_Held, 4_1, 4\n",
              "1272.0       8_1, 8_Held, 8  ...    4_1, 4_Held, 4\n",
              "\n",
              "[515 rows x 6 columns]"
            ]
          },
          "metadata": {
            "tags": []
          },
          "execution_count": 41
        }
      ]
    }
  ]
}