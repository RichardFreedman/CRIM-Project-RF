{
  "nbformat": 4,
  "nbformat_minor": 0,
  "metadata": {
    "colab": {
      "name": "CRIM_Intervals_2.0.ipynb",
      "provenance": [],
      "collapsed_sections": [],
      "authorship_tag": "ABX9TyMWjO+AyaXMrF7PgfhMAdqZ",
      "include_colab_link": true
    },
    "kernelspec": {
      "name": "python3",
      "display_name": "Python 3"
    },
    "language_info": {
      "name": "python"
    }
  },
  "cells": [
    {
      "cell_type": "markdown",
      "metadata": {
        "id": "view-in-github",
        "colab_type": "text"
      },
      "source": [
        "<a href=\"https://colab.research.google.com/github/RichardFreedman/CRIM-Project-RF/blob/master/CRIM_Intervals_2_0.ipynb\" target=\"_parent\"><img src=\"https://colab.research.google.com/assets/colab-badge.svg\" alt=\"Open In Colab\"/></a>"
      ]
    },
    {
      "cell_type": "markdown",
      "metadata": {
        "id": "uqgPHgqXPrJa"
      },
      "source": [
        "### Load CRIM Intervals Software"
      ]
    },
    {
      "cell_type": "code",
      "metadata": {
        "id": "JY6rMDPCmYGf"
      },
      "source": [
        "!git clone https://github.com/HCDigitalScholarship/intervals.git\n",
        "!pip install httpx\n"
      ],
      "execution_count": null,
      "outputs": []
    },
    {
      "cell_type": "markdown",
      "metadata": {
        "id": "sabnU304P1NU"
      },
      "source": [
        "## Start CRIM Intervals"
      ]
    },
    {
      "cell_type": "code",
      "metadata": {
        "id": "qHbslxGqmexc"
      },
      "source": [
        "from intervals.main_objs import *\n"
      ],
      "execution_count": null,
      "outputs": []
    },
    {
      "cell_type": "markdown",
      "metadata": {
        "id": "1RkHh_LKP4kt"
      },
      "source": [
        "## Load MEI Files from CRIM or Github by pasting one or more of [these links](https://docs.google.com/spreadsheets/d/1TzRqnzgcYYuQqZR78c5nizIsBWp4pnblm2wbU03uuSQ/edit?auth_email=rfreedma@haverford.edu#gid=0) below.\n",
        "\n",
        "*Note:  each file must be in quotation marks and separated by commas\n",
        "\n",
        "\n",
        "\n",
        "\n",
        "\n"
      ]
    },
    {
      "cell_type": "code",
      "metadata": {
        "colab": {
          "base_uri": "https://localhost:8080/"
        },
        "id": "WhUxkepkmmV6",
        "outputId": "6b5adadb-3575-4354-dc2e-94a212fc107e"
      },
      "source": [
        "corpus = CorpusBase(['https://crimproject.org/mei/CRIM_Model_0008.mei', 'https://crimproject.org/mei/CRIM_Mass_0005_5.mei'])\n"
      ],
      "execution_count": null,
      "outputs": [
        {
          "output_type": "stream",
          "text": [
            "Requesting file from https://crimproject.org/mei/CRIM_Model_0008.mei...\n",
            "Successfully imported.\n",
            "Requesting file from https://crimproject.org/mei/CRIM_Mass_0005_5.mei...\n",
            "Successfully imported.\n"
          ],
          "name": "stdout"
        }
      ]
    },
    {
      "cell_type": "markdown",
      "metadata": {
        "id": "woLnjv-uSLgq"
      },
      "source": [
        "## Give the scores short names, in order according to the way they were listed above"
      ]
    },
    {
      "cell_type": "code",
      "metadata": {
        "id": "OOEp3RaPmnH-"
      },
      "source": [
        "model, mass = corpus.scores"
      ],
      "execution_count": null,
      "outputs": []
    },
    {
      "cell_type": "markdown",
      "metadata": {
        "id": "q41OFP5FSVSl"
      },
      "source": [
        "## Now apply various methods to the scores:\n",
        "* getNoteRest returns all the notes and rests, each voice as a column\n",
        "* getDuration returns the durations for all notes and rests, as above\n",
        "* getMelodic returns the melodic intervals in each voice as a column\n",
        "* getHarmonic returns pairs of harmonic intervals between each pair of voices\n",
        "* getNgrams  returns segments of various kinds, melodic (one voice) or modular (pairs of voices, including vertical and horizontal motion)\n",
        "\n",
        "\n",
        "\n",
        "\n",
        "---\n",
        "\n",
        "### For summary statistics:\n",
        "* save results as variable, then:\n",
        "`.apply(pd.Series.value_counts).fillna(0).astype(int) `\n",
        "\n",
        "\n",
        "---\n",
        "\n",
        "### Documentation available via this command:\n",
        "* for any method, use the following read documentation:\n",
        "`print(model.getNgrams.__doc__)`\n",
        "\n",
        "---\n",
        "\n",
        "\n",
        "\n",
        "\n",
        "\n",
        "\n"
      ]
    },
    {
      "cell_type": "code",
      "metadata": {
        "id": "TqIwSBI_TvBE",
        "colab": {
          "base_uri": "https://localhost:8080/"
        },
        "outputId": "8bb07fd2-449d-4513-a446-b598028136df"
      },
      "source": [
        "print(model.getMelodic.__doc__)"
      ],
      "execution_count": null,
      "outputs": [
        {
          "output_type": "stream",
          "text": [
            "Return melodic intervals for all voice pairs. Each melodic interval\n",
            "        is associated with the starting offset of the second note in the\n",
            "        interval. \n",
            "\n",
            "        :param str kind: use \"d\" for diatonic intervals without quality, \"q\"\n",
            "            (default) for diatonic intervals with quality, or \"s\" for semitonal\n",
            "            intervals. Only the first character is used, and it's case\n",
            "            insensitive.\n",
            "        :param bool directed: defaults to True which shows that the voice that\n",
            "            is lower on the staff is a higher pitch than the voice that is\n",
            "            higher on the staff. This is desginated with a \"-\" prefix.\n",
            "        :param bool compound: whether to use compound (True, default) or simple\n",
            "            (False) intervals. In the case of simple diatonic intervals, it\n",
            "            simplifies to within the octave, so octaves don't get simplified to\n",
            "            unisons. But for semitonal intervals, an interval of an octave\n",
            "            (12 semitones) would does get simplified to a unison (0).\n",
            "        :returns: `pandas.DataFrame` of melodic intervals in each part\n",
            "        \n"
          ],
          "name": "stdout"
        }
      ]
    },
    {
      "cell_type": "markdown",
      "metadata": {
        "id": "7x89Wxcxdptr"
      },
      "source": [
        "# Notes and Rests"
      ]
    },
    {
      "cell_type": "code",
      "metadata": {
        "colab": {
          "base_uri": "https://localhost:8080/",
          "height": 204
        },
        "id": "yh6oPV2KrZaM",
        "outputId": "6af80a15-47b7-4639-d8a4-8d549ab02c85"
      },
      "source": [
        "notes = model.getNoteRest()\n",
        "notes.fillna(value= \"-\", inplace=True)\n",
        "notes.head()"
      ],
      "execution_count": null,
      "outputs": [
        {
          "output_type": "execute_result",
          "data": {
            "text/html": [
              "<div>\n",
              "<style scoped>\n",
              "    .dataframe tbody tr th:only-of-type {\n",
              "        vertical-align: middle;\n",
              "    }\n",
              "\n",
              "    .dataframe tbody tr th {\n",
              "        vertical-align: top;\n",
              "    }\n",
              "\n",
              "    .dataframe thead th {\n",
              "        text-align: right;\n",
              "    }\n",
              "</style>\n",
              "<table border=\"1\" class=\"dataframe\">\n",
              "  <thead>\n",
              "    <tr style=\"text-align: right;\">\n",
              "      <th></th>\n",
              "      <th>[Superius]</th>\n",
              "      <th>Altus</th>\n",
              "      <th>Tenor</th>\n",
              "      <th>Bassus</th>\n",
              "    </tr>\n",
              "  </thead>\n",
              "  <tbody>\n",
              "    <tr>\n",
              "      <th>0.0</th>\n",
              "      <td>G4</td>\n",
              "      <td>Rest</td>\n",
              "      <td>Rest</td>\n",
              "      <td>Rest</td>\n",
              "    </tr>\n",
              "    <tr>\n",
              "      <th>4.0</th>\n",
              "      <td>C5</td>\n",
              "      <td>-</td>\n",
              "      <td>-</td>\n",
              "      <td>-</td>\n",
              "    </tr>\n",
              "    <tr>\n",
              "      <th>8.0</th>\n",
              "      <td>-</td>\n",
              "      <td>Rest</td>\n",
              "      <td>Rest</td>\n",
              "      <td>Rest</td>\n",
              "    </tr>\n",
              "    <tr>\n",
              "      <th>12.0</th>\n",
              "      <td>C5</td>\n",
              "      <td>-</td>\n",
              "      <td>-</td>\n",
              "      <td>-</td>\n",
              "    </tr>\n",
              "    <tr>\n",
              "      <th>16.0</th>\n",
              "      <td>D5</td>\n",
              "      <td>G3</td>\n",
              "      <td>Rest</td>\n",
              "      <td>Rest</td>\n",
              "    </tr>\n",
              "  </tbody>\n",
              "</table>\n",
              "</div>"
            ],
            "text/plain": [
              "     [Superius] Altus Tenor Bassus\n",
              "0.0          G4  Rest  Rest   Rest\n",
              "4.0          C5     -     -      -\n",
              "8.0           -  Rest  Rest   Rest\n",
              "12.0         C5     -     -      -\n",
              "16.0         D5    G3  Rest   Rest"
            ]
          },
          "metadata": {
            "tags": []
          },
          "execution_count": 6
        }
      ]
    },
    {
      "cell_type": "code",
      "metadata": {
        "id": "pmXfVpnSWrrA",
        "colab": {
          "base_uri": "https://localhost:8080/"
        },
        "outputId": "6aee3299-8f74-41c5-f053-a780639ec0e0"
      },
      "source": [
        "notes.value_counts()\n",
        "# notes.stack().value_counts()\n",
        "\n",
        "\n",
        "\n"
      ],
      "execution_count": null,
      "outputs": [
        {
          "output_type": "execute_result",
          "data": {
            "text/plain": [
              "[Superius]  Altus  Tenor  Bassus\n",
              "-           C4     -      -         23\n",
              "C5          -      -      -         17\n",
              "-           E4     -      -         16\n",
              "B4          -      -      -         15\n",
              "-           D4     -      -         14\n",
              "                                    ..\n",
              "D5          -      Rest   Rest       1\n",
              "                   F4     D3         1\n",
              "                   D4     -          1\n",
              "                   B3     -          1\n",
              "C5          A3     F4     F3         1\n",
              "Length: 280, dtype: int64"
            ]
          },
          "metadata": {
            "tags": []
          },
          "execution_count": 31
        }
      ]
    },
    {
      "cell_type": "code",
      "metadata": {
        "id": "eLeZuKLvW7qn",
        "colab": {
          "base_uri": "https://localhost:8080/",
          "height": 824
        },
        "outputId": "ccd2e098-925e-455f-c19b-6e917de41b80"
      },
      "source": [
        "df = notes.apply(pd.Series.value_counts).fillna(0).astype(int)\n",
        "df"
      ],
      "execution_count": null,
      "outputs": [
        {
          "output_type": "execute_result",
          "data": {
            "text/html": [
              "<div>\n",
              "<style scoped>\n",
              "    .dataframe tbody tr th:only-of-type {\n",
              "        vertical-align: middle;\n",
              "    }\n",
              "\n",
              "    .dataframe tbody tr th {\n",
              "        vertical-align: top;\n",
              "    }\n",
              "\n",
              "    .dataframe thead th {\n",
              "        text-align: right;\n",
              "    }\n",
              "</style>\n",
              "<table border=\"1\" class=\"dataframe\">\n",
              "  <thead>\n",
              "    <tr style=\"text-align: right;\">\n",
              "      <th></th>\n",
              "      <th>[Superius]</th>\n",
              "      <th>Altus</th>\n",
              "      <th>Tenor</th>\n",
              "      <th>Bassus</th>\n",
              "    </tr>\n",
              "  </thead>\n",
              "  <tbody>\n",
              "    <tr>\n",
              "      <th>-</th>\n",
              "      <td>271</td>\n",
              "      <td>216</td>\n",
              "      <td>279</td>\n",
              "      <td>284</td>\n",
              "    </tr>\n",
              "    <tr>\n",
              "      <th>A2</th>\n",
              "      <td>0</td>\n",
              "      <td>0</td>\n",
              "      <td>0</td>\n",
              "      <td>4</td>\n",
              "    </tr>\n",
              "    <tr>\n",
              "      <th>A3</th>\n",
              "      <td>0</td>\n",
              "      <td>21</td>\n",
              "      <td>12</td>\n",
              "      <td>18</td>\n",
              "    </tr>\n",
              "    <tr>\n",
              "      <th>A4</th>\n",
              "      <td>23</td>\n",
              "      <td>10</td>\n",
              "      <td>4</td>\n",
              "      <td>0</td>\n",
              "    </tr>\n",
              "    <tr>\n",
              "      <th>B-2</th>\n",
              "      <td>0</td>\n",
              "      <td>0</td>\n",
              "      <td>0</td>\n",
              "      <td>1</td>\n",
              "    </tr>\n",
              "    <tr>\n",
              "      <th>B-3</th>\n",
              "      <td>0</td>\n",
              "      <td>0</td>\n",
              "      <td>0</td>\n",
              "      <td>1</td>\n",
              "    </tr>\n",
              "    <tr>\n",
              "      <th>B2</th>\n",
              "      <td>0</td>\n",
              "      <td>0</td>\n",
              "      <td>0</td>\n",
              "      <td>4</td>\n",
              "    </tr>\n",
              "    <tr>\n",
              "      <th>B3</th>\n",
              "      <td>0</td>\n",
              "      <td>28</td>\n",
              "      <td>27</td>\n",
              "      <td>5</td>\n",
              "    </tr>\n",
              "    <tr>\n",
              "      <th>B4</th>\n",
              "      <td>41</td>\n",
              "      <td>1</td>\n",
              "      <td>0</td>\n",
              "      <td>0</td>\n",
              "    </tr>\n",
              "    <tr>\n",
              "      <th>C3</th>\n",
              "      <td>0</td>\n",
              "      <td>0</td>\n",
              "      <td>0</td>\n",
              "      <td>45</td>\n",
              "    </tr>\n",
              "    <tr>\n",
              "      <th>C4</th>\n",
              "      <td>1</td>\n",
              "      <td>60</td>\n",
              "      <td>62</td>\n",
              "      <td>12</td>\n",
              "    </tr>\n",
              "    <tr>\n",
              "      <th>C5</th>\n",
              "      <td>62</td>\n",
              "      <td>0</td>\n",
              "      <td>0</td>\n",
              "      <td>0</td>\n",
              "    </tr>\n",
              "    <tr>\n",
              "      <th>D3</th>\n",
              "      <td>0</td>\n",
              "      <td>0</td>\n",
              "      <td>0</td>\n",
              "      <td>14</td>\n",
              "    </tr>\n",
              "    <tr>\n",
              "      <th>D4</th>\n",
              "      <td>1</td>\n",
              "      <td>37</td>\n",
              "      <td>44</td>\n",
              "      <td>2</td>\n",
              "    </tr>\n",
              "    <tr>\n",
              "      <th>D5</th>\n",
              "      <td>38</td>\n",
              "      <td>0</td>\n",
              "      <td>0</td>\n",
              "      <td>0</td>\n",
              "    </tr>\n",
              "    <tr>\n",
              "      <th>E3</th>\n",
              "      <td>0</td>\n",
              "      <td>0</td>\n",
              "      <td>0</td>\n",
              "      <td>27</td>\n",
              "    </tr>\n",
              "    <tr>\n",
              "      <th>E4</th>\n",
              "      <td>4</td>\n",
              "      <td>42</td>\n",
              "      <td>33</td>\n",
              "      <td>0</td>\n",
              "    </tr>\n",
              "    <tr>\n",
              "      <th>E5</th>\n",
              "      <td>31</td>\n",
              "      <td>0</td>\n",
              "      <td>0</td>\n",
              "      <td>0</td>\n",
              "    </tr>\n",
              "    <tr>\n",
              "      <th>F3</th>\n",
              "      <td>0</td>\n",
              "      <td>2</td>\n",
              "      <td>0</td>\n",
              "      <td>36</td>\n",
              "    </tr>\n",
              "    <tr>\n",
              "      <th>F4</th>\n",
              "      <td>3</td>\n",
              "      <td>30</td>\n",
              "      <td>19</td>\n",
              "      <td>0</td>\n",
              "    </tr>\n",
              "    <tr>\n",
              "      <th>F5</th>\n",
              "      <td>4</td>\n",
              "      <td>0</td>\n",
              "      <td>0</td>\n",
              "      <td>0</td>\n",
              "    </tr>\n",
              "    <tr>\n",
              "      <th>G2</th>\n",
              "      <td>0</td>\n",
              "      <td>0</td>\n",
              "      <td>0</td>\n",
              "      <td>3</td>\n",
              "    </tr>\n",
              "    <tr>\n",
              "      <th>G3</th>\n",
              "      <td>0</td>\n",
              "      <td>20</td>\n",
              "      <td>15</td>\n",
              "      <td>49</td>\n",
              "    </tr>\n",
              "    <tr>\n",
              "      <th>G4</th>\n",
              "      <td>31</td>\n",
              "      <td>46</td>\n",
              "      <td>17</td>\n",
              "      <td>0</td>\n",
              "    </tr>\n",
              "    <tr>\n",
              "      <th>Rest</th>\n",
              "      <td>48</td>\n",
              "      <td>45</td>\n",
              "      <td>46</td>\n",
              "      <td>53</td>\n",
              "    </tr>\n",
              "  </tbody>\n",
              "</table>\n",
              "</div>"
            ],
            "text/plain": [
              "      [Superius]  Altus  Tenor  Bassus\n",
              "-            271    216    279     284\n",
              "A2             0      0      0       4\n",
              "A3             0     21     12      18\n",
              "A4            23     10      4       0\n",
              "B-2            0      0      0       1\n",
              "B-3            0      0      0       1\n",
              "B2             0      0      0       4\n",
              "B3             0     28     27       5\n",
              "B4            41      1      0       0\n",
              "C3             0      0      0      45\n",
              "C4             1     60     62      12\n",
              "C5            62      0      0       0\n",
              "D3             0      0      0      14\n",
              "D4             1     37     44       2\n",
              "D5            38      0      0       0\n",
              "E3             0      0      0      27\n",
              "E4             4     42     33       0\n",
              "E5            31      0      0       0\n",
              "F3             0      2      0      36\n",
              "F4             3     30     19       0\n",
              "F5             4      0      0       0\n",
              "G2             0      0      0       3\n",
              "G3             0     20     15      49\n",
              "G4            31     46     17       0\n",
              "Rest          48     45     46      53"
            ]
          },
          "metadata": {
            "tags": []
          },
          "execution_count": 37
        }
      ]
    },
    {
      "cell_type": "markdown",
      "metadata": {
        "id": "9Dx3lM6ddw_v"
      },
      "source": [
        "# Melodic Intervals\n",
        "* kind='d' for diatonic; 's' for chromatic/semitone\n",
        "* To save as CSV:  \n",
        "`mel_int.to_csv('file_name.csv')`"
      ]
    },
    {
      "cell_type": "code",
      "metadata": {
        "id": "loTNxtPfmyo4",
        "colab": {
          "base_uri": "https://localhost:8080/",
          "height": 419
        },
        "outputId": "09ba623b-adb1-4308-86e6-f800408de537"
      },
      "source": [
        "mel_int = mass.getMelodic(kind='d')\n",
        "mel_int.fillna(value= \"-\", inplace=True)\n",
        "mel_int\n",
        "# mel_int.apply(pd.Series.value_counts).fillna(0).astype(int)\n",
        "\n",
        "# voice = mel_int.iloc[:, 0]\n",
        "# voice\n"
      ],
      "execution_count": null,
      "outputs": [
        {
          "output_type": "execute_result",
          "data": {
            "text/html": [
              "<div>\n",
              "<style scoped>\n",
              "    .dataframe tbody tr th:only-of-type {\n",
              "        vertical-align: middle;\n",
              "    }\n",
              "\n",
              "    .dataframe tbody tr th {\n",
              "        vertical-align: top;\n",
              "    }\n",
              "\n",
              "    .dataframe thead th {\n",
              "        text-align: right;\n",
              "    }\n",
              "</style>\n",
              "<table border=\"1\" class=\"dataframe\">\n",
              "  <thead>\n",
              "    <tr style=\"text-align: right;\">\n",
              "      <th></th>\n",
              "      <th>Sup[erius]</th>\n",
              "      <th>Altus</th>\n",
              "      <th>Tenor</th>\n",
              "      <th>Bassus</th>\n",
              "    </tr>\n",
              "  </thead>\n",
              "  <tbody>\n",
              "    <tr>\n",
              "      <th>0.0</th>\n",
              "      <td>-</td>\n",
              "      <td>Rest</td>\n",
              "      <td>Rest</td>\n",
              "      <td>Rest</td>\n",
              "    </tr>\n",
              "    <tr>\n",
              "      <th>4.0</th>\n",
              "      <td>4</td>\n",
              "      <td>-</td>\n",
              "      <td>-</td>\n",
              "      <td>-</td>\n",
              "    </tr>\n",
              "    <tr>\n",
              "      <th>8.0</th>\n",
              "      <td>-</td>\n",
              "      <td>Rest</td>\n",
              "      <td>Rest</td>\n",
              "      <td>Rest</td>\n",
              "    </tr>\n",
              "    <tr>\n",
              "      <th>12.0</th>\n",
              "      <td>1</td>\n",
              "      <td>-</td>\n",
              "      <td>-</td>\n",
              "      <td>-</td>\n",
              "    </tr>\n",
              "    <tr>\n",
              "      <th>16.0</th>\n",
              "      <td>2</td>\n",
              "      <td>-</td>\n",
              "      <td>Rest</td>\n",
              "      <td>Rest</td>\n",
              "    </tr>\n",
              "    <tr>\n",
              "      <th>...</th>\n",
              "      <td>...</td>\n",
              "      <td>...</td>\n",
              "      <td>...</td>\n",
              "      <td>...</td>\n",
              "    </tr>\n",
              "    <tr>\n",
              "      <th>706.0</th>\n",
              "      <td>1</td>\n",
              "      <td>-2</td>\n",
              "      <td>-</td>\n",
              "      <td>-</td>\n",
              "    </tr>\n",
              "    <tr>\n",
              "      <th>707.0</th>\n",
              "      <td>-</td>\n",
              "      <td>-2</td>\n",
              "      <td>-</td>\n",
              "      <td>-</td>\n",
              "    </tr>\n",
              "    <tr>\n",
              "      <th>708.0</th>\n",
              "      <td>-</td>\n",
              "      <td>2</td>\n",
              "      <td>-</td>\n",
              "      <td>-</td>\n",
              "    </tr>\n",
              "    <tr>\n",
              "      <th>710.0</th>\n",
              "      <td>-2</td>\n",
              "      <td>-</td>\n",
              "      <td>-</td>\n",
              "      <td>-</td>\n",
              "    </tr>\n",
              "    <tr>\n",
              "      <th>712.0</th>\n",
              "      <td>2</td>\n",
              "      <td>-2</td>\n",
              "      <td>Rest</td>\n",
              "      <td>Rest</td>\n",
              "    </tr>\n",
              "  </tbody>\n",
              "</table>\n",
              "<p>391 rows × 4 columns</p>\n",
              "</div>"
            ],
            "text/plain": [
              "      Sup[erius] Altus Tenor Bassus\n",
              "0.0            -  Rest  Rest   Rest\n",
              "4.0            4     -     -      -\n",
              "8.0            -  Rest  Rest   Rest\n",
              "12.0           1     -     -      -\n",
              "16.0           2     -  Rest   Rest\n",
              "...          ...   ...   ...    ...\n",
              "706.0          1    -2     -      -\n",
              "707.0          -    -2     -      -\n",
              "708.0          -     2     -      -\n",
              "710.0         -2     -     -      -\n",
              "712.0          2    -2  Rest   Rest\n",
              "\n",
              "[391 rows x 4 columns]"
            ]
          },
          "metadata": {
            "tags": []
          },
          "execution_count": 42
        }
      ]
    },
    {
      "cell_type": "markdown",
      "metadata": {
        "id": "Dk8WIgJOd1lL"
      },
      "source": [
        "# Durations"
      ]
    },
    {
      "cell_type": "code",
      "metadata": {
        "id": "7CYg4NqysUwF",
        "colab": {
          "base_uri": "https://localhost:8080/"
        },
        "outputId": "4f42c04a-741c-410a-ac8d-1c7ee56e9bff"
      },
      "source": [
        "durs = mass.getDuration()\n",
        "durs.fillna(value= \"-\", inplace=True)\n",
        "d =  durs.stack().value_counts()\n"
      ],
      "execution_count": null,
      "outputs": [
        {
          "output_type": "execute_result",
          "data": {
            "text/plain": [
              "-       828\n",
              "1.0     211\n",
              "4.0     174\n",
              "8.0     149\n",
              "2.0     148\n",
              "3.0      54\n",
              "6.0      21\n",
              "16.0      9\n",
              "24.0      3\n",
              "0.5       2\n",
              "12.0      1\n",
              "dtype: int64"
            ]
          },
          "metadata": {
            "tags": []
          },
          "execution_count": 33
        }
      ]
    },
    {
      "cell_type": "markdown",
      "metadata": {
        "id": "TyUHRjIBd5z3"
      },
      "source": [
        "## Combine Notes and Durations as One DataFrame"
      ]
    },
    {
      "cell_type": "code",
      "metadata": {
        "id": "gcqxZm4Isasv",
        "colab": {
          "base_uri": "https://localhost:8080/",
          "height": 419
        },
        "outputId": "703c870c-5458-4aa1-d455-c641d7d29017"
      },
      "source": [
        "notes_durs = pd.concat([notes, durs], axis=1)\n",
        "notes_durs\n"
      ],
      "execution_count": null,
      "outputs": [
        {
          "output_type": "execute_result",
          "data": {
            "text/html": [
              "<div>\n",
              "<style scoped>\n",
              "    .dataframe tbody tr th:only-of-type {\n",
              "        vertical-align: middle;\n",
              "    }\n",
              "\n",
              "    .dataframe tbody tr th {\n",
              "        vertical-align: top;\n",
              "    }\n",
              "\n",
              "    .dataframe thead th {\n",
              "        text-align: right;\n",
              "    }\n",
              "</style>\n",
              "<table border=\"1\" class=\"dataframe\">\n",
              "  <thead>\n",
              "    <tr style=\"text-align: right;\">\n",
              "      <th></th>\n",
              "      <th>[Superius]</th>\n",
              "      <th>Altus</th>\n",
              "      <th>Tenor</th>\n",
              "      <th>Bassus</th>\n",
              "      <th>Sup[erius]</th>\n",
              "      <th>Altus</th>\n",
              "      <th>Tenor</th>\n",
              "      <th>Bassus</th>\n",
              "    </tr>\n",
              "  </thead>\n",
              "  <tbody>\n",
              "    <tr>\n",
              "      <th>0.0</th>\n",
              "      <td>G4</td>\n",
              "      <td>Rest</td>\n",
              "      <td>Rest</td>\n",
              "      <td>Rest</td>\n",
              "      <td>4</td>\n",
              "      <td>8</td>\n",
              "      <td>8</td>\n",
              "      <td>8</td>\n",
              "    </tr>\n",
              "    <tr>\n",
              "      <th>4.0</th>\n",
              "      <td>C5</td>\n",
              "      <td>-</td>\n",
              "      <td>-</td>\n",
              "      <td>-</td>\n",
              "      <td>8</td>\n",
              "      <td>-</td>\n",
              "      <td>-</td>\n",
              "      <td>-</td>\n",
              "    </tr>\n",
              "    <tr>\n",
              "      <th>8.0</th>\n",
              "      <td>-</td>\n",
              "      <td>Rest</td>\n",
              "      <td>Rest</td>\n",
              "      <td>Rest</td>\n",
              "      <td>-</td>\n",
              "      <td>8</td>\n",
              "      <td>8</td>\n",
              "      <td>8</td>\n",
              "    </tr>\n",
              "    <tr>\n",
              "      <th>12.0</th>\n",
              "      <td>C5</td>\n",
              "      <td>-</td>\n",
              "      <td>-</td>\n",
              "      <td>-</td>\n",
              "      <td>4</td>\n",
              "      <td>-</td>\n",
              "      <td>-</td>\n",
              "      <td>-</td>\n",
              "    </tr>\n",
              "    <tr>\n",
              "      <th>16.0</th>\n",
              "      <td>D5</td>\n",
              "      <td>G3</td>\n",
              "      <td>Rest</td>\n",
              "      <td>Rest</td>\n",
              "      <td>4</td>\n",
              "      <td>4</td>\n",
              "      <td>8</td>\n",
              "      <td>8</td>\n",
              "    </tr>\n",
              "    <tr>\n",
              "      <th>...</th>\n",
              "      <td>...</td>\n",
              "      <td>...</td>\n",
              "      <td>...</td>\n",
              "      <td>...</td>\n",
              "      <td>...</td>\n",
              "      <td>...</td>\n",
              "      <td>...</td>\n",
              "      <td>...</td>\n",
              "    </tr>\n",
              "    <tr>\n",
              "      <th>1256.0</th>\n",
              "      <td>-</td>\n",
              "      <td>-</td>\n",
              "      <td>D4</td>\n",
              "      <td>G3</td>\n",
              "      <td>NaN</td>\n",
              "      <td>NaN</td>\n",
              "      <td>NaN</td>\n",
              "      <td>NaN</td>\n",
              "    </tr>\n",
              "    <tr>\n",
              "      <th>1268.0</th>\n",
              "      <td>C5</td>\n",
              "      <td>G4</td>\n",
              "      <td>-</td>\n",
              "      <td>-</td>\n",
              "      <td>NaN</td>\n",
              "      <td>NaN</td>\n",
              "      <td>NaN</td>\n",
              "      <td>NaN</td>\n",
              "    </tr>\n",
              "    <tr>\n",
              "      <th>1272.0</th>\n",
              "      <td>-</td>\n",
              "      <td>-</td>\n",
              "      <td>C4</td>\n",
              "      <td>C3</td>\n",
              "      <td>NaN</td>\n",
              "      <td>NaN</td>\n",
              "      <td>NaN</td>\n",
              "      <td>NaN</td>\n",
              "    </tr>\n",
              "    <tr>\n",
              "      <th>1284.0</th>\n",
              "      <td>C5</td>\n",
              "      <td>G4</td>\n",
              "      <td>-</td>\n",
              "      <td>-</td>\n",
              "      <td>NaN</td>\n",
              "      <td>NaN</td>\n",
              "      <td>NaN</td>\n",
              "      <td>NaN</td>\n",
              "    </tr>\n",
              "    <tr>\n",
              "      <th>1288.0</th>\n",
              "      <td>-</td>\n",
              "      <td>-</td>\n",
              "      <td>C4</td>\n",
              "      <td>C3</td>\n",
              "      <td>NaN</td>\n",
              "      <td>NaN</td>\n",
              "      <td>NaN</td>\n",
              "      <td>NaN</td>\n",
              "    </tr>\n",
              "  </tbody>\n",
              "</table>\n",
              "<p>701 rows × 8 columns</p>\n",
              "</div>"
            ],
            "text/plain": [
              "       [Superius] Altus Tenor Bassus Sup[erius] Altus Tenor Bassus\n",
              "0.0            G4  Rest  Rest   Rest          4     8     8      8\n",
              "4.0            C5     -     -      -          8     -     -      -\n",
              "8.0             -  Rest  Rest   Rest          -     8     8      8\n",
              "12.0           C5     -     -      -          4     -     -      -\n",
              "16.0           D5    G3  Rest   Rest          4     4     8      8\n",
              "...           ...   ...   ...    ...        ...   ...   ...    ...\n",
              "1256.0          -     -    D4     G3        NaN   NaN   NaN    NaN\n",
              "1268.0         C5    G4     -      -        NaN   NaN   NaN    NaN\n",
              "1272.0          -     -    C4     C3        NaN   NaN   NaN    NaN\n",
              "1284.0         C5    G4     -      -        NaN   NaN   NaN    NaN\n",
              "1288.0          -     -    C4     C3        NaN   NaN   NaN    NaN\n",
              "\n",
              "[701 rows x 8 columns]"
            ]
          },
          "metadata": {
            "tags": []
          },
          "execution_count": 11
        }
      ]
    },
    {
      "cell_type": "markdown",
      "metadata": {
        "id": "rgFL17ZweA2z"
      },
      "source": [
        "# Select Columns for One Voice"
      ]
    },
    {
      "cell_type": "code",
      "metadata": {
        "colab": {
          "base_uri": "https://localhost:8080/",
          "height": 419
        },
        "id": "2SrC4TOa4JyI",
        "outputId": "161e1950-5713-4c3b-8e6d-fcdc1177a048"
      },
      "source": [
        "notes_durs_s = notes_durs.iloc[:, [0,4]]\n",
        "notes_durs_s"
      ],
      "execution_count": null,
      "outputs": [
        {
          "output_type": "execute_result",
          "data": {
            "text/html": [
              "<div>\n",
              "<style scoped>\n",
              "    .dataframe tbody tr th:only-of-type {\n",
              "        vertical-align: middle;\n",
              "    }\n",
              "\n",
              "    .dataframe tbody tr th {\n",
              "        vertical-align: top;\n",
              "    }\n",
              "\n",
              "    .dataframe thead th {\n",
              "        text-align: right;\n",
              "    }\n",
              "</style>\n",
              "<table border=\"1\" class=\"dataframe\">\n",
              "  <thead>\n",
              "    <tr style=\"text-align: right;\">\n",
              "      <th></th>\n",
              "      <th>[Superius]</th>\n",
              "      <th>Sup[erius]</th>\n",
              "    </tr>\n",
              "  </thead>\n",
              "  <tbody>\n",
              "    <tr>\n",
              "      <th>0.0</th>\n",
              "      <td>G4</td>\n",
              "      <td>4</td>\n",
              "    </tr>\n",
              "    <tr>\n",
              "      <th>4.0</th>\n",
              "      <td>C5</td>\n",
              "      <td>8</td>\n",
              "    </tr>\n",
              "    <tr>\n",
              "      <th>8.0</th>\n",
              "      <td>-</td>\n",
              "      <td>-</td>\n",
              "    </tr>\n",
              "    <tr>\n",
              "      <th>12.0</th>\n",
              "      <td>C5</td>\n",
              "      <td>4</td>\n",
              "    </tr>\n",
              "    <tr>\n",
              "      <th>16.0</th>\n",
              "      <td>D5</td>\n",
              "      <td>4</td>\n",
              "    </tr>\n",
              "    <tr>\n",
              "      <th>...</th>\n",
              "      <td>...</td>\n",
              "      <td>...</td>\n",
              "    </tr>\n",
              "    <tr>\n",
              "      <th>1256.0</th>\n",
              "      <td>-</td>\n",
              "      <td>NaN</td>\n",
              "    </tr>\n",
              "    <tr>\n",
              "      <th>1268.0</th>\n",
              "      <td>C5</td>\n",
              "      <td>NaN</td>\n",
              "    </tr>\n",
              "    <tr>\n",
              "      <th>1272.0</th>\n",
              "      <td>-</td>\n",
              "      <td>NaN</td>\n",
              "    </tr>\n",
              "    <tr>\n",
              "      <th>1284.0</th>\n",
              "      <td>C5</td>\n",
              "      <td>NaN</td>\n",
              "    </tr>\n",
              "    <tr>\n",
              "      <th>1288.0</th>\n",
              "      <td>-</td>\n",
              "      <td>NaN</td>\n",
              "    </tr>\n",
              "  </tbody>\n",
              "</table>\n",
              "<p>701 rows × 2 columns</p>\n",
              "</div>"
            ],
            "text/plain": [
              "       [Superius] Sup[erius]\n",
              "0.0            G4          4\n",
              "4.0            C5          8\n",
              "8.0             -          -\n",
              "12.0           C5          4\n",
              "16.0           D5          4\n",
              "...           ...        ...\n",
              "1256.0          -        NaN\n",
              "1268.0         C5        NaN\n",
              "1272.0          -        NaN\n",
              "1284.0         C5        NaN\n",
              "1288.0          -        NaN\n",
              "\n",
              "[701 rows x 2 columns]"
            ]
          },
          "metadata": {
            "tags": []
          },
          "execution_count": 12
        }
      ]
    },
    {
      "cell_type": "markdown",
      "metadata": {
        "id": "GmX8RISUeI0d"
      },
      "source": [
        "## N-Grams\n",
        "* for Melodic or Durations"
      ]
    },
    {
      "cell_type": "code",
      "metadata": {
        "id": "7wbhoYMYm49L",
        "colab": {
          "base_uri": "https://localhost:8080/",
          "height": 419
        },
        "outputId": "76a96a28-04b8-4946-a098-8c53daa5f99d"
      },
      "source": [
        "mel = model.getMelodic()\n",
        "model.getNgrams(df=mel, n=3)\n",
        "\n",
        "\n",
        "\n"
      ],
      "execution_count": null,
      "outputs": [
        {
          "output_type": "execute_result",
          "data": {
            "text/html": [
              "<div>\n",
              "<style scoped>\n",
              "    .dataframe tbody tr th:only-of-type {\n",
              "        vertical-align: middle;\n",
              "    }\n",
              "\n",
              "    .dataframe tbody tr th {\n",
              "        vertical-align: top;\n",
              "    }\n",
              "\n",
              "    .dataframe thead th {\n",
              "        text-align: right;\n",
              "    }\n",
              "</style>\n",
              "<table border=\"1\" class=\"dataframe\">\n",
              "  <thead>\n",
              "    <tr style=\"text-align: right;\">\n",
              "      <th></th>\n",
              "      <th>[Superius]</th>\n",
              "      <th>Altus</th>\n",
              "      <th>Tenor</th>\n",
              "      <th>Bassus</th>\n",
              "    </tr>\n",
              "  </thead>\n",
              "  <tbody>\n",
              "    <tr>\n",
              "      <th>-M2, -M2, -M2</th>\n",
              "      <td>3</td>\n",
              "      <td>0</td>\n",
              "      <td>0</td>\n",
              "      <td>0</td>\n",
              "    </tr>\n",
              "    <tr>\n",
              "      <th>-M2, -M2, -m2</th>\n",
              "      <td>9</td>\n",
              "      <td>7</td>\n",
              "      <td>6</td>\n",
              "      <td>2</td>\n",
              "    </tr>\n",
              "    <tr>\n",
              "      <th>-M2, -M2, M2</th>\n",
              "      <td>3</td>\n",
              "      <td>4</td>\n",
              "      <td>3</td>\n",
              "      <td>3</td>\n",
              "    </tr>\n",
              "    <tr>\n",
              "      <th>-M2, -M2, M3</th>\n",
              "      <td>0</td>\n",
              "      <td>0</td>\n",
              "      <td>0</td>\n",
              "      <td>1</td>\n",
              "    </tr>\n",
              "    <tr>\n",
              "      <th>-M2, -M2, P1</th>\n",
              "      <td>3</td>\n",
              "      <td>2</td>\n",
              "      <td>2</td>\n",
              "      <td>1</td>\n",
              "    </tr>\n",
              "    <tr>\n",
              "      <th>...</th>\n",
              "      <td>...</td>\n",
              "      <td>...</td>\n",
              "      <td>...</td>\n",
              "      <td>...</td>\n",
              "    </tr>\n",
              "    <tr>\n",
              "      <th>m3, -M2, -m2</th>\n",
              "      <td>2</td>\n",
              "      <td>0</td>\n",
              "      <td>2</td>\n",
              "      <td>0</td>\n",
              "    </tr>\n",
              "    <tr>\n",
              "      <th>m3, -m2, -M2</th>\n",
              "      <td>0</td>\n",
              "      <td>0</td>\n",
              "      <td>1</td>\n",
              "      <td>0</td>\n",
              "    </tr>\n",
              "    <tr>\n",
              "      <th>m3, -m2, P1</th>\n",
              "      <td>0</td>\n",
              "      <td>1</td>\n",
              "      <td>0</td>\n",
              "      <td>0</td>\n",
              "    </tr>\n",
              "    <tr>\n",
              "      <th>m3, M2, -M2</th>\n",
              "      <td>0</td>\n",
              "      <td>1</td>\n",
              "      <td>0</td>\n",
              "      <td>0</td>\n",
              "    </tr>\n",
              "    <tr>\n",
              "      <th>m6, -m2, -M2</th>\n",
              "      <td>1</td>\n",
              "      <td>0</td>\n",
              "      <td>0</td>\n",
              "      <td>0</td>\n",
              "    </tr>\n",
              "  </tbody>\n",
              "</table>\n",
              "<p>215 rows × 4 columns</p>\n",
              "</div>"
            ],
            "text/plain": [
              "               [Superius]  Altus  Tenor  Bassus\n",
              "-M2, -M2, -M2           3      0      0       0\n",
              "-M2, -M2, -m2           9      7      6       2\n",
              "-M2, -M2, M2            3      4      3       3\n",
              "-M2, -M2, M3            0      0      0       1\n",
              "-M2, -M2, P1            3      2      2       1\n",
              "...                   ...    ...    ...     ...\n",
              "m3, -M2, -m2            2      0      2       0\n",
              "m3, -m2, -M2            0      0      1       0\n",
              "m3, -m2, P1             0      1      0       0\n",
              "m3, M2, -M2             0      1      0       0\n",
              "m6, -m2, -M2            1      0      0       0\n",
              "\n",
              "[215 rows x 4 columns]"
            ]
          },
          "metadata": {
            "tags": []
          },
          "execution_count": 47
        }
      ]
    },
    {
      "cell_type": "markdown",
      "metadata": {
        "id": "XS0QHD8yeN0w"
      },
      "source": [
        "# Two-Voice Modules as N-Grams"
      ]
    },
    {
      "cell_type": "code",
      "metadata": {
        "id": "H9pS4PKZrvAp",
        "colab": {
          "base_uri": "https://localhost:8080/",
          "height": 419
        },
        "outputId": "5d7105e7-5faa-4852-89b1-858a3cd10967"
      },
      "source": [
        "modules = model.getNgrams(how='modules', cell_type=str)\n",
        "mod = modules.iloc[:, 0:6]\n",
        "# mod.apply(pd.Series.value_counts).fillna(0).astype(int)\n"
      ],
      "execution_count": null,
      "outputs": [
        {
          "output_type": "execute_result",
          "data": {
            "text/html": [
              "<div>\n",
              "<style scoped>\n",
              "    .dataframe tbody tr th:only-of-type {\n",
              "        vertical-align: middle;\n",
              "    }\n",
              "\n",
              "    .dataframe tbody tr th {\n",
              "        vertical-align: top;\n",
              "    }\n",
              "\n",
              "    .dataframe thead th {\n",
              "        text-align: right;\n",
              "    }\n",
              "</style>\n",
              "<table border=\"1\" class=\"dataframe\">\n",
              "  <thead>\n",
              "    <tr style=\"text-align: right;\">\n",
              "      <th></th>\n",
              "      <th>Bassus_Tenor</th>\n",
              "      <th>Bassus_Altus</th>\n",
              "      <th>Bassus_[Superius]</th>\n",
              "      <th>Tenor_Altus</th>\n",
              "      <th>Tenor_[Superius]</th>\n",
              "      <th>Altus_[Superius]</th>\n",
              "    </tr>\n",
              "  </thead>\n",
              "  <tbody>\n",
              "    <tr>\n",
              "      <th>-2_2, -3_2, -5</th>\n",
              "      <td>0</td>\n",
              "      <td>0</td>\n",
              "      <td>0</td>\n",
              "      <td>1</td>\n",
              "      <td>0</td>\n",
              "      <td>0</td>\n",
              "    </tr>\n",
              "    <tr>\n",
              "      <th>-2_2, -3_Held, -2</th>\n",
              "      <td>0</td>\n",
              "      <td>2</td>\n",
              "      <td>0</td>\n",
              "      <td>0</td>\n",
              "      <td>0</td>\n",
              "      <td>0</td>\n",
              "    </tr>\n",
              "    <tr>\n",
              "      <th>-2_2, -3_Held, -3</th>\n",
              "      <td>0</td>\n",
              "      <td>0</td>\n",
              "      <td>0</td>\n",
              "      <td>2</td>\n",
              "      <td>0</td>\n",
              "      <td>0</td>\n",
              "    </tr>\n",
              "    <tr>\n",
              "      <th>-2_2, 3_Held, 3</th>\n",
              "      <td>0</td>\n",
              "      <td>2</td>\n",
              "      <td>0</td>\n",
              "      <td>0</td>\n",
              "      <td>0</td>\n",
              "      <td>0</td>\n",
              "    </tr>\n",
              "    <tr>\n",
              "      <th>-2_Held, -3_Held, -3</th>\n",
              "      <td>0</td>\n",
              "      <td>0</td>\n",
              "      <td>0</td>\n",
              "      <td>4</td>\n",
              "      <td>0</td>\n",
              "      <td>0</td>\n",
              "    </tr>\n",
              "    <tr>\n",
              "      <th>...</th>\n",
              "      <td>...</td>\n",
              "      <td>...</td>\n",
              "      <td>...</td>\n",
              "      <td>...</td>\n",
              "      <td>...</td>\n",
              "      <td>...</td>\n",
              "    </tr>\n",
              "    <tr>\n",
              "      <th>9_Held, 8_Held, 8</th>\n",
              "      <td>0</td>\n",
              "      <td>2</td>\n",
              "      <td>0</td>\n",
              "      <td>0</td>\n",
              "      <td>0</td>\n",
              "      <td>0</td>\n",
              "    </tr>\n",
              "    <tr>\n",
              "      <th>9_Held, 9_Held, 10</th>\n",
              "      <td>0</td>\n",
              "      <td>0</td>\n",
              "      <td>2</td>\n",
              "      <td>0</td>\n",
              "      <td>0</td>\n",
              "      <td>0</td>\n",
              "    </tr>\n",
              "    <tr>\n",
              "      <th>9_Rest, 10_Held, 9</th>\n",
              "      <td>2</td>\n",
              "      <td>0</td>\n",
              "      <td>0</td>\n",
              "      <td>0</td>\n",
              "      <td>0</td>\n",
              "      <td>0</td>\n",
              "    </tr>\n",
              "    <tr>\n",
              "      <th>9_Rest, 8_Held, 6</th>\n",
              "      <td>0</td>\n",
              "      <td>1</td>\n",
              "      <td>0</td>\n",
              "      <td>0</td>\n",
              "      <td>0</td>\n",
              "      <td>0</td>\n",
              "    </tr>\n",
              "    <tr>\n",
              "      <th>9_Rest, 8_Held, 8</th>\n",
              "      <td>1</td>\n",
              "      <td>0</td>\n",
              "      <td>0</td>\n",
              "      <td>0</td>\n",
              "      <td>0</td>\n",
              "      <td>0</td>\n",
              "    </tr>\n",
              "  </tbody>\n",
              "</table>\n",
              "<p>965 rows × 6 columns</p>\n",
              "</div>"
            ],
            "text/plain": [
              "                      Bassus_Tenor  ...  Altus_[Superius]\n",
              "-2_2, -3_2, -5                   0  ...                 0\n",
              "-2_2, -3_Held, -2                0  ...                 0\n",
              "-2_2, -3_Held, -3                0  ...                 0\n",
              "-2_2, 3_Held, 3                  0  ...                 0\n",
              "-2_Held, -3_Held, -3             0  ...                 0\n",
              "...                            ...  ...               ...\n",
              "9_Held, 8_Held, 8                0  ...                 0\n",
              "9_Held, 9_Held, 10               0  ...                 0\n",
              "9_Rest, 10_Held, 9               2  ...                 0\n",
              "9_Rest, 8_Held, 6                0  ...                 0\n",
              "9_Rest, 8_Held, 8                1  ...                 0\n",
              "\n",
              "[965 rows x 6 columns]"
            ]
          },
          "metadata": {
            "tags": []
          },
          "execution_count": 44
        }
      ]
    },
    {
      "cell_type": "code",
      "metadata": {
        "id": "kWhZbnuSkwaN"
      },
      "source": [
        ""
      ],
      "execution_count": null,
      "outputs": []
    }
  ]
}