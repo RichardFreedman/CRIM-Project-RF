{
  "nbformat": 4,
  "nbformat_minor": 0,
  "metadata": {
    "kernelspec": {
      "display_name": "Python 3",
      "language": "python",
      "name": "python3"
    },
    "language_info": {
      "codemirror_mode": {
        "name": "ipython",
        "version": 3
      },
      "file_extension": ".py",
      "mimetype": "text/x-python",
      "name": "python",
      "nbconvert_exporter": "python",
      "pygments_lexer": "ipython3",
      "version": "3.8.5"
    },
    "colab": {
      "name": "CRIM_intervals_nb_3_2021.ipynb",
      "provenance": [],
      "collapsed_sections": [
        "x7tp3nN53dFr",
        "6GiXTkL43dFs",
        "CkeAgTux3dFt",
        "EmvHaat23dFt",
        "M1AaV-mH3dFt"
      ],
      "include_colab_link": true
    }
  },
  "cells": [
    {
      "cell_type": "markdown",
      "metadata": {
        "id": "view-in-github",
        "colab_type": "text"
      },
      "source": [
        "<a href=\"https://colab.research.google.com/github/RichardFreedman/CRIM-Project-RF/blob/master/CRIM_intervals_Collab.ipynb\" target=\"_parent\"><img src=\"https://colab.research.google.com/assets/colab-badge.svg\" alt=\"Open In Colab\"/></a>"
      ]
    },
    {
      "cell_type": "markdown",
      "metadata": {
        "id": "vZyr2d4C3dFc"
      },
      "source": [
        "## Search with Options\n",
        "\n",
        "- Piece or Corpus\n",
        "- Actual or Incremental Durations\n",
        "- Chromatic or Diatonic\n",
        "- Exact or Close\n",
        "- Classify\n",
        "\n",
        "***\n"
      ]
    },
    {
      "cell_type": "code",
      "metadata": {
        "colab": {
          "base_uri": "https://localhost:8080/"
        },
        "id": "CVRS0RmP3dFi",
        "outputId": "56316e61-0575-436d-a910-42fcf6587085"
      },
      "source": [
        "!pip install crim-intervals\n",
        "from crim_intervals import *\n",
        "import pandas as pd\n",
        "import ast\n",
        "import matplotlib\n",
        "from itertools import tee, combinations\n",
        "import numpy as np\n",
        "from fractions import Fraction\n",
        "\n"
      ],
      "execution_count": 2,
      "outputs": [
        {
          "output_type": "stream",
          "text": [
            "Collecting crim-intervals\n",
            "  Downloading https://files.pythonhosted.org/packages/af/88/79bc116b68e67769c31b1088c168dd67610e408eb8024b40379ea4f41ea6/crim_intervals-0.3.6-py3-none-any.whl\n",
            "Collecting music21<6.0.0,>=5.7.2\n",
            "\u001b[?25l  Downloading https://files.pythonhosted.org/packages/96/87/19a01af679090c880ed0036f0c221dd7bc3a97f4bddf74e24bc22d1e66cf/music21-5.7.2.tar.gz (18.5MB)\n",
            "\u001b[K     |████████████████████████████████| 18.5MB 222kB/s \n",
            "\u001b[?25hCollecting httpx<0.17.0,>=0.16.1\n",
            "\u001b[?25l  Downloading https://files.pythonhosted.org/packages/2d/c6/59aa4188e7eddb9e89ec67a51598ca6bfc09f1b38c9b45f7ee45af7a4df4/httpx-0.16.1-py3-none-any.whl (65kB)\n",
            "\u001b[K     |████████████████████████████████| 71kB 6.2MB/s \n",
            "\u001b[?25hCollecting requests<3.0.0,>=2.24.0\n",
            "\u001b[?25l  Downloading https://files.pythonhosted.org/packages/29/c1/24814557f1d22c56d50280771a17307e6bf87b70727d975fd6b2ce6b014a/requests-2.25.1-py2.py3-none-any.whl (61kB)\n",
            "\u001b[K     |████████████████████████████████| 61kB 4.6MB/s \n",
            "\u001b[?25hRequirement already satisfied: certifi in /usr/local/lib/python3.7/dist-packages (from httpx<0.17.0,>=0.16.1->crim-intervals) (2020.12.5)\n",
            "Collecting sniffio\n",
            "  Downloading https://files.pythonhosted.org/packages/52/b0/7b2e028b63d092804b6794595871f936aafa5e9322dcaaad50ebf67445b3/sniffio-1.2.0-py3-none-any.whl\n",
            "Collecting httpcore==0.12.*\n",
            "\u001b[?25l  Downloading https://files.pythonhosted.org/packages/50/ce/544244e2145075896d38f7db3e822c24d1be9f7966ed3d83f158e388d195/httpcore-0.12.3-py3-none-any.whl (55kB)\n",
            "\u001b[K     |████████████████████████████████| 61kB 6.2MB/s \n",
            "\u001b[?25hCollecting rfc3986[idna2008]<2,>=1.3\n",
            "  Downloading https://files.pythonhosted.org/packages/78/be/7b8b99fd74ff5684225f50dd0e865393d2265656ef3b4ba9eaaaffe622b8/rfc3986-1.4.0-py2.py3-none-any.whl\n",
            "Requirement already satisfied: idna<3,>=2.5 in /usr/local/lib/python3.7/dist-packages (from requests<3.0.0,>=2.24.0->crim-intervals) (2.10)\n",
            "Requirement already satisfied: chardet<5,>=3.0.2 in /usr/local/lib/python3.7/dist-packages (from requests<3.0.0,>=2.24.0->crim-intervals) (3.0.4)\n",
            "Requirement already satisfied: urllib3<1.27,>=1.21.1 in /usr/local/lib/python3.7/dist-packages (from requests<3.0.0,>=2.24.0->crim-intervals) (1.24.3)\n",
            "Collecting h11==0.*\n",
            "\u001b[?25l  Downloading https://files.pythonhosted.org/packages/60/0f/7a0eeea938eaf61074f29fed9717f2010e8d0e0905d36b38d3275a1e4622/h11-0.12.0-py3-none-any.whl (54kB)\n",
            "\u001b[K     |████████████████████████████████| 61kB 5.8MB/s \n",
            "\u001b[?25hBuilding wheels for collected packages: music21\n",
            "  Building wheel for music21 (setup.py) ... \u001b[?25l\u001b[?25hdone\n",
            "  Created wheel for music21: filename=music21-5.7.2-cp37-none-any.whl size=22024603 sha256=1066800013bcf787f0501baefbd67f731044f083fe2ade12caf276c3f43b9e92\n",
            "  Stored in directory: /root/.cache/pip/wheels/6e/d0/05/1ef3daa9ae295073d807e468fcd820641965086424f1c633e3\n",
            "Successfully built music21\n",
            "\u001b[31mERROR: google-colab 1.0.0 has requirement requests~=2.23.0, but you'll have requests 2.25.1 which is incompatible.\u001b[0m\n",
            "\u001b[31mERROR: datascience 0.10.6 has requirement folium==0.2.1, but you'll have folium 0.8.3 which is incompatible.\u001b[0m\n",
            "Installing collected packages: music21, sniffio, h11, httpcore, rfc3986, httpx, requests, crim-intervals\n",
            "  Found existing installation: music21 5.5.0\n",
            "    Uninstalling music21-5.5.0:\n",
            "      Successfully uninstalled music21-5.5.0\n",
            "  Found existing installation: requests 2.23.0\n",
            "    Uninstalling requests-2.23.0:\n",
            "      Successfully uninstalled requests-2.23.0\n",
            "Successfully installed crim-intervals-0.3.6 h11-0.12.0 httpcore-0.12.3 httpx-0.16.1 music21-5.7.2 requests-2.25.1 rfc3986-1.4.0 sniffio-1.2.0\n"
          ],
          "name": "stdout"
        }
      ]
    },
    {
      "cell_type": "markdown",
      "metadata": {
        "id": "NaABA72_3dFi"
      },
      "source": [
        "### Short Corpus"
      ]
    },
    {
      "cell_type": "code",
      "metadata": {
        "colab": {
          "base_uri": "https://localhost:8080/"
        },
        "id": "BI7OOXI63dFj",
        "outputId": "b1df0621-c8db-42c3-9cac-77bcd55ae35e"
      },
      "source": [
        "# work_list = ['CRIM_Mass_0002_1.mei',\n",
        "#  'CRIM_Mass_0002_2.mei',\n",
        "#  'CRIM_Mass_0002_3.mei',\n",
        "#  'CRIM_Mass_0002_4.mei',\n",
        "#  'CRIM_Mass_0002_5.mei',\n",
        "# 'CRIM_Model_0001.mei']\n",
        "# Herissant_Missa_Quandiu_1.mei_msg.mei\n",
        "# Herissant_Missa_Quandiu_2.mei_msg.mei\n",
        "# Herissant_Missa_Quandiu_3.mei_msg.mei\n",
        "# Herissant_Missa_Quandiu_4.mei_msg.mei\n",
        "# Herissant_Missa_Quandiu_5.mei_msg.mei\n",
        "# Sermisy_Tant.mei_msg.mei\n",
        "# Riquet_Missa_Susanne_1.mei_msg.mei\n",
        "# Riquet_Missa_Susanne_2.mei_msg.mei\n",
        "# Riquet_Missa_Susanne_3.mei_msg.mei\n",
        "# Riquet_Missa_Susanne_4.mei_msg.mei\n",
        "# Riquet_Missa_Susanne_5.mei_msg.mei\n",
        "\n",
        "\n",
        "git = 'https://raw.githubusercontent.com/RichardFreedman/CRIM_additional_works/main/'\n",
        "work_list = [git + 'Riquet_Missa_Susanne_1.mei_msg.mei']\n",
        "# work_list = ['CRIM_Model_0001.mei']\n",
        "\n",
        "\n",
        "# work_list\n",
        "\n",
        "corpus = CorpusBase(work_list)\n",
        "for s in corpus.scores:\n",
        "    print(s.metadata.title)"
      ],
      "execution_count": 3,
      "outputs": [
        {
          "output_type": "stream",
          "text": [
            "Requesting file from https://raw.githubusercontent.com/RichardFreedman/CRIM_additional_works/main/Riquet_Missa_Susanne_1.mei_msg.mei...\n",
            "Successfully imported.\n",
            "Missa Susanne un jour Kyrie\n"
          ],
          "name": "stdout"
        }
      ]
    },
    {
      "cell_type": "markdown",
      "metadata": {
        "jupyter": {
          "outputs_hidden": true
        },
        "id": "1sfcCKrk3dFj"
      },
      "source": [
        "## Load File and Correct the MEI Metadata from CRIM"
      ]
    },
    {
      "cell_type": "code",
      "metadata": {
        "id": "laAfUNzV3dFj"
      },
      "source": [
        "# work_list = ['CRIM_Mass_0002_1.mei',\n",
        "#  'CRIM_Mass_0002_2.mei',\n",
        "#  'CRIM_Mass_0002_3.mei',\n",
        "#  'CRIM_Mass_0002_4.mei',\n",
        "#  'CRIM_Mass_0002_5.mei',\n",
        "# 'CRIM_Model_0001.mei']\n",
        "\n",
        "work_list = ['CRIM_Model_0019.mei']\n"
      ],
      "execution_count": null,
      "outputs": []
    },
    {
      "cell_type": "code",
      "metadata": {
        "tags": [],
        "id": "vu7nAHFb3dFk",
        "outputId": "6fdaef23-d99c-453b-8e2f-4d5e032f2d79"
      },
      "source": [
        "work_list = [el.replace(\"CRIM_\", \"https://crimproject.org/mei/MEI_4.0/CRIM_\") for el in work_list]\n",
        "corpus = CorpusBase(work_list)\n",
        "\n",
        "import xml.etree.ElementTree as ET\n",
        "import requests\n",
        "\n",
        "MEINSURI = 'http://www.music-encoding.org/ns/mei'\n",
        "MEINS = '{%s}' % MEINSURI\n",
        "\n",
        "for i, path in enumerate(work_list):\n",
        "    \n",
        "    try:\n",
        "        if path[0] == '/':\n",
        "            mei_doc = ET.parse(path)\n",
        "        else:\n",
        "            mei_doc = ET.fromstring(requests.get(path).text)\n",
        "\n",
        "      # Find the title from the MEI file and update the Music21 Score metadata\n",
        "        title = mei_doc.find('mei:meiHead//mei:titleStmt/mei:title', namespaces={\"mei\": MEINSURI}).text\n",
        "        print(path, title)\n",
        "        corpus.scores[i].metadata.title = title\n",
        "    except:\n",
        "        continue\n",
        "\n",
        "for s in corpus.scores:\n",
        "    print(s.metadata.title)"
      ],
      "execution_count": null,
      "outputs": [
        {
          "output_type": "stream",
          "text": [
            "Requesting file from https://crimproject.org/mei/MEI_4.0/CRIM_Model_0019.mei...\n",
            "Successfully imported.\n",
            "https://crimproject.org/mei/MEI_4.0/CRIM_Model_0019.mei Veni sponsa Christi\n",
            "Veni sponsa Christi\n"
          ],
          "name": "stdout"
        }
      ]
    },
    {
      "cell_type": "markdown",
      "metadata": {
        "id": "jlkQJNZu3dFk"
      },
      "source": [
        "\n",
        "## Select Actual or Incremental Durations\n",
        "\n",
        "#### About Rhythmic Durations\n",
        "\n",
        "- For `find_close_matches` and `find_exact_matches`, rhythmic variation/duration is displayed, but **not** factored into the calculation of matching.\n",
        "- **Incremental Offset** calculates the intervals using a **fixed offset between notes**, no matter their actual duration.  Use this to ignore passing tones or other ornaments.  The offsets are expressed in multiples of the quarter note (Offset = 1 samples at quarter note; Offset = 2 at half note, etc). Set with `vectors = IntervalBase(corpus.note_list_incremental_offset(2))`"
      ]
    },
    {
      "cell_type": "code",
      "metadata": {
        "id": "GYUDVH1m3dFl"
      },
      "source": [
        "vectors = IntervalBase(corpus.note_list)\n",
        "#vectors = IntervalBase(corpus.note_list_incremental_offset(2))"
      ],
      "execution_count": 4,
      "outputs": []
    },
    {
      "cell_type": "markdown",
      "metadata": {
        "id": "cQsZFE9X3dFl"
      },
      "source": [
        "***\n",
        "\n",
        "## Select Generic or Semitone Scale:\n",
        "\n",
        "- **Length of the Soggetto**: `into_patterns([vectors.semitone_intervals], 5)` \n",
        "\n",
        "- The **number** in this command represents the **minimum number of vectors to find**. 5 vectors is 6 notes.\n"
      ]
    },
    {
      "cell_type": "code",
      "metadata": {
        "id": "HmlD7qv53dFl"
      },
      "source": [
        "patterns = into_patterns([vectors.generic_intervals], 4)\n",
        "#patterns = into_patterns([vectors.semitone_intervals], 4)"
      ],
      "execution_count": 5,
      "outputs": []
    },
    {
      "cell_type": "markdown",
      "metadata": {
        "id": "RrUZFE1M3dFl"
      },
      "source": [
        "***\n",
        "\n",
        "## Select Exact Matches Here, or Close Below\n",
        "#### (Use comment feature to select screen preview or CSV output) \n",
        "\n",
        "- **Exact** is exact in *all* ways `find_exact_matches(patterns, 2)` \n",
        "- The **number** in this command represents the **minimum number of matching melodies needed before reporting**. This allows us to filter for common or uncommon soggetti."
      ]
    },
    {
      "cell_type": "code",
      "metadata": {
        "tags": [],
        "colab": {
          "base_uri": "https://localhost:8080/",
          "height": 595
        },
        "id": "nAxi9Fm-3dFm",
        "outputId": "323dd0fb-b8bf-4f19-f4e5-4bb29e278205"
      },
      "source": [
        "exact_matches = find_exact_matches(patterns, 2)\n",
        "output_exact = export_pandas(exact_matches)\n",
        "output_exact[\"pattern_generating_match\"] = output_exact[\"pattern_generating_match\"].apply(tuple)\n",
        "\n",
        "pd.DataFrame(output_exact).head()\n",
        "pd.set_option(\"display.max_rows\", None, \"display.max_columns\", None)\n",
        "output_exact.head()\n",
        "# output_exact.to_csv(f\"{s.metadata.title}_exact.csv\")"
      ],
      "execution_count": 7,
      "outputs": [
        {
          "output_type": "stream",
          "text": [
            "Finding exact matches...\n",
            "29 melodic intervals had more than 2 exact matches.\n",
            "\n"
          ],
          "name": "stdout"
        },
        {
          "output_type": "execute_result",
          "data": {
            "text/html": [
              "<div>\n",
              "<style scoped>\n",
              "    .dataframe tbody tr th:only-of-type {\n",
              "        vertical-align: middle;\n",
              "    }\n",
              "\n",
              "    .dataframe tbody tr th {\n",
              "        vertical-align: top;\n",
              "    }\n",
              "\n",
              "    .dataframe thead th {\n",
              "        text-align: right;\n",
              "    }\n",
              "</style>\n",
              "<table border=\"1\" class=\"dataframe\">\n",
              "  <thead>\n",
              "    <tr style=\"text-align: right;\">\n",
              "      <th></th>\n",
              "      <th>pattern_generating_match</th>\n",
              "      <th>pattern_matched</th>\n",
              "      <th>piece_title</th>\n",
              "      <th>part</th>\n",
              "      <th>start_measure</th>\n",
              "      <th>start_beat</th>\n",
              "      <th>end_measure</th>\n",
              "      <th>end_beat</th>\n",
              "      <th>start_offset</th>\n",
              "      <th>end_offset</th>\n",
              "      <th>note_durations</th>\n",
              "      <th>ema</th>\n",
              "      <th>ema_url</th>\n",
              "    </tr>\n",
              "  </thead>\n",
              "  <tbody>\n",
              "    <tr>\n",
              "      <th>0</th>\n",
              "      <td>(1, 1, 2, -2)</td>\n",
              "      <td>[1, 1, 2, -2]</td>\n",
              "      <td>Missa Susanne un jour Kyrie</td>\n",
              "      <td>[Superius]</td>\n",
              "      <td>5</td>\n",
              "      <td>1.0</td>\n",
              "      <td>7</td>\n",
              "      <td>3.0</td>\n",
              "      <td>32.0</td>\n",
              "      <td>52.0</td>\n",
              "      <td>[8.0, 4.0, 4.0, 4.0, 4.0]</td>\n",
              "      <td>5-7/1/@1.0-end,@start-end,@start-3.0</td>\n",
              "      <td>File must be a crim url to have a valid EMA url</td>\n",
              "    </tr>\n",
              "    <tr>\n",
              "      <th>1</th>\n",
              "      <td>(1, 1, 2, -2)</td>\n",
              "      <td>[1, 1, 2, -2]</td>\n",
              "      <td>Missa Susanne un jour Kyrie</td>\n",
              "      <td>[Altus]</td>\n",
              "      <td>21</td>\n",
              "      <td>1.0</td>\n",
              "      <td>23</td>\n",
              "      <td>3.0</td>\n",
              "      <td>160.0</td>\n",
              "      <td>180.0</td>\n",
              "      <td>[8.0, 4.0, 4.0, 4.0, 4.0]</td>\n",
              "      <td>21-23/2/@1.0-end,@start-end,@start-3.0</td>\n",
              "      <td>File must be a crim url to have a valid EMA url</td>\n",
              "    </tr>\n",
              "    <tr>\n",
              "      <th>2</th>\n",
              "      <td>(1, 1, 2, -2)</td>\n",
              "      <td>[1, 1, 2, -2]</td>\n",
              "      <td>Missa Susanne un jour Kyrie</td>\n",
              "      <td>[Tenor]</td>\n",
              "      <td>38</td>\n",
              "      <td>1.0</td>\n",
              "      <td>40</td>\n",
              "      <td>3.0</td>\n",
              "      <td>296.0</td>\n",
              "      <td>316.0</td>\n",
              "      <td>[8.0, 4.0, 4.0, 4.0, 4.0]</td>\n",
              "      <td>38-40/3/@1.0-end,@start-end,@start-3.0</td>\n",
              "      <td>File must be a crim url to have a valid EMA url</td>\n",
              "    </tr>\n",
              "    <tr>\n",
              "      <th>3</th>\n",
              "      <td>(1, 2, -2, -2)</td>\n",
              "      <td>[1, 2, -2, -2]</td>\n",
              "      <td>Missa Susanne un jour Kyrie</td>\n",
              "      <td>[Superius]</td>\n",
              "      <td>6</td>\n",
              "      <td>1.0</td>\n",
              "      <td>8</td>\n",
              "      <td>1.0</td>\n",
              "      <td>40.0</td>\n",
              "      <td>56.0</td>\n",
              "      <td>[4.0, 4.0, 4.0, 4.0, 8.0]</td>\n",
              "      <td>6-8/1/@1.0-end,@start-end,@start-1.0</td>\n",
              "      <td>File must be a crim url to have a valid EMA url</td>\n",
              "    </tr>\n",
              "    <tr>\n",
              "      <th>4</th>\n",
              "      <td>(1, 2, -2, -2)</td>\n",
              "      <td>[1, 2, -2, -2]</td>\n",
              "      <td>Missa Susanne un jour Kyrie</td>\n",
              "      <td>[Altus]</td>\n",
              "      <td>22</td>\n",
              "      <td>1.0</td>\n",
              "      <td>24</td>\n",
              "      <td>1.0</td>\n",
              "      <td>168.0</td>\n",
              "      <td>184.0</td>\n",
              "      <td>[4.0, 4.0, 4.0, 4.0, 8.0]</td>\n",
              "      <td>22-24/2/@1.0-end,@start-end,@start-1.0</td>\n",
              "      <td>File must be a crim url to have a valid EMA url</td>\n",
              "    </tr>\n",
              "  </tbody>\n",
              "</table>\n",
              "</div>"
            ],
            "text/plain": [
              "  pattern_generating_match pattern_matched                  piece_title  \\\n",
              "0            (1, 1, 2, -2)   [1, 1, 2, -2]  Missa Susanne un jour Kyrie   \n",
              "1            (1, 1, 2, -2)   [1, 1, 2, -2]  Missa Susanne un jour Kyrie   \n",
              "2            (1, 1, 2, -2)   [1, 1, 2, -2]  Missa Susanne un jour Kyrie   \n",
              "3           (1, 2, -2, -2)  [1, 2, -2, -2]  Missa Susanne un jour Kyrie   \n",
              "4           (1, 2, -2, -2)  [1, 2, -2, -2]  Missa Susanne un jour Kyrie   \n",
              "\n",
              "          part  start_measure  start_beat  end_measure  end_beat  \\\n",
              "0  [Superius]               5         1.0            7       3.0   \n",
              "1      [Altus]             21         1.0           23       3.0   \n",
              "2      [Tenor]             38         1.0           40       3.0   \n",
              "3  [Superius]               6         1.0            8       1.0   \n",
              "4      [Altus]             22         1.0           24       1.0   \n",
              "\n",
              "   start_offset  end_offset             note_durations  \\\n",
              "0          32.0        52.0  [8.0, 4.0, 4.0, 4.0, 4.0]   \n",
              "1         160.0       180.0  [8.0, 4.0, 4.0, 4.0, 4.0]   \n",
              "2         296.0       316.0  [8.0, 4.0, 4.0, 4.0, 4.0]   \n",
              "3          40.0        56.0  [4.0, 4.0, 4.0, 4.0, 8.0]   \n",
              "4         168.0       184.0  [4.0, 4.0, 4.0, 4.0, 8.0]   \n",
              "\n",
              "                                      ema  \\\n",
              "0    5-7/1/@1.0-end,@start-end,@start-3.0   \n",
              "1  21-23/2/@1.0-end,@start-end,@start-3.0   \n",
              "2  38-40/3/@1.0-end,@start-end,@start-3.0   \n",
              "3    6-8/1/@1.0-end,@start-end,@start-1.0   \n",
              "4  22-24/2/@1.0-end,@start-end,@start-1.0   \n",
              "\n",
              "                                           ema_url  \n",
              "0  File must be a crim url to have a valid EMA url  \n",
              "1  File must be a crim url to have a valid EMA url  \n",
              "2  File must be a crim url to have a valid EMA url  \n",
              "3  File must be a crim url to have a valid EMA url  \n",
              "4  File must be a crim url to have a valid EMA url  "
            ]
          },
          "metadata": {
            "tags": []
          },
          "execution_count": 7
        }
      ]
    },
    {
      "cell_type": "code",
      "metadata": {
        "id": "iyEv0_2o3dFm"
      },
      "source": [
        "df = output_exact\n",
        "pd.set_option(\"display.max_rows\", None, \"display.max_columns\", None)\n",
        "df[\"note_durations\"] = df[\"note_durations\"].map(lambda x: pd.eval(x))\n",
        "df[\"start_offset\"] = df[\"start_offset\"].map(lambda x: pd.eval(x))\n",
        "df[\"end_offset\"] = df[\"end_offset\"].map(lambda x: pd.eval(x))\n",
        "df[\"pattern_generating_match\"] = df[\"pattern_generating_match\"].apply(tuple)\n",
        "df[\"pattern_matched\"] = df[\"pattern_matched\"].apply(tuple)\n",
        "df[\"sum_durs\"] = df.note_durations.apply(sum)\n",
        "df = df.round(2)\n",
        "\n",
        "# df.to_csv(f\"{s.metadata.title}_exact.csv\")\n"
      ],
      "execution_count": 8,
      "outputs": []
    },
    {
      "cell_type": "markdown",
      "metadata": {
        "id": "Wc0x1whd3dFm"
      },
      "source": [
        "***\n",
        "\n",
        "### Select Close Matches Here\n",
        "#### (Comment out the 'for item iteration' in order to skip screen preview)\n",
        "\n",
        "- **Close** matches allow for melodic variation (see more below). `find_close_matches(patterns, 2, 1)`\n",
        "- The **first number** in this command is the **minimum number of melodies** needed before reporting\n",
        "- The **second number** is **threshold of similarity** needed in order to find a match. \n",
        "- Lower number = very similar; higher number = less similar\n",
        "\n",
        "##### More about Close Matches  \n",
        "- The **threshold for close matches** is determined by the **second number** called in the method. \n",
        "- We select two patterns, then compare *each vector in each pattern successively*. \n",
        "- The *differences between each vector are summed*. \n",
        "- If that value is **below the threshold specified**, we consider the **two patterns closely matched**.\n",
        "- The format of the method call is  `find_close_matches(the array you get from into_patterns, minimum matches needed to be displayed, threshold for close match)`."
      ]
    },
    {
      "cell_type": "code",
      "metadata": {
        "tags": [],
        "id": "OmiN1_n33dFn",
        "outputId": "a9612661-6df9-42e2-8a40-cfb5033ff0d1"
      },
      "source": [
        "close_matches = find_close_matches(patterns, 2, 1)\n",
        "#for item in close_matches:\n",
        "   #item.print_close_matches()\n",
        "    #return pd.DataFrame(close_matches)\n",
        "\n",
        "output_close = export_pandas(close_matches)\n",
        "output_close[\"pattern_generating_match\"] = output_close[\"pattern_generating_match\"].apply(tuple)\n",
        "# output_close.to_csv(f\"{s.metadata.title}_close.csv\")\n"
      ],
      "execution_count": null,
      "outputs": [
        {
          "output_type": "stream",
          "text": [
            "Finding close matches...\n",
            "86 melodic intervals had more than 2 exact or close matches.\n",
            "\n"
          ],
          "name": "stdout"
        }
      ]
    },
    {
      "cell_type": "code",
      "metadata": {
        "colab": {
          "base_uri": "https://localhost:8080/",
          "height": 649
        },
        "id": "wKjcNjtE3dFn",
        "outputId": "d9850146-3dfc-40bb-fc8d-33d47fcf8c4b"
      },
      "source": [
        "df = output_exact\n",
        "pd.set_option(\"display.max_rows\", None, \"display.max_columns\", None)\n",
        "df[\"note_durations\"] = df[\"note_durations\"].map(lambda x: pd.eval(x))\n",
        "df[\"start_offset\"] = df[\"start_offset\"].map(lambda x: pd.eval(x))\n",
        "df[\"end_offset\"] = df[\"end_offset\"].map(lambda x: pd.eval(x))\n",
        "df[\"pattern_generating_match\"] = df[\"pattern_generating_match\"].apply(tuple)\n",
        "df[\"pattern_matched\"] = df[\"pattern_matched\"].apply(tuple)\n",
        "df[\"sum_durs\"] = df.note_durations.apply(sum)\n",
        "df = df.round(2)\n",
        "df.head()\n",
        "# df.to_csv(f\"{s.metadata.title}_close.csv\")\n"
      ],
      "execution_count": 11,
      "outputs": [
        {
          "output_type": "execute_result",
          "data": {
            "text/html": [
              "<div>\n",
              "<style scoped>\n",
              "    .dataframe tbody tr th:only-of-type {\n",
              "        vertical-align: middle;\n",
              "    }\n",
              "\n",
              "    .dataframe tbody tr th {\n",
              "        vertical-align: top;\n",
              "    }\n",
              "\n",
              "    .dataframe thead th {\n",
              "        text-align: right;\n",
              "    }\n",
              "</style>\n",
              "<table border=\"1\" class=\"dataframe\">\n",
              "  <thead>\n",
              "    <tr style=\"text-align: right;\">\n",
              "      <th></th>\n",
              "      <th>pattern_generating_match</th>\n",
              "      <th>pattern_matched</th>\n",
              "      <th>piece_title</th>\n",
              "      <th>part</th>\n",
              "      <th>start_measure</th>\n",
              "      <th>start_beat</th>\n",
              "      <th>end_measure</th>\n",
              "      <th>end_beat</th>\n",
              "      <th>start_offset</th>\n",
              "      <th>end_offset</th>\n",
              "      <th>note_durations</th>\n",
              "      <th>ema</th>\n",
              "      <th>ema_url</th>\n",
              "      <th>sum_durs</th>\n",
              "    </tr>\n",
              "  </thead>\n",
              "  <tbody>\n",
              "    <tr>\n",
              "      <th>0</th>\n",
              "      <td>(1, 1, 2, -2)</td>\n",
              "      <td>(1, 1, 2, -2)</td>\n",
              "      <td>Missa Susanne un jour Kyrie</td>\n",
              "      <td>[Superius]</td>\n",
              "      <td>5</td>\n",
              "      <td>1.0</td>\n",
              "      <td>7</td>\n",
              "      <td>3.0</td>\n",
              "      <td>32.0</td>\n",
              "      <td>52.0</td>\n",
              "      <td>[8.0, 4.0, 4.0, 4.0, 4.0]</td>\n",
              "      <td>5-7/1/@1.0-end,@start-end,@start-3.0</td>\n",
              "      <td>File must be a crim url to have a valid EMA url</td>\n",
              "      <td>24.0</td>\n",
              "    </tr>\n",
              "    <tr>\n",
              "      <th>1</th>\n",
              "      <td>(1, 1, 2, -2)</td>\n",
              "      <td>(1, 1, 2, -2)</td>\n",
              "      <td>Missa Susanne un jour Kyrie</td>\n",
              "      <td>[Altus]</td>\n",
              "      <td>21</td>\n",
              "      <td>1.0</td>\n",
              "      <td>23</td>\n",
              "      <td>3.0</td>\n",
              "      <td>160.0</td>\n",
              "      <td>180.0</td>\n",
              "      <td>[8.0, 4.0, 4.0, 4.0, 4.0]</td>\n",
              "      <td>21-23/2/@1.0-end,@start-end,@start-3.0</td>\n",
              "      <td>File must be a crim url to have a valid EMA url</td>\n",
              "      <td>24.0</td>\n",
              "    </tr>\n",
              "    <tr>\n",
              "      <th>2</th>\n",
              "      <td>(1, 1, 2, -2)</td>\n",
              "      <td>(1, 1, 2, -2)</td>\n",
              "      <td>Missa Susanne un jour Kyrie</td>\n",
              "      <td>[Tenor]</td>\n",
              "      <td>38</td>\n",
              "      <td>1.0</td>\n",
              "      <td>40</td>\n",
              "      <td>3.0</td>\n",
              "      <td>296.0</td>\n",
              "      <td>316.0</td>\n",
              "      <td>[8.0, 4.0, 4.0, 4.0, 4.0]</td>\n",
              "      <td>38-40/3/@1.0-end,@start-end,@start-3.0</td>\n",
              "      <td>File must be a crim url to have a valid EMA url</td>\n",
              "      <td>24.0</td>\n",
              "    </tr>\n",
              "    <tr>\n",
              "      <th>3</th>\n",
              "      <td>(1, 2, -2, -2)</td>\n",
              "      <td>(1, 2, -2, -2)</td>\n",
              "      <td>Missa Susanne un jour Kyrie</td>\n",
              "      <td>[Superius]</td>\n",
              "      <td>6</td>\n",
              "      <td>1.0</td>\n",
              "      <td>8</td>\n",
              "      <td>1.0</td>\n",
              "      <td>40.0</td>\n",
              "      <td>56.0</td>\n",
              "      <td>[4.0, 4.0, 4.0, 4.0, 8.0]</td>\n",
              "      <td>6-8/1/@1.0-end,@start-end,@start-1.0</td>\n",
              "      <td>File must be a crim url to have a valid EMA url</td>\n",
              "      <td>24.0</td>\n",
              "    </tr>\n",
              "    <tr>\n",
              "      <th>4</th>\n",
              "      <td>(1, 2, -2, -2)</td>\n",
              "      <td>(1, 2, -2, -2)</td>\n",
              "      <td>Missa Susanne un jour Kyrie</td>\n",
              "      <td>[Altus]</td>\n",
              "      <td>22</td>\n",
              "      <td>1.0</td>\n",
              "      <td>24</td>\n",
              "      <td>1.0</td>\n",
              "      <td>168.0</td>\n",
              "      <td>184.0</td>\n",
              "      <td>[4.0, 4.0, 4.0, 4.0, 8.0]</td>\n",
              "      <td>22-24/2/@1.0-end,@start-end,@start-1.0</td>\n",
              "      <td>File must be a crim url to have a valid EMA url</td>\n",
              "      <td>24.0</td>\n",
              "    </tr>\n",
              "  </tbody>\n",
              "</table>\n",
              "</div>"
            ],
            "text/plain": [
              "  pattern_generating_match pattern_matched                  piece_title  \\\n",
              "0            (1, 1, 2, -2)   (1, 1, 2, -2)  Missa Susanne un jour Kyrie   \n",
              "1            (1, 1, 2, -2)   (1, 1, 2, -2)  Missa Susanne un jour Kyrie   \n",
              "2            (1, 1, 2, -2)   (1, 1, 2, -2)  Missa Susanne un jour Kyrie   \n",
              "3           (1, 2, -2, -2)  (1, 2, -2, -2)  Missa Susanne un jour Kyrie   \n",
              "4           (1, 2, -2, -2)  (1, 2, -2, -2)  Missa Susanne un jour Kyrie   \n",
              "\n",
              "          part  start_measure  start_beat  end_measure  end_beat  \\\n",
              "0  [Superius]               5         1.0            7       3.0   \n",
              "1      [Altus]             21         1.0           23       3.0   \n",
              "2      [Tenor]             38         1.0           40       3.0   \n",
              "3  [Superius]               6         1.0            8       1.0   \n",
              "4      [Altus]             22         1.0           24       1.0   \n",
              "\n",
              "   start_offset  end_offset             note_durations  \\\n",
              "0          32.0        52.0  [8.0, 4.0, 4.0, 4.0, 4.0]   \n",
              "1         160.0       180.0  [8.0, 4.0, 4.0, 4.0, 4.0]   \n",
              "2         296.0       316.0  [8.0, 4.0, 4.0, 4.0, 4.0]   \n",
              "3          40.0        56.0  [4.0, 4.0, 4.0, 4.0, 8.0]   \n",
              "4         168.0       184.0  [4.0, 4.0, 4.0, 4.0, 8.0]   \n",
              "\n",
              "                                      ema  \\\n",
              "0    5-7/1/@1.0-end,@start-end,@start-3.0   \n",
              "1  21-23/2/@1.0-end,@start-end,@start-3.0   \n",
              "2  38-40/3/@1.0-end,@start-end,@start-3.0   \n",
              "3    6-8/1/@1.0-end,@start-end,@start-1.0   \n",
              "4  22-24/2/@1.0-end,@start-end,@start-1.0   \n",
              "\n",
              "                                           ema_url  sum_durs  \n",
              "0  File must be a crim url to have a valid EMA url      24.0  \n",
              "1  File must be a crim url to have a valid EMA url      24.0  \n",
              "2  File must be a crim url to have a valid EMA url      24.0  \n",
              "3  File must be a crim url to have a valid EMA url      24.0  \n",
              "4  File must be a crim url to have a valid EMA url      24.0  "
            ]
          },
          "metadata": {
            "tags": []
          },
          "execution_count": 11
        }
      ]
    },
    {
      "cell_type": "markdown",
      "metadata": {
        "id": "XFw-AMJ23dFo"
      },
      "source": [
        "***\n",
        "\n",
        "## Classify Patterns Here \n",
        "*  Note:  depends on choice of Close or Exact above!  \n"
      ]
    },
    {
      "cell_type": "code",
      "metadata": {
        "id": "3-Mu8u8B3dFo"
      },
      "source": [
        "# THIS IS DEV COPY for use with CLOSE/EXACT Matches\n",
        "\n",
        "import numpy as np\n",
        "\n",
        "# Converts lists to tuples\n",
        "\n",
        "def lists_to_tuples(el):\n",
        "    if isinstance(el, list):\n",
        "        return tuple(el)\n",
        "    else:\n",
        "        return el\n",
        "\n",
        "# Filters for the length of the Presentation Type in the Classifier\n",
        "\n",
        "def limit_offset_size(array, limit):\n",
        "    under_limit = np.cumsum(array) <= limit\n",
        "    return array[: sum(under_limit)]\n",
        "\n",
        "# Gets the the list of offset differences for each group \n",
        "\n",
        "def get_offset_difference_list(group):\n",
        "    # if we do sort values as part of the func call, then we don't need this first line\n",
        "    group = group.sort_values(\"start_offset\")\n",
        "    group[\"next_offset\"] = group.start_offset.shift(-1)\n",
        "    offset_difference_list = (group.next_offset - group.start_offset).dropna().tolist()\n",
        "    return offset_difference_list\n",
        "\n",
        "# The classifications are done here\n",
        "# be sure to have the offset difference limit set here and matched in gap check below  80 = ten bars\n",
        "\n",
        "def classify_offsets(offset_difference_list):\n",
        "    \"\"\"\n",
        "    Put logic for classifying an offset list here\n",
        "    \"\"\"\n",
        "    # \n",
        "    offset_difference_list = limit_offset_size(offset_difference_list, 500)\n",
        "    \n",
        "    alt_list = offset_difference_list[::2]\n",
        "    \n",
        "    if len(set(offset_difference_list)) == 1 and len(offset_difference_list) > 1:\n",
        "        return (\"PEN\", offset_difference_list)\n",
        "    # elif (len(offset_difference_list) %2 != 0) and (len(set(alt_list)) == 1):\n",
        "    elif (len(offset_difference_list) %2 != 0) and (len(set(alt_list)) == 1) and (len(offset_difference_list) >= 3):\n",
        "        return (\"ID\", offset_difference_list)\n",
        "    elif len(offset_difference_list) >= 1:\n",
        "        return (\"Fuga\", offset_difference_list)\n",
        "    else: \n",
        "        return (\"Singleton\", offset_difference_list)\n",
        "    \n",
        "# adds predicted type, offsets and entry numbers to the results\n",
        "\n",
        "def predict_type(group):\n",
        "    offset_differences = get_offset_difference_list(group)\n",
        "    predicted_type, offsets = classify_offsets(offset_differences)\n",
        "\n",
        "    group[\"predicted_type\"] = [predicted_type for i in range(len(group))]\n",
        "    group[\"offset_diffs\"] = [offsets for i in range(len(group))]\n",
        "    group[\"entry_number\"] = [i + 1 for i in range(len(group))]\n",
        "\n",
        "    return group"
      ],
      "execution_count": 12,
      "outputs": []
    },
    {
      "cell_type": "code",
      "metadata": {
        "id": "1NPsqGaT3dFo"
      },
      "source": [
        "# lists for views.  These are used when calling the df below\n",
        "\n",
        "simple_view = [\"piece_title\", \"part\", \"pattern_generating_match\", \"pattern_matched\", \"start_offset\"]\n",
        "\n",
        "offset_details = [\"start_measure\", \"start_beat\", \"end_offset\", \"note_durations\", \"prev_entry_off\", \"next_entry_off\"]\n",
        "\n",
        "drop_cols = [\"pattern_matched\", \"part\", \"pattern_generating_match\", \"piece_title\", \"start_measure\", \"start_beat\", \"end_offset\", \"note_durations\", \"prev_entry_off\", \"next_entry_off\"]\n",
        "\n",
        "ready_classify = [\"pattern_generating_match\", \"pattern_matched\", \"piece_title\", \"part\", \"start_measure\", \"start_beat\", \"start_offset\", \"sub_group_id\", \"is_first\"]"
      ],
      "execution_count": 13,
      "outputs": []
    },
    {
      "cell_type": "code",
      "metadata": {
        "id": "fwqW36-O3dFp"
      },
      "source": [
        "# now process the original match data df by:\n",
        "# sorting by start offset, then group by pattern generating match and applying the function above for prev entry\n",
        "# also give each group a number\n",
        "# sort by group number and start offset\n",
        "# so that we can find PARALLEL (=0) Forward Gaps (the distance to NEXT entry), and Backward Gaps (distance to PREVIOUS Entry)\n",
        "# All Proximate Matches are part of same sub Group (and go to classifier)\n",
        "# Parallels are part of Sub Group but NOT part of Classified.  We will filter them OUT before classification\n",
        "# Forward ONLY means the NEXT entry is a GAP.  No problem for Forward ONLY, since these are part of the previous set.\n",
        "# Backward ONLY means the LAST entry was a GAP.  So these are NEW subgroups, since a new Presentation Type begins\n",
        "# Forward AND Backward Gaps are SINGLETONS:  We will filter then OUT before Classification\n",
        "# If an entry is the LAST in a Group and also has a BACKWARD gap it is also a SINGLETON\n",
        "\n",
        "df2 = df\n",
        "\n",
        "# Make Groups, Sort By Group and Offset, then and Add Previous/Next\n",
        "df2[\"group_number\"] = df2.groupby('pattern_generating_match').ngroup()\n",
        "# df2[\"group_number\"] = df2.groupby('pattern_matched').ngroup()\n",
        "df2 = df2.sort_values(['group_number', 'start_offset'])\n",
        "df2[\"prev_entry_off\"] = df2[\"start_offset\"].shift(1)\n",
        "df2[\"next_entry_off\"] = df2[\"start_offset\"].shift(-1)\n",
        "\n",
        "\n",
        "first_of_group = df2.drop_duplicates(subset=[\"pattern_generating_match\"], keep='first').index\n",
        "df2[\"is_first\"] = df2.index.isin(first_of_group)\n",
        "last_of_group = df2.drop_duplicates(subset=[\"pattern_generating_match\"], keep='last').index\n",
        "df2[\"is_last\"] = df2.index.isin(last_of_group)\n",
        "\n",
        "# Check Differences between Next and Last Offset\n",
        "\n",
        "df2[\"last_off_diff\"] = df2[\"start_offset\"] - df2[\"prev_entry_off\"]\n",
        "df2[\"next_off_diff\"] = df2[\"next_entry_off\"] - df2[\"start_offset\"]\n",
        "\n",
        "# Find Parallel Entries \n",
        "df2[\"parallel\"] = df2[\"last_off_diff\"] == 0\n",
        "\n",
        "# Set Gap Limits and Check Gaps Forward and Back\n",
        "df2[\"forward_gapped\"] = df2[\"next_off_diff\"] >= 40\n",
        "df2[\"back_gapped\"] = df2[\"last_off_diff\"] >= 40\n",
        "\n",
        "# Find Singletons and Split Groups with Gaps\n",
        "df2[\"singleton\"] = ((df2['forward_gapped'] == True) & (df2['back_gapped'] == True) | (df2['back_gapped'] == True) & (df2[\"is_last\"]))\n",
        "df2[\"split_group\"] = (df2['forward_gapped'] == False) & (df2['back_gapped'] == True)\n",
        "\n",
        "#Mask Out Parallels and Singletons\n",
        "df2 = df2[df2[\"parallel\"] != True]\n",
        "df2 = df2[df2[\"singleton\"] != True]\n",
        "df2[\"next_off_diff\"] = df2[\"next_off_diff\"].abs()\n",
        "df2[\"last_off_diff\"] = df2[\"last_off_diff\"].abs()\n",
        "\n",
        "# Find Final Groups\n",
        "df2[\"combined_group\"] = (df2.split_group | df2.is_first)\n",
        "df2.loc[(df2[\"combined_group\"]), \"sub_group_id\"] = range(df2.combined_group.sum())\n",
        "df2[\"sub_group_id\"] = df2[\"sub_group_id\"].ffill()\n",
        "\n"
      ],
      "execution_count": 14,
      "outputs": []
    },
    {
      "cell_type": "markdown",
      "metadata": {
        "id": "93h5Qgmt3dFp"
      },
      "source": [
        "## Histogram of Sum of Durations for Each Soggetto"
      ]
    },
    {
      "cell_type": "code",
      "metadata": {
        "colab": {
          "base_uri": "https://localhost:8080/",
          "height": 282
        },
        "id": "T0SWwkmb3dFp",
        "outputId": "de4e4e96-8d9e-4943-8cfc-7f6fd7b04ef1"
      },
      "source": [
        "df2.sum_durs.hist(bins = 20)"
      ],
      "execution_count": 15,
      "outputs": [
        {
          "output_type": "execute_result",
          "data": {
            "text/plain": [
              "<matplotlib.axes._subplots.AxesSubplot at 0x7fb5ceea0090>"
            ]
          },
          "metadata": {
            "tags": []
          },
          "execution_count": 15
        },
        {
          "output_type": "display_data",
          "data": {
            "image/png": "[encoded data removed]",
            "text/plain": [
              "<Figure size 432x288 with 1 Axes>"
            ]
          },
          "metadata": {
            "tags": [],
            "image/png": {
              "width": 369,
              "height": 248
            },
            "needs_background": "light"
          }
        }
      ]
    },
    {
      "cell_type": "code",
      "metadata": {
        "id": "KTvG6Me43dFp"
      },
      "source": [
        "# mask out short or long soggetti depending on information above\n",
        "\n",
        "df2 = df2[df2[\"sum_durs\"] >= 10]\n",
        "df2 = df2[df2[\"sum_durs\"] <= 25]\n"
      ],
      "execution_count": 16,
      "outputs": []
    },
    {
      "cell_type": "code",
      "metadata": {
        "colab": {
          "base_uri": "https://localhost:8080/",
          "height": 359
        },
        "id": "FOPjSycu3dFp",
        "outputId": "f60aca39-bfbc-48b8-cbac-bf1a626c4cf2"
      },
      "source": [
        "# run the classifier on the newly curated list of groups\n",
        "\n",
        "classified2 = df2.applymap(lists_to_tuples).groupby(\"sub_group_id\").apply(predict_type)\n",
        "\n",
        "# OPTIONAL:  drop the new singletons\n",
        "\n",
        "classified2.drop(classified2[classified2['predicted_type'] == \"Singleton\"].index, inplace = True)\n",
        "\n",
        "# OPTIONAL:  select only certain presentation types\n",
        "\n",
        "# classified2 = classified2[classified2[\"predicted_type\"] == \"Fuga\"]\n",
        "\n",
        "classified2[\"start\"] = classified2[\"start_measure\"].astype(str) +\"/\"+ classified2[\"start_beat\"].astype(str) \n",
        "classified2.drop(columns=['start_measure', 'start_beat','offset_diffs'], inplace=True)\n",
        "\n",
        "# put things back in order by offset and group them again\n",
        "classified2.sort_values(by = [\"start_offset\"], inplace=True)\n",
        "# c3 = classified2.groupby(by = [\"sub_group_id\"])\n",
        "# c3 = c3.head()\n",
        "# Now transform as Pivot Table\n",
        "pivot = classified2.pivot_table(index=[\"piece_title\", \"pattern_generating_match\", \"predicted_type\", \"sub_group_id\"],\n",
        "            columns=\"entry_number\",\n",
        "            values=[\"part\", \"start_offset\", \"start\", \"sum_durs\"],\n",
        "            aggfunc=lambda x: x)\n",
        "pivot_sort = pivot.sort_values(by = [(\"start_offset\", 1)])\n",
        "pivot_sort = pivot_sort.fillna(\"-\")\n",
        "pivot_sort.reset_index(inplace=True)\n",
        "pivot_sort = pivot_sort.drop(columns=['start_offset', 'sub_group_id'], level=0)\n",
        "pivot_sort\n"
      ],
      "execution_count": 17,
      "outputs": [
        {
          "output_type": "execute_result",
          "data": {
            "text/html": [
              "<div>\n",
              "<style scoped>\n",
              "    .dataframe tbody tr th:only-of-type {\n",
              "        vertical-align: middle;\n",
              "    }\n",
              "\n",
              "    .dataframe tbody tr th {\n",
              "        vertical-align: top;\n",
              "    }\n",
              "\n",
              "    .dataframe thead tr th {\n",
              "        text-align: left;\n",
              "    }\n",
              "</style>\n",
              "<table border=\"1\" class=\"dataframe\">\n",
              "  <thead>\n",
              "    <tr>\n",
              "      <th></th>\n",
              "      <th>piece_title</th>\n",
              "      <th>pattern_generating_match</th>\n",
              "      <th>predicted_type</th>\n",
              "      <th colspan=\"3\" halign=\"left\">part</th>\n",
              "      <th colspan=\"3\" halign=\"left\">start</th>\n",
              "      <th colspan=\"3\" halign=\"left\">sum_durs</th>\n",
              "    </tr>\n",
              "    <tr>\n",
              "      <th>entry_number</th>\n",
              "      <th></th>\n",
              "      <th></th>\n",
              "      <th></th>\n",
              "      <th>1</th>\n",
              "      <th>2</th>\n",
              "      <th>3</th>\n",
              "      <th>1</th>\n",
              "      <th>2</th>\n",
              "      <th>3</th>\n",
              "      <th>1</th>\n",
              "      <th>2</th>\n",
              "      <th>3</th>\n",
              "    </tr>\n",
              "  </thead>\n",
              "  <tbody>\n",
              "    <tr>\n",
              "      <th>0</th>\n",
              "      <td>Missa Susanne un jour Kyrie</td>\n",
              "      <td>(3, -2, -2, -2)</td>\n",
              "      <td>Fuga</td>\n",
              "      <td>[Altus]</td>\n",
              "      <td>[Bassus]</td>\n",
              "      <td>-</td>\n",
              "      <td>1/1.0</td>\n",
              "      <td>3/1.0</td>\n",
              "      <td>-</td>\n",
              "      <td>10.0</td>\n",
              "      <td>10.0</td>\n",
              "      <td>-</td>\n",
              "    </tr>\n",
              "    <tr>\n",
              "      <th>1</th>\n",
              "      <td>Missa Susanne un jour Kyrie</td>\n",
              "      <td>(2, 2, -2, 2)</td>\n",
              "      <td>Fuga</td>\n",
              "      <td>[Bassus]</td>\n",
              "      <td>[Tenor]</td>\n",
              "      <td>-</td>\n",
              "      <td>7/3.0</td>\n",
              "      <td>7/4.5</td>\n",
              "      <td>-</td>\n",
              "      <td>12.0</td>\n",
              "      <td>13.0</td>\n",
              "      <td>-</td>\n",
              "    </tr>\n",
              "    <tr>\n",
              "      <th>2</th>\n",
              "      <td>Missa Susanne un jour Kyrie</td>\n",
              "      <td>(-2, -2, -2, -2)</td>\n",
              "      <td>Fuga</td>\n",
              "      <td>[Superius]</td>\n",
              "      <td>[Bassus]</td>\n",
              "      <td>-</td>\n",
              "      <td>11/3.0</td>\n",
              "      <td>13/3.0</td>\n",
              "      <td>-</td>\n",
              "      <td>20.0</td>\n",
              "      <td>10.0</td>\n",
              "      <td>-</td>\n",
              "    </tr>\n",
              "    <tr>\n",
              "      <th>3</th>\n",
              "      <td>Missa Susanne un jour Kyrie</td>\n",
              "      <td>(4, 1, -2, -3)</td>\n",
              "      <td>Fuga</td>\n",
              "      <td>[Bassus]</td>\n",
              "      <td>[Superius]</td>\n",
              "      <td>[Bassus]</td>\n",
              "      <td>17/1.0</td>\n",
              "      <td>18/2.0</td>\n",
              "      <td>19/4.0</td>\n",
              "      <td>12.0</td>\n",
              "      <td>10.0</td>\n",
              "      <td>11</td>\n",
              "    </tr>\n",
              "    <tr>\n",
              "      <th>4</th>\n",
              "      <td>Missa Susanne un jour Kyrie</td>\n",
              "      <td>(1, -2, -3, 2)</td>\n",
              "      <td>Fuga</td>\n",
              "      <td>[Bassus]</td>\n",
              "      <td>[Superius]</td>\n",
              "      <td>[Bassus]</td>\n",
              "      <td>17/3.0</td>\n",
              "      <td>18/3.0</td>\n",
              "      <td>20/1.0</td>\n",
              "      <td>12.0</td>\n",
              "      <td>10.0</td>\n",
              "      <td>10</td>\n",
              "    </tr>\n",
              "    <tr>\n",
              "      <th>5</th>\n",
              "      <td>Missa Susanne un jour Kyrie</td>\n",
              "      <td>(1, 1, -2, -2)</td>\n",
              "      <td>Fuga</td>\n",
              "      <td>[Altus]</td>\n",
              "      <td>[Tenor]</td>\n",
              "      <td>[Bassus]</td>\n",
              "      <td>26/1.0</td>\n",
              "      <td>26/4.0</td>\n",
              "      <td>28/2.0</td>\n",
              "      <td>24.0</td>\n",
              "      <td>14.0</td>\n",
              "      <td>12</td>\n",
              "    </tr>\n",
              "    <tr>\n",
              "      <th>6</th>\n",
              "      <td>Missa Susanne un jour Kyrie</td>\n",
              "      <td>(-2, -2, -2, 2)</td>\n",
              "      <td>Fuga</td>\n",
              "      <td>[Tenor]</td>\n",
              "      <td>[Tenor]</td>\n",
              "      <td>-</td>\n",
              "      <td>30/2.0</td>\n",
              "      <td>31/4.0</td>\n",
              "      <td>-</td>\n",
              "      <td>14.0</td>\n",
              "      <td>10.0</td>\n",
              "      <td>-</td>\n",
              "    </tr>\n",
              "    <tr>\n",
              "      <th>7</th>\n",
              "      <td>Missa Susanne un jour Kyrie</td>\n",
              "      <td>(-2, -2, 2, -2)</td>\n",
              "      <td>Fuga</td>\n",
              "      <td>[Tenor]</td>\n",
              "      <td>[Tenor]</td>\n",
              "      <td>-</td>\n",
              "      <td>30/4.0</td>\n",
              "      <td>32/1.0</td>\n",
              "      <td>-</td>\n",
              "      <td>12.0</td>\n",
              "      <td>16.0</td>\n",
              "      <td>-</td>\n",
              "    </tr>\n",
              "    <tr>\n",
              "      <th>8</th>\n",
              "      <td>Missa Susanne un jour Kyrie</td>\n",
              "      <td>(2, 2, 2, -2)</td>\n",
              "      <td>Fuga</td>\n",
              "      <td>[Superius]</td>\n",
              "      <td>[Altus]</td>\n",
              "      <td>-</td>\n",
              "      <td>39/2.0</td>\n",
              "      <td>43/1.5</td>\n",
              "      <td>-</td>\n",
              "      <td>12.0</td>\n",
              "      <td>11.0</td>\n",
              "      <td>-</td>\n",
              "    </tr>\n",
              "  </tbody>\n",
              "</table>\n",
              "</div>"
            ],
            "text/plain": [
              "                              piece_title pattern_generating_match  \\\n",
              "entry_number                                                         \n",
              "0             Missa Susanne un jour Kyrie          (3, -2, -2, -2)   \n",
              "1             Missa Susanne un jour Kyrie            (2, 2, -2, 2)   \n",
              "2             Missa Susanne un jour Kyrie         (-2, -2, -2, -2)   \n",
              "3             Missa Susanne un jour Kyrie           (4, 1, -2, -3)   \n",
              "4             Missa Susanne un jour Kyrie           (1, -2, -3, 2)   \n",
              "5             Missa Susanne un jour Kyrie           (1, 1, -2, -2)   \n",
              "6             Missa Susanne un jour Kyrie          (-2, -2, -2, 2)   \n",
              "7             Missa Susanne un jour Kyrie          (-2, -2, 2, -2)   \n",
              "8             Missa Susanne un jour Kyrie            (2, 2, 2, -2)   \n",
              "\n",
              "             predicted_type         part                          start  \\\n",
              "entry_number                           1            2         3       1   \n",
              "0                      Fuga      [Altus]     [Bassus]         -   1/1.0   \n",
              "1                      Fuga     [Bassus]      [Tenor]         -   7/3.0   \n",
              "2                      Fuga  [Superius]      [Bassus]         -  11/3.0   \n",
              "3                      Fuga     [Bassus]  [Superius]   [Bassus]  17/1.0   \n",
              "4                      Fuga     [Bassus]  [Superius]   [Bassus]  17/3.0   \n",
              "5                      Fuga      [Altus]      [Tenor]  [Bassus]  26/1.0   \n",
              "6                      Fuga      [Tenor]      [Tenor]         -  30/2.0   \n",
              "7                      Fuga      [Tenor]      [Tenor]         -  30/4.0   \n",
              "8                      Fuga  [Superius]       [Altus]         -  39/2.0   \n",
              "\n",
              "                             sum_durs            \n",
              "entry_number       2       3        1     2   3  \n",
              "0              3/1.0       -     10.0  10.0   -  \n",
              "1              7/4.5       -     12.0  13.0   -  \n",
              "2             13/3.0       -     20.0  10.0   -  \n",
              "3             18/2.0  19/4.0     12.0  10.0  11  \n",
              "4             18/3.0  20/1.0     12.0  10.0  10  \n",
              "5             26/4.0  28/2.0     24.0  14.0  12  \n",
              "6             31/4.0       -     14.0  10.0   -  \n",
              "7             32/1.0       -     12.0  16.0   -  \n",
              "8             43/1.5       -     12.0  11.0   -  "
            ]
          },
          "metadata": {
            "tags": []
          },
          "execution_count": 17
        }
      ]
    },
    {
      "cell_type": "code",
      "metadata": {
        "colab": {
          "base_uri": "https://localhost:8080/",
          "height": 282
        },
        "id": "1-N-_w4g3dFq",
        "outputId": "0dcc42a3-a3f5-4287-a6dd-3276e4a0d6bc"
      },
      "source": [
        "\n",
        "pivot_sort.predicted_type.hist(bins = 20)\n",
        "# pivot_c3.shape"
      ],
      "execution_count": 18,
      "outputs": [
        {
          "output_type": "execute_result",
          "data": {
            "text/plain": [
              "<matplotlib.axes._subplots.AxesSubplot at 0x7fb5ccbe5c50>"
            ]
          },
          "metadata": {
            "tags": []
          },
          "execution_count": 18
        },
        {
          "output_type": "display_data",
          "data": {
            "image/png": "[encoded data removed]",
            "text/plain": [
              "<Figure size 432x288 with 1 Axes>"
            ]
          },
          "metadata": {
            "tags": [],
            "image/png": {
              "width": 362,
              "height": 248
            },
            "needs_background": "light"
          }
        }
      ]
    },
    {
      "cell_type": "code",
      "metadata": {
        "colab": {
          "base_uri": "https://localhost:8080/",
          "height": 296
        },
        "id": "ciPEspra3dFq",
        "outputId": "c36b31d8-fbd3-4146-8b4c-fcc2cfd98170"
      },
      "source": [
        "classified2.plot.scatter(y=\"predicted_type\", x=\"start_offset\")"
      ],
      "execution_count": 19,
      "outputs": [
        {
          "output_type": "execute_result",
          "data": {
            "text/plain": [
              "<matplotlib.axes._subplots.AxesSubplot at 0x7fb5ccbf5590>"
            ]
          },
          "metadata": {
            "tags": []
          },
          "execution_count": 19
        },
        {
          "output_type": "display_data",
          "data": {
            "image/png": "[encoded data removed]",
            "text/plain": [
              "<Figure size 432x288 with 1 Axes>"
            ]
          },
          "metadata": {
            "tags": [],
            "image/png": {
              "width": 400,
              "height": 262
            },
            "needs_background": "light"
          }
        }
      ]
    },
    {
      "cell_type": "code",
      "metadata": {
        "id": "2tJS_pt33dFr"
      },
      "source": [
        "\n",
        "# Final output as CSV\n",
        "pivot_sort\n",
        "\n",
        "pivot_sort.to_csv(\"Herissant_Agnus_Classified_close.csv\")\n",
        "\n"
      ],
      "execution_count": null,
      "outputs": []
    },
    {
      "cell_type": "markdown",
      "metadata": {
        "id": "Sc6Y1pTc3dFr"
      },
      "source": [
        "# Durational Ratios\n",
        "\n",
        "#### This Function Calculates the Ratios of the Durations in each Match"
      ]
    },
    {
      "cell_type": "code",
      "metadata": {
        "id": "4BSeBvpp3dFr"
      },
      "source": [
        "# makes pairs of ratio strings\n",
        "\n",
        "def pairwise(iterable):\n",
        "    \"s -> (s0,s1), (s1,s2), (s2, s3), ...\"\n",
        "    a, b = tee(iterable)\n",
        "    next(b, None)\n",
        "    return zip(a, b)\n",
        "\n",
        "def get_ratios(input_list):\n",
        "    ratio_pairs = []\n",
        "    for a, b in pairwise(input_list):\n",
        "        ratio_pairs.append(b / a)\n",
        "    return ratio_pairs\n",
        "\n",
        "def lists_to_tuples(el):\n",
        "    if isinstance(el, list):\n",
        "        return tuple(el)\n",
        "    else:\n",
        "        return el\n"
      ],
      "execution_count": null,
      "outputs": []
    },
    {
      "cell_type": "markdown",
      "metadata": {
        "id": "x7tp3nN53dFr"
      },
      "source": [
        "#### Now call the function to operate on the RESULTS file from earlier"
      ]
    },
    {
      "cell_type": "code",
      "metadata": {
        "id": "eGFpKQoL3dFr"
      },
      "source": [
        "type(df.note_durations)"
      ],
      "execution_count": null,
      "outputs": []
    },
    {
      "cell_type": "code",
      "metadata": {
        "id": "BVor8YmH3dFr"
      },
      "source": [
        "# calculates 'duration ratios' for each soggetto, then adds this to the DF\n",
        "df2 = results.applymap(lists_to_tuples)\n",
        "# df2[\"note_durations\"].astype(str)\n",
        "df2[\"duration_ratios\"] = df2.note_durations.apply(get_ratios)\n",
        "\n",
        "df_s = df2.drop(columns=[\"ema_url\", \"ema\"])\n",
        "df_s.head(20)"
      ],
      "execution_count": null,
      "outputs": []
    },
    {
      "cell_type": "code",
      "metadata": {
        "id": "AP1MdXdT3dFs"
      },
      "source": [
        "df_s = df[[\"piece_title\", \"pattern_generating_match\", \"part\", \"start_measure\", \"start_offset\"]]\n",
        "df_s.head(20)"
      ],
      "execution_count": null,
      "outputs": []
    },
    {
      "cell_type": "markdown",
      "metadata": {
        "id": "Wm05R4G13dFs"
      },
      "source": [
        "## Group by the Pattern Generating Match\n",
        "- Each has its own string of durations, and duration ratios\n",
        "- and then we compare the ratios to get the differences\n",
        "- the \"list(combinations)\" method takes care of building the pairs, using data from our dataframe 'results'"
      ]
    },
    {
      "cell_type": "code",
      "metadata": {
        "id": "bJYhjPqF3dFs"
      },
      "source": [
        "def compare_ratios(ratios_1, ratios_2):\n",
        "    \n",
        "    ## division of lists \n",
        "    # using zip() + list comprehension \n",
        "    diffs = [i - j for i, j in zip(ratios_1, ratios_2)] \n",
        "    abs_diffs = [abs(ele) for ele in diffs] \n",
        "    sum_diffs = sum(abs_diffs)\n",
        "\n",
        "    return sum_diffs\n",
        "\n",
        "#results[\"Pattern_Generating_Match\"] = results[\"Pattern_Generating_Match\"].apply(tuple) \n",
        "\n",
        "def get_ratio_distances(df_s, pattern_col, output_cols):\n",
        "    \n",
        "    matches = []\n",
        "\n",
        "    for name, group in df_s.groupby(pattern_col):\n",
        "\n",
        "        ratio_pairs = list(combinations(group.index.values, 2))\n",
        "\n",
        "        for a, b in ratio_pairs:\n",
        "            \n",
        "            a_match = df_s.loc[a]\n",
        "            b_match = df_s.loc[b]\n",
        "            \n",
        "            sum_diffs = compare_ratios(a_match.duration_ratios, b_match.duration_ratios)\n",
        "            \n",
        "            match_dict = {\n",
        "                \"pattern\": name,\n",
        "                \"sum_diffs\": sum_diffs\n",
        "            }\n",
        "            \n",
        "            for col in output_cols:\n",
        "                match_dict.update({\n",
        "                    f\"match_1_{col}\": a_match[col],\n",
        "                    f\"match_2_{col}\": b_match[col]\n",
        "                })\n",
        "                \n",
        "            matches.append(match_dict)\n",
        "            \n",
        "    return pd.DataFrame(matches)"
      ],
      "execution_count": null,
      "outputs": []
    },
    {
      "cell_type": "markdown",
      "metadata": {
        "id": "6GiXTkL43dFs"
      },
      "source": [
        "### Now Run the Function to get the 'edit distances' for the durations of matching patterns"
      ]
    },
    {
      "cell_type": "code",
      "metadata": {
        "id": "hUAksC3G3dFs"
      },
      "source": [
        "ratio_distances = get_ratio_distances(df_s, \"pattern_generating_match\", [\"pattern_generating_match\", \"piece_title\", \"part\", \"start_measure\", \"start_beat\", \"start_offset\", \"sum_durs\", \"duration_ratios\"])\n",
        "ratio_distances.sort_values([\"match_1_start_offset\", \"match_2_start_offset\"])"
      ],
      "execution_count": null,
      "outputs": []
    },
    {
      "cell_type": "markdown",
      "metadata": {
        "id": "w-9bMcMk3dFs"
      },
      "source": [
        "## Filters by Differences between Sum of Durations\n"
      ]
    },
    {
      "cell_type": "code",
      "metadata": {
        "id": "N-LTvCc43dFs"
      },
      "source": [
        "by_sum_diffs = ratio_distances[(ratio_distances.match_1_sum_durs - ratio_distances.match_2_sum_durs) <= 2]\n",
        "by_sum_diffs"
      ],
      "execution_count": null,
      "outputs": []
    },
    {
      "cell_type": "markdown",
      "metadata": {
        "id": "CkeAgTux3dFt"
      },
      "source": [
        "### And FILTER the results according to any threshold we like"
      ]
    },
    {
      "cell_type": "code",
      "metadata": {
        "id": "ZW9y7RA93dFt"
      },
      "source": [
        "ratios_filtered = by_sum_diffs[by_sum_diffs.sum_diffs <= 1]\n",
        "ratios_filtered"
      ],
      "execution_count": null,
      "outputs": []
    },
    {
      "cell_type": "code",
      "metadata": {
        "id": "Kqec7Hk63dFt"
      },
      "source": [
        "ratios_filtered = ratios_filtered.sort_values(\"pattern\")\n",
        "ratios_filtered"
      ],
      "execution_count": null,
      "outputs": []
    },
    {
      "cell_type": "markdown",
      "metadata": {
        "id": "EmvHaat23dFt"
      },
      "source": [
        "### Now Group the Duration-Filter Results by the Pattern (which shows us very closely related soggetti in sets)"
      ]
    },
    {
      "cell_type": "code",
      "metadata": {
        "id": "sV5E862M3dFt"
      },
      "source": [
        "new[\"super_match\"] = ratios_filtered.groupby([\"pattern\", \"match_1_start_measure\"], inplace=True)\n",
        "new\n",
        "# grouped"
      ],
      "execution_count": null,
      "outputs": []
    },
    {
      "cell_type": "code",
      "metadata": {
        "id": "G7b35Nq43dFt"
      },
      "source": [
        "grouped.to_csv(\"grouped.csv\")"
      ],
      "execution_count": null,
      "outputs": []
    },
    {
      "cell_type": "markdown",
      "metadata": {
        "id": "M1AaV-mH3dFt"
      },
      "source": [
        "### Greedy Soggetti\n",
        "* Groups by voice part\n",
        "* Gets one voice, then creates shifted cols to contain current+previous intervals and durations\n",
        "* slices each tuple: removes first from previous match and last from current match\n",
        "* if these are identical, then we can merge the two soggetti"
      ]
    },
    {
      "cell_type": "code",
      "metadata": {
        "id": "_mcWlmn63dFu"
      },
      "source": [
        "results[\"pattern_matched\"] = results[\"pattern_matched\"].apply(tuple)\n",
        "# results_s = results.drop(columns=[\"ema_url\", \"ema\", \"duration_ratios\", \"pattern_generating_match\"])\n",
        "# # #results_s[\"group_number\"] = group_number\n",
        "# # results_grouped = results_s.groupby(by=[\"piece_title\", \"part\"])\n",
        "# # results_grouped.sort_values(\"start_measure\")\n",
        "# # results_grouped.head()\n",
        "# results_shifted = results_s.groupby([\"part\"]).shift(1)\n",
        "# results_shifted.head()\n"
      ],
      "execution_count": null,
      "outputs": []
    },
    {
      "cell_type": "code",
      "metadata": {
        "id": "KixT5S0K3dFu"
      },
      "source": [
        "# function to group by piece and part, then add shfted columns to accept Greedy Data\n",
        "# the 'df: pd.DataFrame' here is a way of specifying the type that ought to go here\n",
        "# it's a form of annotation or 'typing'\n",
        "\n",
        "def add_shifted_cols(df: pd.DataFrame,\n",
        "                    group_cols: list,\n",
        "                    shift_cols: list,\n",
        "                    shift_periods=-1,\n",
        "                    shifted_prefix=\"next\"\n",
        "                    ) -> pd.DataFrame:\n",
        "    \n",
        "    \n",
        "    df = df.copy()\n",
        "\n",
        "    df_shifted = df.groupby(group_cols).shift(shift_periods)\n",
        "\n",
        "    df[[ f\"{shifted_prefix}_{c}\" for c in shift_cols]] = df_shifted[shift_cols]\n",
        "\n",
        "    return df"
      ],
      "execution_count": null,
      "outputs": []
    },
    {
      "cell_type": "code",
      "metadata": {
        "id": "hczI4rgw3dFu"
      },
      "source": [
        "# Sequence here helps us deal with tuples in the data, slicing as needed the various lists of vectors and durations\n",
        "\n",
        "from typing import Sequence\n",
        "\n",
        "def add_subsequence_cols(df: pd.DataFrame, this_sequence_cols: Sequence, next_sequence_cols: Sequence) -> pd.DataFrame:\n",
        "\n",
        "    df = df.copy()\n",
        "\n",
        "    for col in this_sequence_cols:\n",
        "            df[f\"{col}_short\"] = df[col].dropna().apply(lambda x: x[1:]) \n",
        "    \n",
        "    for col in next_sequence_cols:\n",
        "            df[f\"{col}_short\"] = df[col].dropna().apply(lambda x: x[:-1])\n",
        "          \n",
        "\n",
        "    return df\n",
        "\n"
      ],
      "execution_count": null,
      "outputs": []
    },
    {
      "cell_type": "code",
      "metadata": {
        "id": "XtceUUd33dFu"
      },
      "source": [
        "# here we call the function to add the cols\n",
        "\n",
        "df_shifted = add_shifted_cols(results,\n",
        "                    group_cols=[\"piece_title\", \"part\"],\n",
        "                    shift_cols=[\"start_measure\", \"end_measure\", \"note_durations\", \"pattern_matched\"])\n",
        "\n",
        "df_brief = df_shifted.sort_values(\"start_measure\").drop(columns=[\"ema\", \"ema_url\", \"pattern_generating_match\"])\n",
        "df_brief"
      ],
      "execution_count": null,
      "outputs": []
    },
    {
      "cell_type": "code",
      "metadata": {
        "id": "i4FmlGrc3dFu"
      },
      "source": [
        "# And here we call the function to slice and enter the data\n",
        "\n",
        "df_brief = add_subsequence_cols(df_shifted, \n",
        "    this_sequence_cols=[\"pattern_matched\", \"note_durations\"], \n",
        "    next_sequence_cols=[\"next_pattern_matched\", \"next_note_durations\"]\n",
        "    )\n",
        "df_brief.drop(columns=[\"ema\", \"ema_url\", \"pattern_generating_match\", \"duration_ratios\"])"
      ],
      "execution_count": null,
      "outputs": []
    },
    {
      "cell_type": "code",
      "metadata": {
        "id": "W0t4krRU3dFu"
      },
      "source": [
        "# Now  filter previous results to make sure the melodic and rhythmic vectors match for each sequence\n",
        "\n",
        "df_filter_durs = df_brief[df_brief[\"note_durations_short\"] == df_brief[\"next_note_durations_short\"]]\n",
        "df_filter_patts = df_filter_durs[df_filter_durs[\"pattern_matched_short\"] == df_filter_durs[\"next_pattern_matched_short\"]]\n",
        "df_filter_patts.count()"
      ],
      "execution_count": null,
      "outputs": []
    },
    {
      "cell_type": "code",
      "metadata": {
        "id": "NuSeCXhB3dFu"
      },
      "source": [
        "# This is just a way to inspect a single voice\n",
        "\n",
        "df_filter_one_voice = df_filter_patts[df_filter_patts[\"part\"].str.contains('Contratenor')]\n",
        "df_filter_one_voice.head()"
      ],
      "execution_count": null,
      "outputs": []
    },
    {
      "cell_type": "code",
      "metadata": {
        "id": "g2j6vsXd3dFv"
      },
      "source": [
        "# Make sure there are no NaN values \n",
        "\n",
        "# Add new column for check of matching end measures +1 (which we do by subtracting 1, then checking for ==)\n",
        "# combine the results:  these are the soggetti that need to get Greedy\n",
        "\n",
        "df_filter_patts['next_end_measure'].fillna(0)\n",
        "df_filter_patts['next_end_measure_minus'] = df_filter_patts['next_end_measure'].apply(lambda x: x-1)\n",
        "df_test_1 = df_filter_patts[df_filter_patts[\"end_measure\"] == df_filter_patts[\"next_end_measure\"]]\n",
        "df_test_2 = df_filter_patts[df_filter_patts[\"end_measure\"] == df_filter_patts[\"next_end_measure_minus\"]]\n",
        "df_test_combined = pd.concat([df_test_1, df_test_2])\n",
        "df_test_combined\n"
      ],
      "execution_count": null,
      "outputs": []
    }
  ]
}